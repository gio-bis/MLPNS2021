{
  "nbformat": 4,
  "nbformat_minor": 0,
  "metadata": {
    "colab": {
      "name": "Untitled15.ipynb",
      "provenance": [],
      "authorship_tag": "ABX9TyPwdfTYnYpk0P7NwP7iI980",
      "include_colab_link": true
    },
    "kernelspec": {
      "name": "python3",
      "display_name": "Python 3"
    },
    "language_info": {
      "name": "python"
    }
  },
  "cells": [
    {
      "cell_type": "markdown",
      "metadata": {
        "id": "view-in-github",
        "colab_type": "text"
      },
      "source": [
        "<a href=\"https://colab.research.google.com/github/gio-bis/MLPNS2021/blob/main/layers.ipynb\" target=\"_parent\"><img src=\"https://colab.research.google.com/assets/colab-badge.svg\" alt=\"Open In Colab\"/></a>"
      ]
    },
    {
      "cell_type": "code",
      "metadata": {
        "colab": {
          "base_uri": "https://localhost:8080/"
        },
        "id": "K9AtClUxK677",
        "outputId": "53f279a1-2353-42ff-d315-c0695b8fb66b"
      },
      "source": [
        "import numpy  as np\n",
        "from sklearn import linear_model\n",
        "from sklearn.linear_model import LogisticRegression, RidgeClassifierCV\n",
        "from sklearn.ensemble import RandomForestClassifier, GradientBoostingClassifier\n",
        "from sklearn import preprocessing\n",
        "from sklearn.model_selection import train_test_split, cross_val_score\n",
        "from sklearn import ensemble\n",
        "from sklearn import metrics\n",
        "from sklearn import tree\n",
        "!  brew install graphviz\n",
        "import graphviz\n",
        "import pylab as pl\n",
        "pl.rcParams[\"font.size\"] = 18\n",
        "pl.rcParams[\"figure.figsize\"] = (10,10)\n",
        "%pylab inline\n",
        "import os, zipfile"
      ],
      "execution_count": 17,
      "outputs": [
        {
          "output_type": "stream",
          "text": [
            "/bin/bash: brew: command not found\n",
            "Populating the interactive namespace from numpy and matplotlib\n"
          ],
          "name": "stdout"
        }
      ]
    },
    {
      "cell_type": "code",
      "metadata": {
        "id": "3lhHhy41K80N"
      },
      "source": [
        "X = np.array([[0,0,1],\n",
        "             [0,1,1],\n",
        "             [1,0,1],\n",
        "             [1,1,1]])"
      ],
      "execution_count": 18,
      "outputs": []
    },
    {
      "cell_type": "code",
      "metadata": {
        "colab": {
          "base_uri": "https://localhost:8080/",
          "height": 287
        },
        "id": "cMAAnHPBLziN",
        "outputId": "3dfe987b-869d-4e78-eced-24d0e7591a4d"
      },
      "source": [
        "pl.imshow(X)"
      ],
      "execution_count": 19,
      "outputs": [
        {
          "output_type": "execute_result",
          "data": {
            "text/plain": [
              "<matplotlib.image.AxesImage at 0x7f37ae16c210>"
            ]
          },
          "metadata": {
            "tags": []
          },
          "execution_count": 19
        },
        {
          "output_type": "display_data",
          "data": {
            "image/png": "[encoded data removed]",
            "text/plain": [
              "<Figure size 432x288 with 1 Axes>"
            ]
          },
          "metadata": {
            "tags": [],
            "needs_background": "light"
          }
        }
      ]
    },
    {
      "cell_type": "code",
      "metadata": {
        "colab": {
          "base_uri": "https://localhost:8080/"
        },
        "id": "MRDdpH4PLf-f",
        "outputId": "d3aac72b-323c-4ec8-ac4a-33ca07f94fd5"
      },
      "source": [
        "y = np.array([[0,1,1,0]]).T\n",
        "y"
      ],
      "execution_count": 20,
      "outputs": [
        {
          "output_type": "execute_result",
          "data": {
            "text/plain": [
              "array([[0],\n",
              "       [1],\n",
              "       [1],\n",
              "       [0]])"
            ]
          },
          "metadata": {
            "tags": []
          },
          "execution_count": 20
        }
      ]
    },
    {
      "cell_type": "code",
      "metadata": {
        "id": "MAnbzHUDLn_F"
      },
      "source": [
        "def sigmoid(x):\n",
        "  return 1. / (1 + np.exp(-x))"
      ],
      "execution_count": 21,
      "outputs": []
    },
    {
      "cell_type": "code",
      "metadata": {
        "id": "M86nd9lsLtYx"
      },
      "source": [
        "def loss(prediction):\n",
        "  return y - prediction"
      ],
      "execution_count": 22,
      "outputs": []
    },
    {
      "cell_type": "code",
      "metadata": {
        "id": "15ze4QraN9Wf"
      },
      "source": [
        "def dsigmoid(x):\n",
        "  return x * (1 - x)"
      ],
      "execution_count": 34,
      "outputs": []
    },
    {
      "cell_type": "code",
      "metadata": {
        "id": "vwAqu_FxL3Ko"
      },
      "source": [
        "training = 6000"
      ],
      "execution_count": 23,
      "outputs": []
    },
    {
      "cell_type": "code",
      "metadata": {
        "id": "xfcozxbkL5hP"
      },
      "source": [
        "np.random.seed(1) #affinché il network sia deterministico siccome uso numeri casuali"
      ],
      "execution_count": 28,
      "outputs": []
    },
    {
      "cell_type": "code",
      "metadata": {
        "colab": {
          "base_uri": "https://localhost:8080/"
        },
        "id": "mrcob87cMFSV",
        "outputId": "34052628-bf71-416d-da3d-5446d6da34ab"
      },
      "source": [
        "syn0 = 2 * np.random.random((3, 1)) - 1\n",
        "for inter in range(training):\n",
        "  inputLayer = X\n",
        "  l1 = np.dot(inputLayer, syn0)\n",
        "  output = sigmoid(l1)\n",
        "  output_error = loss(output)\n",
        "  output_delta = output_error * dsigmoid(output)\n",
        "\n",
        "  syn0 += np.dot(inputLayer.T, output_delta)\n",
        "print(output)\n",
        "print(y)"
      ],
      "execution_count": 38,
      "outputs": [
        {
          "output_type": "stream",
          "text": [
            "[[0.5]\n",
            " [0.5]\n",
            " [0.5]\n",
            " [0.5]]\n",
            "[[0]\n",
            " [1]\n",
            " [1]\n",
            " [0]]\n"
          ],
          "name": "stdout"
        }
      ]
    },
    {
      "cell_type": "code",
      "metadata": {
        "colab": {
          "base_uri": "https://localhost:8080/"
        },
        "id": "gOjBkck0Os2m",
        "outputId": "3f983e84-1c1a-4dbf-d7dd-840bbdab74a7"
      },
      "source": [
        "np.random.seed(1)\n",
        "\n",
        "syn0 = 2 * np.random.random((3, 4)) - 1\n",
        "syn1 = 2 * np.random.random((4, 1)) - 1\n",
        "\n",
        "print (syn0.shape, \"\\n\", syn1.shape)\n",
        "\n",
        "loss_hidden = []\n",
        "loss_output = []\n",
        "\n",
        "#layers\n",
        "for iterate in range(training):\n",
        "  inputLayer = X\n",
        "  la1 = np.dot(inputLayer, syn0)\n",
        "  layer1out = sigmoid(la1)\n",
        "\n",
        "  la2 = np.dot(layer1out, syn1)\n",
        "  outputLayer = sigmoid(la2)\n",
        "\n",
        "  outputLayer_error = loss(outputLayer)\n",
        "  loss_output.append(outputLayer_error.sum())\n",
        "  outputLayer_delta = outputLayer_error * dsigmoid(outputLayer)\n",
        "\n",
        "  l1_error = outputLayer_delta.dot(syn1.T)\n",
        "  loss_hidden.append(l1_error.sum())\n",
        "  l1_delta = l1_error * dsigmoid(layer1out)\n",
        " \n",
        "  # back propagation step\n",
        "  # multiply how much we missed by the\n",
        "  # slope of the sigmoid at the values in l1\n",
        "\n",
        "  syn1 += outputLayer.T.dot(outputLayer_delta)\n",
        "  syn0 += inputLayer.T.dot(l1_delta)\n",
        "  \n",
        "print (\"Final Prediction:\\n\", outputLayer)\n",
        "\n",
        "print (\"target: \\n\", y)"
      ],
      "execution_count": 47,
      "outputs": [
        {
          "output_type": "stream",
          "text": [
            "(3, 4) \n",
            " (4, 1)\n",
            "Final Prediction:\n",
            " [[0.31835034]\n",
            " [0.66565209]\n",
            " [0.74911233]\n",
            " [0.50144929]]\n",
            "target: \n",
            " [[0]\n",
            " [1]\n",
            " [1]\n",
            " [0]]\n"
          ],
          "name": "stdout"
        }
      ]
    },
    {
      "cell_type": "code",
      "metadata": {
        "colab": {
          "base_uri": "https://localhost:8080/",
          "height": 297
        },
        "id": "EWn2CGunQCmn",
        "outputId": "f23e657a-c672-42e7-a10d-daa8538a48c9"
      },
      "source": [
        "pl.plot(loss_output, label = \"output\")\n",
        "pl.plot(loss_hidden, label = \"hidden\")\n",
        "pl.legend()\n",
        "pl.xlabel(\"iteration\")\n",
        "pl.ylabel(\"loss\")"
      ],
      "execution_count": 48,
      "outputs": [
        {
          "output_type": "execute_result",
          "data": {
            "text/plain": [
              "Text(0, 0.5, 'loss')"
            ]
          },
          "metadata": {
            "tags": []
          },
          "execution_count": 48
        },
        {
          "output_type": "display_data",
          "data": {
            "image/png": "[encoded data removed]",
            "text/plain": [
              "<Figure size 432x288 with 1 Axes>"
            ]
          },
          "metadata": {
            "tags": [],
            "needs_background": "light"
          }
        }
      ]
    },
    {
      "cell_type": "code",
      "metadata": {
        "colab": {
          "base_uri": "https://localhost:8080/"
        },
        "id": "xsiIyRIYRetO",
        "outputId": "5758565a-3264-4976-cb7b-319e21490a80"
      },
      "source": [
        "layer1out"
      ],
      "execution_count": 49,
      "outputs": [
        {
          "output_type": "execute_result",
          "data": {
            "text/plain": [
              "array([[9.38412798e-01, 6.61114358e-03, 9.80056918e-01, 1.15596724e-02],\n",
              "       [2.17502406e-02, 2.21368827e-07, 7.33249344e-03, 9.85529858e-01],\n",
              "       [3.51248388e-02, 9.86805185e-01, 1.15306887e-02, 7.36326843e-07],\n",
              "       [5.31166914e-05, 2.48146616e-03, 1.75339654e-06, 4.26986876e-03]])"
            ]
          },
          "metadata": {
            "tags": []
          },
          "execution_count": 49
        }
      ]
    }
  ]
}