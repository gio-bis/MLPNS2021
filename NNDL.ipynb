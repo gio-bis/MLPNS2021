{
  "nbformat": 4,
  "nbformat_minor": 0,
  "metadata": {
    "colab": {
      "name": "Untitled17.ipynb",
      "provenance": [],
      "authorship_tag": "ABX9TyN9NvXMSiGpwX7HGNMMHhkG",
      "include_colab_link": true
    },
    "kernelspec": {
      "name": "python3",
      "display_name": "Python 3"
    },
    "language_info": {
      "name": "python"
    },
    "accelerator": "GPU"
  },
  "cells": [
    {
      "cell_type": "markdown",
      "metadata": {
        "id": "view-in-github",
        "colab_type": "text"
      },
      "source": [
        "<a href=\"https://colab.research.google.com/github/gio-bis/MLPNS2021/blob/main/NNDL.ipynb\" target=\"_parent\"><img src=\"https://colab.research.google.com/assets/colab-badge.svg\" alt=\"Open In Colab\"/></a>"
      ]
    },
    {
      "cell_type": "code",
      "metadata": {
        "id": "AqcuAK6igOX3"
      },
      "source": [
        "import keras\n",
        "from keras.datasets import mnist\n",
        "from keras.models import Sequential\n",
        "from keras.layers import Dense#, Dropout, Flatten\n",
        "#from keras.layers import Conv2D, MaxPooling2D\n",
        "from keras import backend as K\n",
        "import glob\n",
        "import pylab as pl\n",
        "import numpy as np\n",
        "from PIL import Image"
      ],
      "execution_count": 95,
      "outputs": []
    },
    {
      "cell_type": "code",
      "metadata": {
        "colab": {
          "base_uri": "https://localhost:8080/",
          "height": 265
        },
        "id": "3qS9x5dkgPuK",
        "outputId": "20d51e34-6025-421b-da18-0067e5b590db"
      },
      "source": [
        "from keras.datasets import mnist\n",
        "(x_train, _), (x_test, _) = mnist.load_data()\n",
        "\n",
        "img_rows, img_cols = 28, 28\n",
        "pl.imshow(x_train[0])\n",
        "pl.axis('off')\n",
        "intialshape = x_train[0].shape\n",
        "ndim = np.prod(x_train[0].shape)\n",
        "x_train.shape"
      ],
      "execution_count": 96,
      "outputs": [
        {
          "output_type": "execute_result",
          "data": {
            "text/plain": [
              "(60000, 28, 28)"
            ]
          },
          "metadata": {
            "tags": []
          },
          "execution_count": 96
        },
        {
          "output_type": "display_data",
          "data": {
            "image/png": "[encoded data removed]",
            "text/plain": [
              "<Figure size 432x288 with 1 Axes>"
            ]
          },
          "metadata": {
            "tags": [],
            "needs_background": "light"
          }
        }
      ]
    },
    {
      "cell_type": "code",
      "metadata": {
        "colab": {
          "base_uri": "https://localhost:8080/"
        },
        "id": "ELv-dLSdg0NR",
        "outputId": "fc673823-cf6e-484f-989a-728400a48f28"
      },
      "source": [
        "x_train.dtype, x_train.max(), x_train.min()"
      ],
      "execution_count": 97,
      "outputs": [
        {
          "output_type": "execute_result",
          "data": {
            "text/plain": [
              "(dtype('uint8'), 255, 0)"
            ]
          },
          "metadata": {
            "tags": []
          },
          "execution_count": 97
        }
      ]
    },
    {
      "cell_type": "code",
      "metadata": {
        "colab": {
          "base_uri": "https://localhost:8080/"
        },
        "id": "N5DdRvl_g2k6",
        "outputId": "7adfc49b-8284-42f5-c8e8-16ee126635a8"
      },
      "source": [
        "#divido per 255 per normalizzare\n",
        "x_train = (x_train.astype(float) / 255).reshape(len(x_train), ndim)\n",
        "x_test = (x_test.astype(float) / 255).reshape(len(x_test), ndim)\n",
        "x_train.shape, x_test.shape   "
      ],
      "execution_count": 98,
      "outputs": [
        {
          "output_type": "execute_result",
          "data": {
            "text/plain": [
              "((60000, 784), (10000, 784))"
            ]
          },
          "metadata": {
            "tags": []
          },
          "execution_count": 98
        }
      ]
    },
    {
      "cell_type": "code",
      "metadata": {
        "id": "HZcmm8pig5Mt"
      },
      "source": [
        "model_digits64 = Sequential()\n",
        "## encoder\n",
        "# input layer and the output size\n",
        "model_digits64.add(Dense(units = 128, activation = 'linear',input_shape=(784,)))\n",
        "  #compression layer\n",
        "model_digits64.add(Dense(units = 64, activation = 'linear'))\n",
        "## deencoder\n",
        "#decompression layer, same size as in the encoder\n",
        "model_digits64.add(Dense(units = 128, activation = 'linear'))\n",
        "#output layer, same size as input\n",
        "model_digits64.add(Dense(ndim, activation='linear'))\n",
        "\n"
      ],
      "execution_count": 99,
      "outputs": []
    },
    {
      "cell_type": "code",
      "metadata": {
        "id": "pUmncaUnlVjo"
      },
      "source": [
        "model_digits64.compile(optimizer='SGD', loss ='mean_squared_error')"
      ],
      "execution_count": 100,
      "outputs": []
    },
    {
      "cell_type": "code",
      "metadata": {
        "id": "DZkCdpBOl7Uc"
      },
      "source": [
        "model_digits64.compile(optimizer = keras.optimizers.Adam(lr=0.001), loss = 'mean_squared_error')"
      ],
      "execution_count": 101,
      "outputs": []
    },
    {
      "cell_type": "code",
      "metadata": {
        "colab": {
          "base_uri": "https://localhost:8080/"
        },
        "id": "gEGAjHTZmgQ8",
        "outputId": "fecde1f2-8df0-4a0b-bc7a-00bcb6c60111"
      },
      "source": [
        "print(model_digits64.summary())"
      ],
      "execution_count": 102,
      "outputs": [
        {
          "output_type": "stream",
          "text": [
            "Model: \"sequential_10\"\n",
            "_________________________________________________________________\n",
            "Layer (type)                 Output Shape              Param #   \n",
            "=================================================================\n",
            "dense_33 (Dense)             (None, 128)               100480    \n",
            "_________________________________________________________________\n",
            "dense_34 (Dense)             (None, 64)                8256      \n",
            "_________________________________________________________________\n",
            "dense_35 (Dense)             (None, 128)               8320      \n",
            "_________________________________________________________________\n",
            "dense_36 (Dense)             (None, 784)               101136    \n",
            "=================================================================\n",
            "Total params: 218,192\n",
            "Trainable params: 218,192\n",
            "Non-trainable params: 0\n",
            "_________________________________________________________________\n",
            "None\n"
          ],
          "name": "stdout"
        }
      ]
    },
    {
      "cell_type": "code",
      "metadata": {
        "colab": {
          "base_uri": "https://localhost:8080/"
        },
        "id": "Aid0i6RUnrAb",
        "outputId": "de3aa168-8db7-432b-cef6-ddd7aee31b9e"
      },
      "source": [
        "history64 = model_digits64.fit(x_train, x_train, \n",
        "                               validation_data=(x_test, x_test),\n",
        "                               epochs=60, batch_size=100, verbose=1)"
      ],
      "execution_count": 103,
      "outputs": [
        {
          "output_type": "stream",
          "text": [
            "Epoch 1/60\n",
            "600/600 [==============================] - 2s 3ms/step - loss: 0.0374 - val_loss: 0.0108\n",
            "Epoch 2/60\n",
            "600/600 [==============================] - 2s 3ms/step - loss: 0.0105 - val_loss: 0.0095\n",
            "Epoch 3/60\n",
            "600/600 [==============================] - 2s 3ms/step - loss: 0.0097 - val_loss: 0.0093\n",
            "Epoch 4/60\n",
            "600/600 [==============================] - 2s 3ms/step - loss: 0.0096 - val_loss: 0.0093\n",
            "Epoch 5/60\n",
            "600/600 [==============================] - 2s 3ms/step - loss: 0.0095 - val_loss: 0.0092\n",
            "Epoch 6/60\n",
            "600/600 [==============================] - 2s 3ms/step - loss: 0.0095 - val_loss: 0.0092\n",
            "Epoch 7/60\n",
            "600/600 [==============================] - 2s 3ms/step - loss: 0.0095 - val_loss: 0.0092\n",
            "Epoch 8/60\n",
            "600/600 [==============================] - 2s 3ms/step - loss: 0.0095 - val_loss: 0.0092\n",
            "Epoch 9/60\n",
            "600/600 [==============================] - 2s 3ms/step - loss: 0.0095 - val_loss: 0.0092\n",
            "Epoch 10/60\n",
            "600/600 [==============================] - 2s 3ms/step - loss: 0.0095 - val_loss: 0.0092\n",
            "Epoch 11/60\n",
            "600/600 [==============================] - 2s 3ms/step - loss: 0.0095 - val_loss: 0.0092\n",
            "Epoch 12/60\n",
            "600/600 [==============================] - 2s 3ms/step - loss: 0.0095 - val_loss: 0.0092\n",
            "Epoch 13/60\n",
            "600/600 [==============================] - 2s 3ms/step - loss: 0.0095 - val_loss: 0.0092\n",
            "Epoch 14/60\n",
            "600/600 [==============================] - 2s 3ms/step - loss: 0.0095 - val_loss: 0.0092\n",
            "Epoch 15/60\n",
            "600/600 [==============================] - 2s 3ms/step - loss: 0.0094 - val_loss: 0.0092\n",
            "Epoch 16/60\n",
            "600/600 [==============================] - 2s 3ms/step - loss: 0.0095 - val_loss: 0.0092\n",
            "Epoch 17/60\n",
            "600/600 [==============================] - 2s 3ms/step - loss: 0.0094 - val_loss: 0.0092\n",
            "Epoch 18/60\n",
            "600/600 [==============================] - 2s 3ms/step - loss: 0.0094 - val_loss: 0.0092\n",
            "Epoch 19/60\n",
            "600/600 [==============================] - 2s 3ms/step - loss: 0.0094 - val_loss: 0.0092\n",
            "Epoch 20/60\n",
            "600/600 [==============================] - 2s 3ms/step - loss: 0.0094 - val_loss: 0.0091\n",
            "Epoch 21/60\n",
            "600/600 [==============================] - 2s 3ms/step - loss: 0.0094 - val_loss: 0.0092\n",
            "Epoch 22/60\n",
            "600/600 [==============================] - 2s 3ms/step - loss: 0.0094 - val_loss: 0.0092\n",
            "Epoch 23/60\n",
            "600/600 [==============================] - 2s 3ms/step - loss: 0.0094 - val_loss: 0.0092\n",
            "Epoch 24/60\n",
            "600/600 [==============================] - 2s 3ms/step - loss: 0.0094 - val_loss: 0.0092\n",
            "Epoch 25/60\n",
            "600/600 [==============================] - 2s 3ms/step - loss: 0.0094 - val_loss: 0.0092\n",
            "Epoch 26/60\n",
            "600/600 [==============================] - 2s 3ms/step - loss: 0.0094 - val_loss: 0.0091\n",
            "Epoch 27/60\n",
            "600/600 [==============================] - 2s 3ms/step - loss: 0.0094 - val_loss: 0.0091\n",
            "Epoch 28/60\n",
            "600/600 [==============================] - 2s 3ms/step - loss: 0.0094 - val_loss: 0.0091\n",
            "Epoch 29/60\n",
            "600/600 [==============================] - 2s 3ms/step - loss: 0.0094 - val_loss: 0.0091\n",
            "Epoch 30/60\n",
            "600/600 [==============================] - 2s 3ms/step - loss: 0.0094 - val_loss: 0.0091\n",
            "Epoch 31/60\n",
            "600/600 [==============================] - 2s 3ms/step - loss: 0.0094 - val_loss: 0.0091\n",
            "Epoch 32/60\n",
            "600/600 [==============================] - 2s 3ms/step - loss: 0.0094 - val_loss: 0.0091\n",
            "Epoch 33/60\n",
            "600/600 [==============================] - 2s 3ms/step - loss: 0.0094 - val_loss: 0.0091\n",
            "Epoch 34/60\n",
            "600/600 [==============================] - 2s 3ms/step - loss: 0.0094 - val_loss: 0.0091\n",
            "Epoch 35/60\n",
            "600/600 [==============================] - 2s 3ms/step - loss: 0.0094 - val_loss: 0.0092\n",
            "Epoch 36/60\n",
            "600/600 [==============================] - 2s 3ms/step - loss: 0.0094 - val_loss: 0.0091\n",
            "Epoch 37/60\n",
            "600/600 [==============================] - 2s 3ms/step - loss: 0.0094 - val_loss: 0.0091\n",
            "Epoch 38/60\n",
            "600/600 [==============================] - 2s 3ms/step - loss: 0.0094 - val_loss: 0.0091\n",
            "Epoch 39/60\n",
            "600/600 [==============================] - 2s 3ms/step - loss: 0.0094 - val_loss: 0.0091\n",
            "Epoch 40/60\n",
            "600/600 [==============================] - 2s 3ms/step - loss: 0.0094 - val_loss: 0.0091\n",
            "Epoch 41/60\n",
            "600/600 [==============================] - 2s 3ms/step - loss: 0.0094 - val_loss: 0.0091\n",
            "Epoch 42/60\n",
            "600/600 [==============================] - 2s 3ms/step - loss: 0.0094 - val_loss: 0.0091\n",
            "Epoch 43/60\n",
            "600/600 [==============================] - 2s 3ms/step - loss: 0.0094 - val_loss: 0.0092\n",
            "Epoch 44/60\n",
            "600/600 [==============================] - 2s 3ms/step - loss: 0.0094 - val_loss: 0.0091\n",
            "Epoch 45/60\n",
            "600/600 [==============================] - 2s 3ms/step - loss: 0.0094 - val_loss: 0.0091\n",
            "Epoch 46/60\n",
            "600/600 [==============================] - 2s 3ms/step - loss: 0.0094 - val_loss: 0.0091\n",
            "Epoch 47/60\n",
            "600/600 [==============================] - 2s 3ms/step - loss: 0.0094 - val_loss: 0.0091\n",
            "Epoch 48/60\n",
            "600/600 [==============================] - 2s 3ms/step - loss: 0.0094 - val_loss: 0.0091\n",
            "Epoch 49/60\n",
            "600/600 [==============================] - 2s 3ms/step - loss: 0.0094 - val_loss: 0.0091\n",
            "Epoch 50/60\n",
            "600/600 [==============================] - 2s 3ms/step - loss: 0.0094 - val_loss: 0.0092\n",
            "Epoch 51/60\n",
            "600/600 [==============================] - 2s 3ms/step - loss: 0.0094 - val_loss: 0.0091\n",
            "Epoch 52/60\n",
            "600/600 [==============================] - 2s 3ms/step - loss: 0.0094 - val_loss: 0.0091\n",
            "Epoch 53/60\n",
            "600/600 [==============================] - 2s 3ms/step - loss: 0.0094 - val_loss: 0.0091\n",
            "Epoch 54/60\n",
            "600/600 [==============================] - 2s 3ms/step - loss: 0.0094 - val_loss: 0.0091\n",
            "Epoch 55/60\n",
            "600/600 [==============================] - 2s 3ms/step - loss: 0.0094 - val_loss: 0.0091\n",
            "Epoch 56/60\n",
            "600/600 [==============================] - 2s 3ms/step - loss: 0.0094 - val_loss: 0.0091\n",
            "Epoch 57/60\n",
            "600/600 [==============================] - 2s 3ms/step - loss: 0.0093 - val_loss: 0.0091\n",
            "Epoch 58/60\n",
            "600/600 [==============================] - 2s 3ms/step - loss: 0.0094 - val_loss: 0.0091\n",
            "Epoch 59/60\n",
            "600/600 [==============================] - 2s 3ms/step - loss: 0.0094 - val_loss: 0.0091\n",
            "Epoch 60/60\n",
            "600/600 [==============================] - 2s 3ms/step - loss: 0.0094 - val_loss: 0.0091\n"
          ],
          "name": "stdout"
        }
      ]
    },
    {
      "cell_type": "code",
      "metadata": {
        "colab": {
          "base_uri": "https://localhost:8080/",
          "height": 297
        },
        "id": "VKFmg4gRpnDc",
        "outputId": "7c05ccfa-8663-47df-99c6-6e1a76557cf8"
      },
      "source": [
        "pl.plot(np.array(history64.history['loss']))\n",
        "pl.ylabel('loss')\n",
        "pl.xlabel('iteration')\n",
        "#pl.yscale('log')\n",
        "#pl.xscale('log')"
      ],
      "execution_count": 104,
      "outputs": [
        {
          "output_type": "execute_result",
          "data": {
            "text/plain": [
              "Text(0.5, 0, 'iteration')"
            ]
          },
          "metadata": {
            "tags": []
          },
          "execution_count": 104
        },
        {
          "output_type": "display_data",
          "data": {
            "image/png": "[encoded data removed]",
            "text/plain": [
              "<Figure size 432x288 with 1 Axes>"
            ]
          },
          "metadata": {
            "tags": [],
            "needs_background": "light"
          }
        }
      ]
    },
    {
      "cell_type": "code",
      "metadata": {
        "id": "fsue3pOKpv6S"
      },
      "source": [
        "output_image64 = model_digits64.predict(x_test)"
      ],
      "execution_count": 105,
      "outputs": []
    },
    {
      "cell_type": "code",
      "metadata": {
        "id": "TTS0TVrnpyDN"
      },
      "source": [
        "def compareinout(i, outim, testimg, initialshape=(28,28)):\n",
        "  fig = pl.figure(figsize=(10,5))\n",
        "  ax = fig.add_subplot(121) \n",
        "  ax.imshow(testimg[i].reshape(initialshape) , cmap=\"bone\")\n",
        "  ax.get_xaxis().set_visible(False)\n",
        "  ax.get_yaxis().set_visible(False)\n",
        "  ax = fig.add_subplot(122) \n",
        "  ax.imshow(outim[i].reshape(initialshape) , cmap=\"bone\")\n",
        "  ax.get_xaxis().set_visible(False)\n",
        "  ax.get_yaxis().set_visible(False)"
      ],
      "execution_count": 106,
      "outputs": []
    },
    {
      "cell_type": "code",
      "metadata": {
        "colab": {
          "base_uri": "https://localhost:8080/",
          "height": 1000
        },
        "id": "5hSGz3dbp41s",
        "outputId": "e94b0cd6-7018-4d26-d63d-a0e344bc6dd3"
      },
      "source": [
        "for i in range(10):\n",
        "  compareinout(i, output_image64, x_test)"
      ],
      "execution_count": 107,
      "outputs": [
        {
          "output_type": "display_data",
          "data": {
            "image/png": "[encoded data removed]",
            "text/plain": [
              "<Figure size 720x360 with 2 Axes>"
            ]
          },
          "metadata": {
            "tags": [],
            "needs_background": "light"
          }
        },
        {
          "output_type": "display_data",
          "data": {
            "image/png": "[encoded data removed]",
            "text/plain": [
              "<Figure size 720x360 with 2 Axes>"
            ]
          },
          "metadata": {
            "tags": [],
            "needs_background": "light"
          }
        },
        {
          "output_type": "display_data",
          "data": {
            "image/png": "[encoded data removed]",
            "text/plain": [
              "<Figure size 720x360 with 2 Axes>"
            ]
          },
          "metadata": {
            "tags": [],
            "needs_background": "light"
          }
        },
        {
          "output_type": "display_data",
          "data": {
            "image/png": "[encoded data removed]",
            "text/plain": [
              "<Figure size 720x360 with 2 Axes>"
            ]
          },
          "metadata": {
            "tags": [],
            "needs_background": "light"
          }
        },
        {
          "output_type": "display_data",
          "data": {
            "image/png": "[encoded data removed]",
            "text/plain": [
              "<Figure size 720x360 with 2 Axes>"
            ]
          },
          "metadata": {
            "tags": [],
            "needs_background": "light"
          }
        },
        {
          "output_type": "display_data",
          "data": {
            "image/png": "[encoded data removed]",
            "text/plain": [
              "<Figure size 720x360 with 2 Axes>"
            ]
          },
          "metadata": {
            "tags": [],
            "needs_background": "light"
          }
        },
        {
          "output_type": "display_data",
          "data": {
            "image/png": "[encoded data removed]",
            "text/plain": [
              "<Figure size 720x360 with 2 Axes>"
            ]
          },
          "metadata": {
            "tags": [],
            "needs_background": "light"
          }
        },
        {
          "output_type": "display_data",
          "data": {
            "image/png": "[encoded data removed]",
            "text/plain": [
              "<Figure size 720x360 with 2 Axes>"
            ]
          },
          "metadata": {
            "tags": [],
            "needs_background": "light"
          }
        },
        {
          "output_type": "display_data",
          "data": {
            "image/png": "[encoded data removed]",
            "text/plain": [
              "<Figure size 720x360 with 2 Axes>"
            ]
          },
          "metadata": {
            "tags": [],
            "needs_background": "light"
          }
        },
        {
          "output_type": "display_data",
          "data": {
            "image/png": "[encoded data removed]",
            "text/plain": [
              "<Figure size 720x360 with 2 Axes>"
            ]
          },
          "metadata": {
            "tags": [],
            "needs_background": "light"
          }
        }
      ]
    }
  ]
}