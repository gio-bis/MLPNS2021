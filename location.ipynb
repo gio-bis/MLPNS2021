{
  "nbformat": 4,
  "nbformat_minor": 0,
  "metadata": {
    "colab": {
      "name": "location.ipynb",
      "provenance": [],
      "authorship_tag": "ABX9TyNXXec95KDwNqaLXadV9PWJ",
      "include_colab_link": true
    },
    "kernelspec": {
      "name": "python3",
      "display_name": "Python 3"
    },
    "language_info": {
      "name": "python"
    }
  },
  "cells": [
    {
      "cell_type": "markdown",
      "metadata": {
        "id": "view-in-github",
        "colab_type": "text"
      },
      "source": [
        "<a href=\"https://colab.research.google.com/github/gio-bis/MLPNS2021/blob/main/location.ipynb\" target=\"_parent\"><img src=\"https://colab.research.google.com/assets/colab-badge.svg\" alt=\"Open In Colab\"/></a>"
      ]
    },
    {
      "cell_type": "code",
      "metadata": {
        "colab": {
          "base_uri": "https://localhost:8080/"
        },
        "id": "Xw_QVME2KbdL",
        "outputId": "4525cc3b-d3d6-44e2-9102-a8ca2abcaace"
      },
      "source": [
        "!pip install geopandas"
      ],
      "execution_count": 28,
      "outputs": [
        {
          "output_type": "stream",
          "text": [
            "Requirement already satisfied: geopandas in /usr/local/lib/python3.7/dist-packages (0.9.0)\n",
            "Requirement already satisfied: pandas>=0.24.0 in /usr/local/lib/python3.7/dist-packages (from geopandas) (1.1.5)\n",
            "Requirement already satisfied: fiona>=1.8 in /usr/local/lib/python3.7/dist-packages (from geopandas) (1.8.19)\n",
            "Requirement already satisfied: pyproj>=2.2.0 in /usr/local/lib/python3.7/dist-packages (from geopandas) (3.0.1)\n",
            "Requirement already satisfied: shapely>=1.6 in /usr/local/lib/python3.7/dist-packages (from geopandas) (1.7.1)\n",
            "Requirement already satisfied: numpy>=1.15.4 in /usr/local/lib/python3.7/dist-packages (from pandas>=0.24.0->geopandas) (1.19.5)\n",
            "Requirement already satisfied: pytz>=2017.2 in /usr/local/lib/python3.7/dist-packages (from pandas>=0.24.0->geopandas) (2018.9)\n",
            "Requirement already satisfied: python-dateutil>=2.7.3 in /usr/local/lib/python3.7/dist-packages (from pandas>=0.24.0->geopandas) (2.8.1)\n",
            "Requirement already satisfied: click<8,>=4.0 in /usr/local/lib/python3.7/dist-packages (from fiona>=1.8->geopandas) (7.1.2)\n",
            "Requirement already satisfied: cligj>=0.5 in /usr/local/lib/python3.7/dist-packages (from fiona>=1.8->geopandas) (0.7.1)\n",
            "Requirement already satisfied: click-plugins>=1.0 in /usr/local/lib/python3.7/dist-packages (from fiona>=1.8->geopandas) (1.1.1)\n",
            "Requirement already satisfied: certifi in /usr/local/lib/python3.7/dist-packages (from fiona>=1.8->geopandas) (2020.12.5)\n",
            "Requirement already satisfied: six>=1.7 in /usr/local/lib/python3.7/dist-packages (from fiona>=1.8->geopandas) (1.15.0)\n",
            "Requirement already satisfied: attrs>=17 in /usr/local/lib/python3.7/dist-packages (from fiona>=1.8->geopandas) (20.3.0)\n",
            "Requirement already satisfied: munch in /usr/local/lib/python3.7/dist-packages (from fiona>=1.8->geopandas) (2.5.0)\n"
          ],
          "name": "stdout"
        }
      ]
    },
    {
      "cell_type": "code",
      "metadata": {
        "colab": {
          "base_uri": "https://localhost:8080/"
        },
        "id": "cM-kvtVNLCjb",
        "outputId": "572b0e39-9ea0-407f-a84a-66c59858d4b0"
      },
      "source": [
        "!brew install graphviz"
      ],
      "execution_count": 29,
      "outputs": [
        {
          "output_type": "stream",
          "text": [
            "/bin/bash: brew: command not found\n"
          ],
          "name": "stdout"
        }
      ]
    },
    {
      "cell_type": "code",
      "metadata": {
        "colab": {
          "base_uri": "https://localhost:8080/"
        },
        "id": "xSP_qw74Kzim",
        "outputId": "864e7162-649a-4a2f-f056-c6b918ef4b56"
      },
      "source": [
        "import geopandas as gpd\n",
        "import pandas as pd\n",
        "import numpy  as np\n",
        "from sklearn import linear_model\n",
        "from sklearn.linear_model import LogisticRegression, RidgeClassifierCV\n",
        "from sklearn.ensemble import RandomForestClassifier, GradientBoostingClassifier\n",
        "from sklearn import preprocessing\n",
        "from sklearn.model_selection import train_test_split, cross_val_score\n",
        "from sklearn import ensemble\n",
        "from sklearn import metrics\n",
        "from sklearn import tree\n",
        "import graphviz\n",
        "import pylab as pl\n",
        "pl.rcParams[\"font.size\"] = 18\n",
        "pl.rcParams[\"figure.figsize\"] = (10,10)\n",
        "%pylab inline\n",
        "\n"
      ],
      "execution_count": 30,
      "outputs": [
        {
          "output_type": "stream",
          "text": [
            "Populating the interactive namespace from numpy and matplotlib\n"
          ],
          "name": "stdout"
        }
      ]
    },
    {
      "cell_type": "code",
      "metadata": {
        "id": "9lx0ivI4LOC-"
      },
      "source": [
        "nychouses = pd.read_csv(\"https://raw.githubusercontent.com/fedhere/MLPNS2021/main/OHE/allzips.csv\")"
      ],
      "execution_count": 31,
      "outputs": []
    },
    {
      "cell_type": "code",
      "metadata": {
        "colab": {
          "base_uri": "https://localhost:8080/",
          "height": 289
        },
        "id": "8bBDZYQ-LvJv",
        "outputId": "03edb052-5508-4494-d113-23da79bd7a7e"
      },
      "source": [
        "nychouses.head()"
      ],
      "execution_count": 32,
      "outputs": [
        {
          "output_type": "execute_result",
          "data": {
            "text/html": [
              "<div>\n",
              "<style scoped>\n",
              "    .dataframe tbody tr th:only-of-type {\n",
              "        vertical-align: middle;\n",
              "    }\n",
              "\n",
              "    .dataframe tbody tr th {\n",
              "        vertical-align: top;\n",
              "    }\n",
              "\n",
              "    .dataframe thead th {\n",
              "        text-align: right;\n",
              "    }\n",
              "</style>\n",
              "<table border=\"1\" class=\"dataframe\">\n",
              "  <thead>\n",
              "    <tr style=\"text-align: right;\">\n",
              "      <th></th>\n",
              "      <th>address</th>\n",
              "      <th>city</th>\n",
              "      <th>state</th>\n",
              "      <th>zip</th>\n",
              "      <th>price</th>\n",
              "      <th>sqft</th>\n",
              "      <th>bedrooms</th>\n",
              "      <th>bathrooms</th>\n",
              "      <th>days_on_zillow</th>\n",
              "      <th>sale_type</th>\n",
              "      <th>url</th>\n",
              "    </tr>\n",
              "  </thead>\n",
              "  <tbody>\n",
              "    <tr>\n",
              "      <th>0</th>\n",
              "      <td>263 9th Ave APT 6B</td>\n",
              "      <td>New York</td>\n",
              "      <td>NY</td>\n",
              "      <td>10001</td>\n",
              "      <td>2599988</td>\n",
              "      <td>1536.0</td>\n",
              "      <td>2.0</td>\n",
              "      <td>2.0</td>\n",
              "      <td>NaN</td>\n",
              "      <td>Condo For Sale</td>\n",
              "      <td>http://www.zillow.com/homes/for_sale//homedeta...</td>\n",
              "    </tr>\n",
              "    <tr>\n",
              "      <th>1</th>\n",
              "      <td>15 Hudson Yards # 67E</td>\n",
              "      <td>New York</td>\n",
              "      <td>NY</td>\n",
              "      <td>10001</td>\n",
              "      <td>7575000</td>\n",
              "      <td>2497.0</td>\n",
              "      <td>2.0</td>\n",
              "      <td>3.0</td>\n",
              "      <td>NaN</td>\n",
              "      <td>Condo For Sale</td>\n",
              "      <td>http://www.zillow.com/homes/for_sale//homedeta...</td>\n",
              "    </tr>\n",
              "    <tr>\n",
              "      <th>2</th>\n",
              "      <td>15 Hudson Yards # PH86D</td>\n",
              "      <td>New York</td>\n",
              "      <td>NY</td>\n",
              "      <td>10001</td>\n",
              "      <td>8475000</td>\n",
              "      <td>2515.0</td>\n",
              "      <td>3.0</td>\n",
              "      <td>4.0</td>\n",
              "      <td>NaN</td>\n",
              "      <td>Condo For Sale</td>\n",
              "      <td>http://www.zillow.com/homes/for_sale//homedeta...</td>\n",
              "    </tr>\n",
              "    <tr>\n",
              "      <th>3</th>\n",
              "      <td>540 W 28th St PH A</td>\n",
              "      <td>New York</td>\n",
              "      <td>NY</td>\n",
              "      <td>10001</td>\n",
              "      <td>3550000</td>\n",
              "      <td>1755.0</td>\n",
              "      <td>2.0</td>\n",
              "      <td>2.0</td>\n",
              "      <td>NaN</td>\n",
              "      <td>Condo For Sale</td>\n",
              "      <td>http://www.zillow.com/homes/for_sale//homedeta...</td>\n",
              "    </tr>\n",
              "    <tr>\n",
              "      <th>4</th>\n",
              "      <td>15 Hudson Yards # 34G</td>\n",
              "      <td>New York</td>\n",
              "      <td>NY</td>\n",
              "      <td>10001</td>\n",
              "      <td>4420000</td>\n",
              "      <td>1460.0</td>\n",
              "      <td>2.0</td>\n",
              "      <td>3.0</td>\n",
              "      <td>NaN</td>\n",
              "      <td>Condo For Sale</td>\n",
              "      <td>http://www.zillow.com/homes/for_sale//homedeta...</td>\n",
              "    </tr>\n",
              "  </tbody>\n",
              "</table>\n",
              "</div>"
            ],
            "text/plain": [
              "                   address  ...                                                url\n",
              "0       263 9th Ave APT 6B  ...  http://www.zillow.com/homes/for_sale//homedeta...\n",
              "1    15 Hudson Yards # 67E  ...  http://www.zillow.com/homes/for_sale//homedeta...\n",
              "2  15 Hudson Yards # PH86D  ...  http://www.zillow.com/homes/for_sale//homedeta...\n",
              "3       540 W 28th St PH A  ...  http://www.zillow.com/homes/for_sale//homedeta...\n",
              "4    15 Hudson Yards # 34G  ...  http://www.zillow.com/homes/for_sale//homedeta...\n",
              "\n",
              "[5 rows x 11 columns]"
            ]
          },
          "metadata": {
            "tags": []
          },
          "execution_count": 32
        }
      ]
    },
    {
      "cell_type": "code",
      "metadata": {
        "colab": {
          "base_uri": "https://localhost:8080/"
        },
        "id": "EkZ-1n16MB4W",
        "outputId": "8745dd20-1d9c-4bdf-958d-654ff7a5181e"
      },
      "source": [
        "!wget https://github.com/fedhere/MLPNS2021/blob/main/OHE/ZIP_CODE_040114.zip?raw=true\n"
      ],
      "execution_count": 33,
      "outputs": [
        {
          "output_type": "stream",
          "text": [
            "--2021-04-20 12:25:05--  https://github.com/fedhere/MLPNS2021/blob/main/OHE/ZIP_CODE_040114.zip?raw=true\n",
            "Resolving github.com (github.com)... 52.69.186.44\n",
            "Connecting to github.com (github.com)|52.69.186.44|:443... connected.\n",
            "HTTP request sent, awaiting response... 302 Found\n",
            "Location: https://github.com/fedhere/MLPNS2021/raw/main/OHE/ZIP_CODE_040114.zip [following]\n",
            "--2021-04-20 12:25:06--  https://github.com/fedhere/MLPNS2021/raw/main/OHE/ZIP_CODE_040114.zip\n",
            "Reusing existing connection to github.com:443.\n",
            "HTTP request sent, awaiting response... 302 Found\n",
            "Location: https://raw.githubusercontent.com/fedhere/MLPNS2021/main/OHE/ZIP_CODE_040114.zip [following]\n",
            "--2021-04-20 12:25:06--  https://raw.githubusercontent.com/fedhere/MLPNS2021/main/OHE/ZIP_CODE_040114.zip\n",
            "Resolving raw.githubusercontent.com (raw.githubusercontent.com)... 185.199.108.133, 185.199.109.133, 185.199.110.133, ...\n",
            "Connecting to raw.githubusercontent.com (raw.githubusercontent.com)|185.199.108.133|:443... connected.\n",
            "HTTP request sent, awaiting response... 200 OK\n",
            "Length: 1514401 (1.4M) [application/zip]\n",
            "Saving to: ‘ZIP_CODE_040114.zip?raw=true.1’\n",
            "\n",
            "ZIP_CODE_040114.zip 100%[===================>]   1.44M  --.-KB/s    in 0.09s   \n",
            "\n",
            "2021-04-20 12:25:07 (15.4 MB/s) - ‘ZIP_CODE_040114.zip?raw=true.1’ saved [1514401/1514401]\n",
            "\n"
          ],
          "name": "stdout"
        }
      ]
    },
    {
      "cell_type": "code",
      "metadata": {
        "colab": {
          "base_uri": "https://localhost:8080/"
        },
        "id": "m4xKhtYENIXh",
        "outputId": "9f3018ed-26be-4a1f-a618-7132a65a92ba"
      },
      "source": [
        "!unzip ZIP_CODE_040114.zip\n"
      ],
      "execution_count": 34,
      "outputs": [
        {
          "output_type": "stream",
          "text": [
            "unzip:  cannot find or open ZIP_CODE_040114.zip, ZIP_CODE_040114.zip.zip or ZIP_CODE_040114.zip.ZIP.\n"
          ],
          "name": "stdout"
        }
      ]
    },
    {
      "cell_type": "code",
      "metadata": {
        "id": "iGQf-RfgNwdf"
      },
      "source": [
        "nychouses = nychouses[[\"zip\", \"price\", \"sqft\", \"bedrooms\", \"bathrooms\"]]"
      ],
      "execution_count": 35,
      "outputs": []
    },
    {
      "cell_type": "code",
      "metadata": {
        "colab": {
          "base_uri": "https://localhost:8080/"
        },
        "id": "99vm2rbnPoR4",
        "outputId": "d01f548d-81eb-46f7-f18d-bb39ab8eca40"
      },
      "source": [
        "from google.colab import drive\n",
        "drive.mount('/content/drive')"
      ],
      "execution_count": 38,
      "outputs": [
        {
          "output_type": "stream",
          "text": [
            "Mounted at /content/drive\n"
          ],
          "name": "stdout"
        }
      ]
    },
    {
      "cell_type": "code",
      "metadata": {
        "colab": {
          "base_uri": "https://localhost:8080/"
        },
        "id": "oykQ9G2ZQAva",
        "outputId": "6f7a0159-7b3b-47a7-c37d-ae4faa9a259a"
      },
      "source": [
        "cd /content/drive/MyDrive/"
      ],
      "execution_count": 40,
      "outputs": [
        {
          "output_type": "stream",
          "text": [
            "/content/drive/MyDrive\n"
          ],
          "name": "stdout"
        }
      ]
    },
    {
      "cell_type": "code",
      "metadata": {
        "id": "k_MeeVB5NK5x"
      },
      "source": [
        "zips = gpd.read_file(\"ZIP_CODE_040114.zip\")\n"
      ],
      "execution_count": 42,
      "outputs": []
    },
    {
      "cell_type": "code",
      "metadata": {
        "colab": {
          "base_uri": "https://localhost:8080/",
          "height": 1000
        },
        "id": "j7m2AiuCQPAm",
        "outputId": "e0471924-a1b9-44f5-f4d1-c1587dc39a85"
      },
      "source": [
        "zips"
      ],
      "execution_count": 43,
      "outputs": [
        {
          "output_type": "execute_result",
          "data": {
            "text/html": [
              "<div>\n",
              "<style scoped>\n",
              "    .dataframe tbody tr th:only-of-type {\n",
              "        vertical-align: middle;\n",
              "    }\n",
              "\n",
              "    .dataframe tbody tr th {\n",
              "        vertical-align: top;\n",
              "    }\n",
              "\n",
              "    .dataframe thead th {\n",
              "        text-align: right;\n",
              "    }\n",
              "</style>\n",
              "<table border=\"1\" class=\"dataframe\">\n",
              "  <thead>\n",
              "    <tr style=\"text-align: right;\">\n",
              "      <th></th>\n",
              "      <th>ZIPCODE</th>\n",
              "      <th>BLDGZIP</th>\n",
              "      <th>PO_NAME</th>\n",
              "      <th>POPULATION</th>\n",
              "      <th>AREA</th>\n",
              "      <th>STATE</th>\n",
              "      <th>COUNTY</th>\n",
              "      <th>ST_FIPS</th>\n",
              "      <th>CTY_FIPS</th>\n",
              "      <th>URL</th>\n",
              "      <th>SHAPE_AREA</th>\n",
              "      <th>SHAPE_LEN</th>\n",
              "      <th>geometry</th>\n",
              "    </tr>\n",
              "  </thead>\n",
              "  <tbody>\n",
              "    <tr>\n",
              "      <th>0</th>\n",
              "      <td>11436</td>\n",
              "      <td>0</td>\n",
              "      <td>Jamaica</td>\n",
              "      <td>18681.0</td>\n",
              "      <td>2.269930e+07</td>\n",
              "      <td>NY</td>\n",
              "      <td>Queens</td>\n",
              "      <td>36</td>\n",
              "      <td>081</td>\n",
              "      <td>http://www.usps.com/</td>\n",
              "      <td>0.0</td>\n",
              "      <td>0.0</td>\n",
              "      <td>POLYGON ((1038098.252 188138.380, 1038141.936 ...</td>\n",
              "    </tr>\n",
              "    <tr>\n",
              "      <th>1</th>\n",
              "      <td>11213</td>\n",
              "      <td>0</td>\n",
              "      <td>Brooklyn</td>\n",
              "      <td>62426.0</td>\n",
              "      <td>2.963100e+07</td>\n",
              "      <td>NY</td>\n",
              "      <td>Kings</td>\n",
              "      <td>36</td>\n",
              "      <td>047</td>\n",
              "      <td>http://www.usps.com/</td>\n",
              "      <td>0.0</td>\n",
              "      <td>0.0</td>\n",
              "      <td>POLYGON ((1001613.713 186926.440, 1002314.243 ...</td>\n",
              "    </tr>\n",
              "    <tr>\n",
              "      <th>2</th>\n",
              "      <td>11212</td>\n",
              "      <td>0</td>\n",
              "      <td>Brooklyn</td>\n",
              "      <td>83866.0</td>\n",
              "      <td>4.197210e+07</td>\n",
              "      <td>NY</td>\n",
              "      <td>Kings</td>\n",
              "      <td>36</td>\n",
              "      <td>047</td>\n",
              "      <td>http://www.usps.com/</td>\n",
              "      <td>0.0</td>\n",
              "      <td>0.0</td>\n",
              "      <td>POLYGON ((1011174.276 183696.338, 1011373.584 ...</td>\n",
              "    </tr>\n",
              "    <tr>\n",
              "      <th>3</th>\n",
              "      <td>11225</td>\n",
              "      <td>0</td>\n",
              "      <td>Brooklyn</td>\n",
              "      <td>56527.0</td>\n",
              "      <td>2.369863e+07</td>\n",
              "      <td>NY</td>\n",
              "      <td>Kings</td>\n",
              "      <td>36</td>\n",
              "      <td>047</td>\n",
              "      <td>http://www.usps.com/</td>\n",
              "      <td>0.0</td>\n",
              "      <td>0.0</td>\n",
              "      <td>POLYGON ((995908.365 183617.613, 996522.848 18...</td>\n",
              "    </tr>\n",
              "    <tr>\n",
              "      <th>4</th>\n",
              "      <td>11218</td>\n",
              "      <td>0</td>\n",
              "      <td>Brooklyn</td>\n",
              "      <td>72280.0</td>\n",
              "      <td>3.686880e+07</td>\n",
              "      <td>NY</td>\n",
              "      <td>Kings</td>\n",
              "      <td>36</td>\n",
              "      <td>047</td>\n",
              "      <td>http://www.usps.com/</td>\n",
              "      <td>0.0</td>\n",
              "      <td>0.0</td>\n",
              "      <td>POLYGON ((991997.113 176307.496, 992042.798 17...</td>\n",
              "    </tr>\n",
              "    <tr>\n",
              "      <th>...</th>\n",
              "      <td>...</td>\n",
              "      <td>...</td>\n",
              "      <td>...</td>\n",
              "      <td>...</td>\n",
              "      <td>...</td>\n",
              "      <td>...</td>\n",
              "      <td>...</td>\n",
              "      <td>...</td>\n",
              "      <td>...</td>\n",
              "      <td>...</td>\n",
              "      <td>...</td>\n",
              "      <td>...</td>\n",
              "      <td>...</td>\n",
              "    </tr>\n",
              "    <tr>\n",
              "      <th>258</th>\n",
              "      <td>10310</td>\n",
              "      <td>0</td>\n",
              "      <td>Staten Island</td>\n",
              "      <td>25003.0</td>\n",
              "      <td>5.346328e+07</td>\n",
              "      <td>NY</td>\n",
              "      <td>Richmond</td>\n",
              "      <td>36</td>\n",
              "      <td>085</td>\n",
              "      <td>http://www.usps.com/</td>\n",
              "      <td>0.0</td>\n",
              "      <td>0.0</td>\n",
              "      <td>POLYGON ((950767.507 172848.969, 950787.510 17...</td>\n",
              "    </tr>\n",
              "    <tr>\n",
              "      <th>259</th>\n",
              "      <td>11693</td>\n",
              "      <td>0</td>\n",
              "      <td>Far Rockaway</td>\n",
              "      <td>11052.0</td>\n",
              "      <td>3.497516e+06</td>\n",
              "      <td>NY</td>\n",
              "      <td>Kings</td>\n",
              "      <td>36</td>\n",
              "      <td>047</td>\n",
              "      <td>http://www.usps.com/</td>\n",
              "      <td>0.0</td>\n",
              "      <td>0.0</td>\n",
              "      <td>POLYGON ((1028453.995 167153.410, 1027813.010 ...</td>\n",
              "    </tr>\n",
              "    <tr>\n",
              "      <th>260</th>\n",
              "      <td>11249</td>\n",
              "      <td>0</td>\n",
              "      <td>Brooklyn</td>\n",
              "      <td>28481.0</td>\n",
              "      <td>1.777221e+07</td>\n",
              "      <td>NY</td>\n",
              "      <td>Kings</td>\n",
              "      <td>36</td>\n",
              "      <td>047</td>\n",
              "      <td>http://www.usps.com/</td>\n",
              "      <td>0.0</td>\n",
              "      <td>0.0</td>\n",
              "      <td>POLYGON ((995877.318 203206.075, 995968.511 20...</td>\n",
              "    </tr>\n",
              "    <tr>\n",
              "      <th>261</th>\n",
              "      <td>10162</td>\n",
              "      <td>1</td>\n",
              "      <td>New York</td>\n",
              "      <td>0.0</td>\n",
              "      <td>2.103489e+04</td>\n",
              "      <td>NY</td>\n",
              "      <td>New York</td>\n",
              "      <td>36</td>\n",
              "      <td>061</td>\n",
              "      <td>http://www.usps.com/</td>\n",
              "      <td>0.0</td>\n",
              "      <td>0.0</td>\n",
              "      <td>POLYGON ((997731.761 219560.922, 997641.948 21...</td>\n",
              "    </tr>\n",
              "    <tr>\n",
              "      <th>262</th>\n",
              "      <td>10119</td>\n",
              "      <td>1</td>\n",
              "      <td>New York</td>\n",
              "      <td>0.0</td>\n",
              "      <td>1.263930e+05</td>\n",
              "      <td>NY</td>\n",
              "      <td>New York</td>\n",
              "      <td>36</td>\n",
              "      <td>061</td>\n",
              "      <td>http://www.usps.com/</td>\n",
              "      <td>0.0</td>\n",
              "      <td>0.0</td>\n",
              "      <td>POLYGON ((986038.661 213051.063, 986135.314 21...</td>\n",
              "    </tr>\n",
              "  </tbody>\n",
              "</table>\n",
              "<p>263 rows × 13 columns</p>\n",
              "</div>"
            ],
            "text/plain": [
              "    ZIPCODE  ...                                           geometry\n",
              "0     11436  ...  POLYGON ((1038098.252 188138.380, 1038141.936 ...\n",
              "1     11213  ...  POLYGON ((1001613.713 186926.440, 1002314.243 ...\n",
              "2     11212  ...  POLYGON ((1011174.276 183696.338, 1011373.584 ...\n",
              "3     11225  ...  POLYGON ((995908.365 183617.613, 996522.848 18...\n",
              "4     11218  ...  POLYGON ((991997.113 176307.496, 992042.798 17...\n",
              "..      ...  ...                                                ...\n",
              "258   10310  ...  POLYGON ((950767.507 172848.969, 950787.510 17...\n",
              "259   11693  ...  POLYGON ((1028453.995 167153.410, 1027813.010 ...\n",
              "260   11249  ...  POLYGON ((995877.318 203206.075, 995968.511 20...\n",
              "261   10162  ...  POLYGON ((997731.761 219560.922, 997641.948 21...\n",
              "262   10119  ...  POLYGON ((986038.661 213051.063, 986135.314 21...\n",
              "\n",
              "[263 rows x 13 columns]"
            ]
          },
          "metadata": {
            "tags": []
          },
          "execution_count": 43
        }
      ]
    },
    {
      "cell_type": "code",
      "metadata": {
        "colab": {
          "base_uri": "https://localhost:8080/",
          "height": 575
        },
        "id": "3rRbTlHtRBXG",
        "outputId": "58803204-5de4-42b3-d1fa-40ab09760a1f"
      },
      "source": [
        "ax = zips.plot(column=\"COUNTY\", figsize=(10,10))\n",
        "ax.axis('off');\n"
      ],
      "execution_count": 44,
      "outputs": [
        {
          "output_type": "display_data",
          "data": {
            "image/png": "[encoded data removed]",
            "text/plain": [
              "<Figure size 720x720 with 1 Axes>"
            ]
          },
          "metadata": {
            "tags": [],
            "needs_background": "light"
          }
        }
      ]
    },
    {
      "cell_type": "code",
      "metadata": {
        "colab": {
          "base_uri": "https://localhost:8080/"
        },
        "id": "L4sn6kfQRH2M",
        "outputId": "37836df1-a0f4-48a8-aba8-f1659b89853e"
      },
      "source": [
        "!wget https://github.com/fedhere/MLPNS2021/blob/main/OHE/CEDIT_6_5_Friuli_Italy_1976.zip?raw=true\n"
      ],
      "execution_count": 45,
      "outputs": [
        {
          "output_type": "stream",
          "text": [
            "--2021-04-20 12:32:46--  https://github.com/fedhere/MLPNS2021/blob/main/OHE/CEDIT_6_5_Friuli_Italy_1976.zip?raw=true\n",
            "Resolving github.com (github.com)... 52.69.186.44\n",
            "Connecting to github.com (github.com)|52.69.186.44|:443... connected.\n",
            "HTTP request sent, awaiting response... 302 Found\n",
            "Location: https://github.com/fedhere/MLPNS2021/raw/main/OHE/CEDIT_6_5_Friuli_Italy_1976.zip [following]\n",
            "--2021-04-20 12:32:46--  https://github.com/fedhere/MLPNS2021/raw/main/OHE/CEDIT_6_5_Friuli_Italy_1976.zip\n",
            "Reusing existing connection to github.com:443.\n",
            "HTTP request sent, awaiting response... 302 Found\n",
            "Location: https://raw.githubusercontent.com/fedhere/MLPNS2021/main/OHE/CEDIT_6_5_Friuli_Italy_1976.zip [following]\n",
            "--2021-04-20 12:32:47--  https://raw.githubusercontent.com/fedhere/MLPNS2021/main/OHE/CEDIT_6_5_Friuli_Italy_1976.zip\n",
            "Resolving raw.githubusercontent.com (raw.githubusercontent.com)... 185.199.108.133, 185.199.109.133, 185.199.110.133, ...\n",
            "Connecting to raw.githubusercontent.com (raw.githubusercontent.com)|185.199.108.133|:443... connected.\n",
            "HTTP request sent, awaiting response... 200 OK\n",
            "Length: 3359 (3.3K) [application/zip]\n",
            "Saving to: ‘CEDIT_6_5_Friuli_Italy_1976.zip?raw=true’\n",
            "\n",
            "CEDIT_6_5_Friuli_It 100%[===================>]   3.28K  --.-KB/s    in 0.001s  \n",
            "\n",
            "2021-04-20 12:32:47 (4.36 MB/s) - ‘CEDIT_6_5_Friuli_Italy_1976.zip?raw=true’ saved [3359/3359]\n",
            "\n"
          ],
          "name": "stdout"
        }
      ]
    },
    {
      "cell_type": "code",
      "metadata": {
        "colab": {
          "base_uri": "https://localhost:8080/"
        },
        "id": "yZbFSEk-ROEY",
        "outputId": "0cd2ae95-a15b-4466-8fec-35412cf1627d"
      },
      "source": [
        "!wget https://opendata.arcgis.com/datasets/e68ceb0a193e4e378b29255b62ab75e0_0.geojson\n"
      ],
      "execution_count": 46,
      "outputs": [
        {
          "output_type": "stream",
          "text": [
            "--2021-04-20 12:32:57--  https://opendata.arcgis.com/datasets/e68ceb0a193e4e378b29255b62ab75e0_0.geojson\n",
            "Resolving opendata.arcgis.com (opendata.arcgis.com)... 54.82.249.95, 3.232.200.22, 3.226.96.47, ...\n",
            "Connecting to opendata.arcgis.com (opendata.arcgis.com)|54.82.249.95|:443... connected.\n",
            "HTTP request sent, awaiting response... 200 OK\n",
            "Length: unspecified [application/json]\n",
            "Saving to: ‘e68ceb0a193e4e378b29255b62ab75e0_0.geojson’\n",
            "\n",
            "e68ceb0a193e4e378b2     [ <=>                ] 206.47M  12.7MB/s    in 18s     \n",
            "\n",
            "2021-04-20 12:33:16 (11.4 MB/s) - ‘e68ceb0a193e4e378b29255b62ab75e0_0.geojson’ saved [216502798]\n",
            "\n"
          ],
          "name": "stdout"
        }
      ]
    },
    {
      "cell_type": "code",
      "metadata": {
        "id": "OWJuBMv0RW1Q"
      },
      "source": [
        "italy = gpd.GeoDataFrame.from_file(\"e68ceb0a193e4e378b29255b62ab75e0_0.geojson\")\n"
      ],
      "execution_count": 48,
      "outputs": []
    },
    {
      "cell_type": "code",
      "metadata": {
        "colab": {
          "base_uri": "https://localhost:8080/"
        },
        "id": "3gqpmLcXRfBr",
        "outputId": "e26fc8ae-c577-4756-b429-701fcfab67a9"
      },
      "source": [
        "!unzip 'CEDIT_6_5_Friuli_Italy_1976.zip?raw=true'\n"
      ],
      "execution_count": 49,
      "outputs": [
        {
          "output_type": "stream",
          "text": [
            "Archive:  CEDIT_6_5_Friuli_Italy_1976.zip?raw=true\n",
            "  inflating: CEDIT_6_5_Friuli_Italy_1976.cpg  \n",
            "  inflating: CEDIT_6_5_Friuli_Italy_1976.dbf  \n",
            "  inflating: CEDIT_6_5_Friuli_Italy_1976.prj  \n",
            "  inflating: CEDIT_6_5_Friuli_Italy_1976.sbn  \n",
            "  inflating: CEDIT_6_5_Friuli_Italy_1976.sbx  \n",
            "  inflating: CEDIT_6_5_Friuli_Italy_1976.shp  \n",
            "  inflating: CEDIT_6_5_Friuli_Italy_1976.shp.xml  \n",
            "  inflating: CEDIT_6_5_Friuli_Italy_1976.shx  \n"
          ],
          "name": "stdout"
        }
      ]
    },
    {
      "cell_type": "code",
      "metadata": {
        "colab": {
          "base_uri": "https://localhost:8080/",
          "height": 955
        },
        "id": "dNJhZQ5eRiCl",
        "outputId": "dab1189f-744e-4b3b-deed-97f389aec253"
      },
      "source": [
        "italy.to_crs(epsg=4326)\n"
      ],
      "execution_count": 50,
      "outputs": [
        {
          "output_type": "execute_result",
          "data": {
            "text/html": [
              "<div>\n",
              "<style scoped>\n",
              "    .dataframe tbody tr th:only-of-type {\n",
              "        vertical-align: middle;\n",
              "    }\n",
              "\n",
              "    .dataframe tbody tr th {\n",
              "        vertical-align: top;\n",
              "    }\n",
              "\n",
              "    .dataframe thead th {\n",
              "        text-align: right;\n",
              "    }\n",
              "</style>\n",
              "<table border=\"1\" class=\"dataframe\">\n",
              "  <thead>\n",
              "    <tr style=\"text-align: right;\">\n",
              "      <th></th>\n",
              "      <th>FID</th>\n",
              "      <th>COD_RIP</th>\n",
              "      <th>COD_REG</th>\n",
              "      <th>COD_PROV</th>\n",
              "      <th>COD_CM</th>\n",
              "      <th>COD_UTS</th>\n",
              "      <th>PRO_COM</th>\n",
              "      <th>PRO_COM_T</th>\n",
              "      <th>COMUNE</th>\n",
              "      <th>COMUNE_A</th>\n",
              "      <th>CC_UTS</th>\n",
              "      <th>SHAPE_LENG</th>\n",
              "      <th>GlobalID</th>\n",
              "      <th>SHAPE_Length</th>\n",
              "      <th>SHAPE_Area</th>\n",
              "      <th>geometry</th>\n",
              "    </tr>\n",
              "  </thead>\n",
              "  <tbody>\n",
              "    <tr>\n",
              "      <th>0</th>\n",
              "      <td>1</td>\n",
              "      <td>1</td>\n",
              "      <td>1</td>\n",
              "      <td>1</td>\n",
              "      <td>201</td>\n",
              "      <td>201</td>\n",
              "      <td>1042</td>\n",
              "      <td>001042</td>\n",
              "      <td>Burolo</td>\n",
              "      <td></td>\n",
              "      <td>0</td>\n",
              "      <td>13222.896787</td>\n",
              "      <td>{428A5371-1203-4014-9D3B-D6F2353A226F}</td>\n",
              "      <td>0.141254</td>\n",
              "      <td>5.475974e+06</td>\n",
              "      <td>MULTIPOLYGON (((7.93812 45.49086, 7.93818 45.4...</td>\n",
              "    </tr>\n",
              "    <tr>\n",
              "      <th>1</th>\n",
              "      <td>2</td>\n",
              "      <td>1</td>\n",
              "      <td>1</td>\n",
              "      <td>1</td>\n",
              "      <td>201</td>\n",
              "      <td>201</td>\n",
              "      <td>1060</td>\n",
              "      <td>001060</td>\n",
              "      <td>Casalborgone</td>\n",
              "      <td></td>\n",
              "      <td>0</td>\n",
              "      <td>24056.822202</td>\n",
              "      <td>{7772511B-1529-4A71-8ED1-7880DC64354A}</td>\n",
              "      <td>0.270078</td>\n",
              "      <td>2.012501e+07</td>\n",
              "      <td>MULTIPOLYGON (((7.91362 45.15298, 7.91369 45.1...</td>\n",
              "    </tr>\n",
              "    <tr>\n",
              "      <th>2</th>\n",
              "      <td>3</td>\n",
              "      <td>1</td>\n",
              "      <td>1</td>\n",
              "      <td>1</td>\n",
              "      <td>201</td>\n",
              "      <td>201</td>\n",
              "      <td>1076</td>\n",
              "      <td>001076</td>\n",
              "      <td>Chianocco</td>\n",
              "      <td></td>\n",
              "      <td>0</td>\n",
              "      <td>21411.076163</td>\n",
              "      <td>{0F2EE4C5-219C-43DD-AD6E-D8AE5E9F5F7B}</td>\n",
              "      <td>0.225795</td>\n",
              "      <td>1.861335e+07</td>\n",
              "      <td>MULTIPOLYGON (((7.18303 45.19351, 7.18342 45.1...</td>\n",
              "    </tr>\n",
              "    <tr>\n",
              "      <th>3</th>\n",
              "      <td>4</td>\n",
              "      <td>1</td>\n",
              "      <td>1</td>\n",
              "      <td>1</td>\n",
              "      <td>201</td>\n",
              "      <td>201</td>\n",
              "      <td>1077</td>\n",
              "      <td>001077</td>\n",
              "      <td>Chiaverano</td>\n",
              "      <td></td>\n",
              "      <td>0</td>\n",
              "      <td>18164.369945</td>\n",
              "      <td>{16E8325A-C7CD-4B85-AB7D-74216B9D06B3}</td>\n",
              "      <td>0.196687</td>\n",
              "      <td>1.202212e+07</td>\n",
              "      <td>MULTIPOLYGON (((7.90330 45.52628, 7.90360 45.5...</td>\n",
              "    </tr>\n",
              "    <tr>\n",
              "      <th>4</th>\n",
              "      <td>5</td>\n",
              "      <td>1</td>\n",
              "      <td>1</td>\n",
              "      <td>1</td>\n",
              "      <td>201</td>\n",
              "      <td>201</td>\n",
              "      <td>1079</td>\n",
              "      <td>001079</td>\n",
              "      <td>Chiesanuova</td>\n",
              "      <td></td>\n",
              "      <td>0</td>\n",
              "      <td>10777.398475</td>\n",
              "      <td>{8FF28D8A-C5F5-4214-AFA0-999D470CF9C8}</td>\n",
              "      <td>0.116011</td>\n",
              "      <td>4.118911e+06</td>\n",
              "      <td>MULTIPOLYGON (((7.65285 45.42981, 7.65407 45.4...</td>\n",
              "    </tr>\n",
              "    <tr>\n",
              "      <th>...</th>\n",
              "      <td>...</td>\n",
              "      <td>...</td>\n",
              "      <td>...</td>\n",
              "      <td>...</td>\n",
              "      <td>...</td>\n",
              "      <td>...</td>\n",
              "      <td>...</td>\n",
              "      <td>...</td>\n",
              "      <td>...</td>\n",
              "      <td>...</td>\n",
              "      <td>...</td>\n",
              "      <td>...</td>\n",
              "      <td>...</td>\n",
              "      <td>...</td>\n",
              "      <td>...</td>\n",
              "      <td>...</td>\n",
              "    </tr>\n",
              "    <tr>\n",
              "      <th>7921</th>\n",
              "      <td>7922</td>\n",
              "      <td>5</td>\n",
              "      <td>20</td>\n",
              "      <td>90</td>\n",
              "      <td>0</td>\n",
              "      <td>90</td>\n",
              "      <td>90055</td>\n",
              "      <td>090055</td>\n",
              "      <td>Pattada</td>\n",
              "      <td></td>\n",
              "      <td>0</td>\n",
              "      <td>68982.842121</td>\n",
              "      <td>{899F5A3D-A8EA-4F00-B074-2043ECD71C5D}</td>\n",
              "      <td>0.714765</td>\n",
              "      <td>1.648777e+08</td>\n",
              "      <td>MULTIPOLYGON (((9.06375 40.67057, 9.06431 40.6...</td>\n",
              "    </tr>\n",
              "    <tr>\n",
              "      <th>7922</th>\n",
              "      <td>7923</td>\n",
              "      <td>5</td>\n",
              "      <td>20</td>\n",
              "      <td>111</td>\n",
              "      <td>0</td>\n",
              "      <td>111</td>\n",
              "      <td>111009</td>\n",
              "      <td>111009</td>\n",
              "      <td>Carbonia</td>\n",
              "      <td></td>\n",
              "      <td>1</td>\n",
              "      <td>67399.354027</td>\n",
              "      <td>{A5D0EB0D-12E5-4713-8959-60CA7F1C23AA}</td>\n",
              "      <td>0.698552</td>\n",
              "      <td>1.455415e+08</td>\n",
              "      <td>MULTIPOLYGON (((8.55251 39.27980, 8.55310 39.2...</td>\n",
              "    </tr>\n",
              "    <tr>\n",
              "      <th>7923</th>\n",
              "      <td>7924</td>\n",
              "      <td>5</td>\n",
              "      <td>20</td>\n",
              "      <td>91</td>\n",
              "      <td>0</td>\n",
              "      <td>91</td>\n",
              "      <td>91039</td>\n",
              "      <td>091039</td>\n",
              "      <td>Loceri</td>\n",
              "      <td></td>\n",
              "      <td>0</td>\n",
              "      <td>36459.248203</td>\n",
              "      <td>{87048657-CFAF-4D2D-9D07-910B41B00860}</td>\n",
              "      <td>0.383662</td>\n",
              "      <td>1.937352e+07</td>\n",
              "      <td>MULTIPOLYGON (((9.59146 39.87038, 9.59162 39.8...</td>\n",
              "    </tr>\n",
              "    <tr>\n",
              "      <th>7924</th>\n",
              "      <td>7925</td>\n",
              "      <td>5</td>\n",
              "      <td>20</td>\n",
              "      <td>95</td>\n",
              "      <td>0</td>\n",
              "      <td>95</td>\n",
              "      <td>95083</td>\n",
              "      <td>095083</td>\n",
              "      <td>Magomadas</td>\n",
              "      <td></td>\n",
              "      <td>0</td>\n",
              "      <td>21155.248455</td>\n",
              "      <td>{A59554E8-69CB-4738-9BB1-8866B97B3B76}</td>\n",
              "      <td>0.226034</td>\n",
              "      <td>9.019823e+06</td>\n",
              "      <td>MULTIPOLYGON (((8.48814 40.27146, 8.48851 40.2...</td>\n",
              "    </tr>\n",
              "    <tr>\n",
              "      <th>7925</th>\n",
              "      <td>7926</td>\n",
              "      <td>5</td>\n",
              "      <td>20</td>\n",
              "      <td>95</td>\n",
              "      <td>0</td>\n",
              "      <td>95</td>\n",
              "      <td>95067</td>\n",
              "      <td>095067</td>\n",
              "      <td>Tresnuraghes</td>\n",
              "      <td></td>\n",
              "      <td>0</td>\n",
              "      <td>35093.957084</td>\n",
              "      <td>{77EF3B11-0D58-49D3-BF36-9EFA8390C32C}</td>\n",
              "      <td>0.364775</td>\n",
              "      <td>3.158427e+07</td>\n",
              "      <td>MULTIPOLYGON (((8.52588 40.25615, 8.52563 40.2...</td>\n",
              "    </tr>\n",
              "  </tbody>\n",
              "</table>\n",
              "<p>7926 rows × 16 columns</p>\n",
              "</div>"
            ],
            "text/plain": [
              "       FID  ...                                           geometry\n",
              "0        1  ...  MULTIPOLYGON (((7.93812 45.49086, 7.93818 45.4...\n",
              "1        2  ...  MULTIPOLYGON (((7.91362 45.15298, 7.91369 45.1...\n",
              "2        3  ...  MULTIPOLYGON (((7.18303 45.19351, 7.18342 45.1...\n",
              "3        4  ...  MULTIPOLYGON (((7.90330 45.52628, 7.90360 45.5...\n",
              "4        5  ...  MULTIPOLYGON (((7.65285 45.42981, 7.65407 45.4...\n",
              "...    ...  ...                                                ...\n",
              "7921  7922  ...  MULTIPOLYGON (((9.06375 40.67057, 9.06431 40.6...\n",
              "7922  7923  ...  MULTIPOLYGON (((8.55251 39.27980, 8.55310 39.2...\n",
              "7923  7924  ...  MULTIPOLYGON (((9.59146 39.87038, 9.59162 39.8...\n",
              "7924  7925  ...  MULTIPOLYGON (((8.48814 40.27146, 8.48851 40.2...\n",
              "7925  7926  ...  MULTIPOLYGON (((8.52588 40.25615, 8.52563 40.2...\n",
              "\n",
              "[7926 rows x 16 columns]"
            ]
          },
          "metadata": {
            "tags": []
          },
          "execution_count": 50
        }
      ]
    },
    {
      "cell_type": "code",
      "metadata": {
        "colab": {
          "base_uri": "https://localhost:8080/",
          "height": 775
        },
        "id": "h88ZGHeuRk5b",
        "outputId": "0b075e3b-dfbc-47aa-cd2d-f831aef8ab9b"
      },
      "source": [
        "ax = italy.to_crs(epsg=4326).plot(facecolor=\"none\", edgecolor=\"k\", \n",
        "                                  figsize=(10,10), alpha=0.1)\n",
        "eq.plot(color=\"r\", ax=ax)\n"
      ],
      "execution_count": 51,
      "outputs": [
        {
          "output_type": "error",
          "ename": "NameError",
          "evalue": "ignored",
          "traceback": [
            "\u001b[0;31m---------------------------------------------------------------------------\u001b[0m",
            "\u001b[0;31mNameError\u001b[0m                                 Traceback (most recent call last)",
            "\u001b[0;32m<ipython-input-51-7c353b0c32fa>\u001b[0m in \u001b[0;36m<module>\u001b[0;34m()\u001b[0m\n\u001b[1;32m      1\u001b[0m ax = italy.to_crs(epsg=4326).plot(facecolor=\"none\", edgecolor=\"k\", \n\u001b[1;32m      2\u001b[0m                                   figsize=(10,10), alpha=0.1)\n\u001b[0;32m----> 3\u001b[0;31m \u001b[0meq\u001b[0m\u001b[0;34m.\u001b[0m\u001b[0mplot\u001b[0m\u001b[0;34m(\u001b[0m\u001b[0mcolor\u001b[0m\u001b[0;34m=\u001b[0m\u001b[0;34m\"r\"\u001b[0m\u001b[0;34m,\u001b[0m \u001b[0max\u001b[0m\u001b[0;34m=\u001b[0m\u001b[0max\u001b[0m\u001b[0;34m)\u001b[0m\u001b[0;34m\u001b[0m\u001b[0;34m\u001b[0m\u001b[0m\n\u001b[0m",
            "\u001b[0;31mNameError\u001b[0m: name 'eq' is not defined"
          ]
        },
        {
          "output_type": "display_data",
          "data": {
            "image/png": "[encoded data removed]",
            "text/plain": [
              "<Figure size 720x720 with 1 Axes>"
            ]
          },
          "metadata": {
            "tags": [],
            "needs_background": "light"
          }
        }
      ]
    },
    {
      "cell_type": "code",
      "metadata": {
        "colab": {
          "base_uri": "https://localhost:8080/"
        },
        "id": "VaNWH3kgRmjz",
        "outputId": "4a773c76-3ddb-45da-a2d1-a653baae40b2"
      },
      "source": [
        "nychouses[\"price\"] = pd.to_numeric(nychouses.price, errors=\"coerce\")\n",
        "nychouses[\"price\"].dtypes\n"
      ],
      "execution_count": 52,
      "outputs": [
        {
          "output_type": "execute_result",
          "data": {
            "text/plain": [
              "dtype('float64')"
            ]
          },
          "metadata": {
            "tags": []
          },
          "execution_count": 52
        }
      ]
    },
    {
      "cell_type": "code",
      "metadata": {
        "colab": {
          "base_uri": "https://localhost:8080/",
          "height": 1000
        },
        "id": "7HPYeMSxRvLq",
        "outputId": "54320f0c-2ec7-4b90-a988-7ef1805d1a40"
      },
      "source": [
        "tmp_ = zips.merge(nychouses, right_on=\"zip\", left_on=\"ZIPCODE\").reset_index()\n",
        "tmp_.merge(tmp_[[\"ZIPCODE\", \"price\"]].groupby(\"ZIPCODE\").mean().reset_index(\n",
        "    ), on=\"ZIPCODE\")\n"
      ],
      "execution_count": 53,
      "outputs": [
        {
          "output_type": "execute_result",
          "data": {
            "text/html": [
              "<div>\n",
              "<style scoped>\n",
              "    .dataframe tbody tr th:only-of-type {\n",
              "        vertical-align: middle;\n",
              "    }\n",
              "\n",
              "    .dataframe tbody tr th {\n",
              "        vertical-align: top;\n",
              "    }\n",
              "\n",
              "    .dataframe thead th {\n",
              "        text-align: right;\n",
              "    }\n",
              "</style>\n",
              "<table border=\"1\" class=\"dataframe\">\n",
              "  <thead>\n",
              "    <tr style=\"text-align: right;\">\n",
              "      <th></th>\n",
              "      <th>index</th>\n",
              "      <th>ZIPCODE</th>\n",
              "      <th>BLDGZIP</th>\n",
              "      <th>PO_NAME</th>\n",
              "      <th>POPULATION</th>\n",
              "      <th>AREA</th>\n",
              "      <th>STATE</th>\n",
              "      <th>COUNTY</th>\n",
              "      <th>ST_FIPS</th>\n",
              "      <th>CTY_FIPS</th>\n",
              "      <th>URL</th>\n",
              "      <th>SHAPE_AREA</th>\n",
              "      <th>SHAPE_LEN</th>\n",
              "      <th>geometry</th>\n",
              "      <th>zip</th>\n",
              "      <th>price_x</th>\n",
              "      <th>sqft</th>\n",
              "      <th>bedrooms</th>\n",
              "      <th>bathrooms</th>\n",
              "      <th>price_y</th>\n",
              "    </tr>\n",
              "  </thead>\n",
              "  <tbody>\n",
              "    <tr>\n",
              "      <th>0</th>\n",
              "      <td>0</td>\n",
              "      <td>11436</td>\n",
              "      <td>0</td>\n",
              "      <td>Jamaica</td>\n",
              "      <td>18681.0</td>\n",
              "      <td>2.269930e+07</td>\n",
              "      <td>NY</td>\n",
              "      <td>Queens</td>\n",
              "      <td>36</td>\n",
              "      <td>081</td>\n",
              "      <td>http://www.usps.com/</td>\n",
              "      <td>0.0</td>\n",
              "      <td>0.0</td>\n",
              "      <td>POLYGON ((1038098.252 188138.380, 1038141.936 ...</td>\n",
              "      <td>11436</td>\n",
              "      <td>529999.0</td>\n",
              "      <td>1240.0</td>\n",
              "      <td>4.0</td>\n",
              "      <td>2.0</td>\n",
              "      <td>5.299990e+05</td>\n",
              "    </tr>\n",
              "    <tr>\n",
              "      <th>1</th>\n",
              "      <td>1</td>\n",
              "      <td>11436</td>\n",
              "      <td>0</td>\n",
              "      <td>Jamaica</td>\n",
              "      <td>18681.0</td>\n",
              "      <td>2.269930e+07</td>\n",
              "      <td>NY</td>\n",
              "      <td>Queens</td>\n",
              "      <td>36</td>\n",
              "      <td>081</td>\n",
              "      <td>http://www.usps.com/</td>\n",
              "      <td>0.0</td>\n",
              "      <td>0.0</td>\n",
              "      <td>POLYGON ((1038098.252 188138.380, 1038141.936 ...</td>\n",
              "      <td>11436</td>\n",
              "      <td>529999.0</td>\n",
              "      <td>1240.0</td>\n",
              "      <td>4.0</td>\n",
              "      <td>2.0</td>\n",
              "      <td>5.299990e+05</td>\n",
              "    </tr>\n",
              "    <tr>\n",
              "      <th>2</th>\n",
              "      <td>2</td>\n",
              "      <td>10034</td>\n",
              "      <td>0</td>\n",
              "      <td>New York</td>\n",
              "      <td>39149.0</td>\n",
              "      <td>2.450389e+07</td>\n",
              "      <td>NY</td>\n",
              "      <td>New York</td>\n",
              "      <td>36</td>\n",
              "      <td>061</td>\n",
              "      <td>http://www.usps.com/</td>\n",
              "      <td>0.0</td>\n",
              "      <td>0.0</td>\n",
              "      <td>POLYGON ((1006203.169 257345.657, 1006214.666 ...</td>\n",
              "      <td>10034</td>\n",
              "      <td>619000.0</td>\n",
              "      <td>900.0</td>\n",
              "      <td>2.0</td>\n",
              "      <td>1.0</td>\n",
              "      <td>5.950360e+05</td>\n",
              "    </tr>\n",
              "    <tr>\n",
              "      <th>3</th>\n",
              "      <td>3</td>\n",
              "      <td>10034</td>\n",
              "      <td>0</td>\n",
              "      <td>New York</td>\n",
              "      <td>39149.0</td>\n",
              "      <td>2.450389e+07</td>\n",
              "      <td>NY</td>\n",
              "      <td>New York</td>\n",
              "      <td>36</td>\n",
              "      <td>061</td>\n",
              "      <td>http://www.usps.com/</td>\n",
              "      <td>0.0</td>\n",
              "      <td>0.0</td>\n",
              "      <td>POLYGON ((1006203.169 257345.657, 1006214.666 ...</td>\n",
              "      <td>10034</td>\n",
              "      <td>225000.0</td>\n",
              "      <td>NaN</td>\n",
              "      <td>2.0</td>\n",
              "      <td>1.0</td>\n",
              "      <td>5.950360e+05</td>\n",
              "    </tr>\n",
              "    <tr>\n",
              "      <th>4</th>\n",
              "      <td>4</td>\n",
              "      <td>10034</td>\n",
              "      <td>0</td>\n",
              "      <td>New York</td>\n",
              "      <td>39149.0</td>\n",
              "      <td>2.450389e+07</td>\n",
              "      <td>NY</td>\n",
              "      <td>New York</td>\n",
              "      <td>36</td>\n",
              "      <td>061</td>\n",
              "      <td>http://www.usps.com/</td>\n",
              "      <td>0.0</td>\n",
              "      <td>0.0</td>\n",
              "      <td>POLYGON ((1006203.169 257345.657, 1006214.666 ...</td>\n",
              "      <td>10034</td>\n",
              "      <td>155000.0</td>\n",
              "      <td>NaN</td>\n",
              "      <td>1.0</td>\n",
              "      <td>1.0</td>\n",
              "      <td>5.950360e+05</td>\n",
              "    </tr>\n",
              "    <tr>\n",
              "      <th>...</th>\n",
              "      <td>...</td>\n",
              "      <td>...</td>\n",
              "      <td>...</td>\n",
              "      <td>...</td>\n",
              "      <td>...</td>\n",
              "      <td>...</td>\n",
              "      <td>...</td>\n",
              "      <td>...</td>\n",
              "      <td>...</td>\n",
              "      <td>...</td>\n",
              "      <td>...</td>\n",
              "      <td>...</td>\n",
              "      <td>...</td>\n",
              "      <td>...</td>\n",
              "      <td>...</td>\n",
              "      <td>...</td>\n",
              "      <td>...</td>\n",
              "      <td>...</td>\n",
              "      <td>...</td>\n",
              "      <td>...</td>\n",
              "    </tr>\n",
              "    <tr>\n",
              "      <th>1528</th>\n",
              "      <td>1528</td>\n",
              "      <td>10036</td>\n",
              "      <td>0</td>\n",
              "      <td>New York</td>\n",
              "      <td>23543.0</td>\n",
              "      <td>1.139511e+07</td>\n",
              "      <td>NY</td>\n",
              "      <td>New York</td>\n",
              "      <td>36</td>\n",
              "      <td>061</td>\n",
              "      <td>http://www.usps.com/</td>\n",
              "      <td>0.0</td>\n",
              "      <td>0.0</td>\n",
              "      <td>POLYGON ((989419.213 215672.088, 989967.295 21...</td>\n",
              "      <td>10036</td>\n",
              "      <td>1275000.0</td>\n",
              "      <td>957.0</td>\n",
              "      <td>2.0</td>\n",
              "      <td>2.0</td>\n",
              "      <td>6.720077e+06</td>\n",
              "    </tr>\n",
              "    <tr>\n",
              "      <th>1529</th>\n",
              "      <td>1529</td>\n",
              "      <td>10036</td>\n",
              "      <td>0</td>\n",
              "      <td>New York</td>\n",
              "      <td>23543.0</td>\n",
              "      <td>1.139511e+07</td>\n",
              "      <td>NY</td>\n",
              "      <td>New York</td>\n",
              "      <td>36</td>\n",
              "      <td>061</td>\n",
              "      <td>http://www.usps.com/</td>\n",
              "      <td>0.0</td>\n",
              "      <td>0.0</td>\n",
              "      <td>POLYGON ((989419.213 215672.088, 989967.295 21...</td>\n",
              "      <td>10036</td>\n",
              "      <td>785000.0</td>\n",
              "      <td>950.0</td>\n",
              "      <td>2.0</td>\n",
              "      <td>1.0</td>\n",
              "      <td>6.720077e+06</td>\n",
              "    </tr>\n",
              "    <tr>\n",
              "      <th>1530</th>\n",
              "      <td>1530</td>\n",
              "      <td>10036</td>\n",
              "      <td>0</td>\n",
              "      <td>New York</td>\n",
              "      <td>23543.0</td>\n",
              "      <td>1.139511e+07</td>\n",
              "      <td>NY</td>\n",
              "      <td>New York</td>\n",
              "      <td>36</td>\n",
              "      <td>061</td>\n",
              "      <td>http://www.usps.com/</td>\n",
              "      <td>0.0</td>\n",
              "      <td>0.0</td>\n",
              "      <td>POLYGON ((989419.213 215672.088, 989967.295 21...</td>\n",
              "      <td>10036</td>\n",
              "      <td>449000.0</td>\n",
              "      <td>510.0</td>\n",
              "      <td>0</td>\n",
              "      <td>10.0</td>\n",
              "      <td>6.720077e+06</td>\n",
              "    </tr>\n",
              "    <tr>\n",
              "      <th>1531</th>\n",
              "      <td>1531</td>\n",
              "      <td>10036</td>\n",
              "      <td>0</td>\n",
              "      <td>New York</td>\n",
              "      <td>23543.0</td>\n",
              "      <td>1.139511e+07</td>\n",
              "      <td>NY</td>\n",
              "      <td>New York</td>\n",
              "      <td>36</td>\n",
              "      <td>061</td>\n",
              "      <td>http://www.usps.com/</td>\n",
              "      <td>0.0</td>\n",
              "      <td>0.0</td>\n",
              "      <td>POLYGON ((989419.213 215672.088, 989967.295 21...</td>\n",
              "      <td>10036</td>\n",
              "      <td>50000000.0</td>\n",
              "      <td>12500.0</td>\n",
              "      <td>10.0</td>\n",
              "      <td>10.0</td>\n",
              "      <td>6.720077e+06</td>\n",
              "    </tr>\n",
              "    <tr>\n",
              "      <th>1532</th>\n",
              "      <td>1532</td>\n",
              "      <td>10036</td>\n",
              "      <td>0</td>\n",
              "      <td>New York</td>\n",
              "      <td>23543.0</td>\n",
              "      <td>1.139511e+07</td>\n",
              "      <td>NY</td>\n",
              "      <td>New York</td>\n",
              "      <td>36</td>\n",
              "      <td>061</td>\n",
              "      <td>http://www.usps.com/</td>\n",
              "      <td>0.0</td>\n",
              "      <td>0.0</td>\n",
              "      <td>POLYGON ((989419.213 215672.088, 989967.295 21...</td>\n",
              "      <td>10036</td>\n",
              "      <td>1550000.0</td>\n",
              "      <td>957.0</td>\n",
              "      <td>2.0</td>\n",
              "      <td>2.0</td>\n",
              "      <td>6.720077e+06</td>\n",
              "    </tr>\n",
              "  </tbody>\n",
              "</table>\n",
              "<p>1533 rows × 20 columns</p>\n",
              "</div>"
            ],
            "text/plain": [
              "      index ZIPCODE BLDGZIP   PO_NAME  ...     sqft  bedrooms bathrooms       price_y\n",
              "0         0   11436       0   Jamaica  ...   1240.0       4.0       2.0  5.299990e+05\n",
              "1         1   11436       0   Jamaica  ...   1240.0       4.0       2.0  5.299990e+05\n",
              "2         2   10034       0  New York  ...    900.0       2.0       1.0  5.950360e+05\n",
              "3         3   10034       0  New York  ...      NaN       2.0       1.0  5.950360e+05\n",
              "4         4   10034       0  New York  ...      NaN       1.0       1.0  5.950360e+05\n",
              "...     ...     ...     ...       ...  ...      ...       ...       ...           ...\n",
              "1528   1528   10036       0  New York  ...    957.0       2.0       2.0  6.720077e+06\n",
              "1529   1529   10036       0  New York  ...    950.0       2.0       1.0  6.720077e+06\n",
              "1530   1530   10036       0  New York  ...    510.0         0      10.0  6.720077e+06\n",
              "1531   1531   10036       0  New York  ...  12500.0      10.0      10.0  6.720077e+06\n",
              "1532   1532   10036       0  New York  ...    957.0       2.0       2.0  6.720077e+06\n",
              "\n",
              "[1533 rows x 20 columns]"
            ]
          },
          "metadata": {
            "tags": []
          },
          "execution_count": 53
        }
      ]
    },
    {
      "cell_type": "code",
      "metadata": {
        "id": "tOEyHjE6SZCT"
      },
      "source": [
        ""
      ],
      "execution_count": null,
      "outputs": []
    }
  ]
}