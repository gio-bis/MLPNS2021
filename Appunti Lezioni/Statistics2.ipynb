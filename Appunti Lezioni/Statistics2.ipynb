{
  "nbformat": 4,
  "nbformat_minor": 0,
  "metadata": {
    "colab": {
      "name": "Statistics.ipynb",
      "provenance": [],
      "authorship_tag": "ABX9TyN6ldPVdwh9TLKk/h2ka3Cx",
      "include_colab_link": true
    },
    "kernelspec": {
      "name": "python3",
      "display_name": "Python 3"
    },
    "language_info": {
      "name": "python"
    }
  },
  "cells": [
    {
      "cell_type": "markdown",
      "metadata": {
        "id": "view-in-github",
        "colab_type": "text"
      },
      "source": [
        "<a href=\"https://colab.research.google.com/github/gio-bis/MLPNS2021/blob/main/Appunti%20Lezioni/Statistics.ipynb\" target=\"_parent\"><img src=\"https://colab.research.google.com/assets/colab-badge.svg\" alt=\"Open In Colab\"/></a>"
      ]
    },
    {
      "cell_type": "markdown",
      "metadata": {
        "id": "-wwhgHU5hzXI"
      },
      "source": [
        "Solitamente non abbiamo il modello, ma valori per i parametri che il modello assume.\n",
        "The likelihood is the probability of data given the parameter.\n",
        "Prior is constraint on the model (per esempio si rimuove una regione nello spazio dei parametri). "
      ]
    }
  ]
}
