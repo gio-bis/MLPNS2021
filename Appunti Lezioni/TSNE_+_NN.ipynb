{
  "nbformat": 4,
  "nbformat_minor": 0,
  "metadata": {
    "colab": {
      "name": "TSNE + NN.ipynb",
      "provenance": [],
      "authorship_tag": "ABX9TyPk7aGvq/cbx7yyEUE6wl7A",
      "include_colab_link": true
    },
    "kernelspec": {
      "name": "python3",
      "display_name": "Python 3"
    },
    "language_info": {
      "name": "python"
    }
  },
  "cells": [
    {
      "cell_type": "markdown",
      "metadata": {
        "id": "view-in-github",
        "colab_type": "text"
      },
      "source": [
        "<a href=\"https://colab.research.google.com/github/gio-bis/MLPNS2021/blob/main/Appunti%20Lezioni/TSNE_%2B_NN.ipynb\" target=\"_parent\"><img src=\"https://colab.research.google.com/assets/colab-badge.svg\" alt=\"Open In Colab\"/></a>"
      ]
    },
    {
      "cell_type": "markdown",
      "metadata": {
        "id": "LgvvLGL4GKN2"
      },
      "source": [
        "A bassa perplexity ( = 3) la proiezione fallisce, mi dice che tutti gli oggetti sono alla stessa distanza, ma so che non è vero perché lo vedo in altre T-SNE e perché è un dataset che può essere classificato sulla base di queste variabili, quindi c'è una struttura. A perplexity = 10 l'exaggeration permette di trovare outlaiers. Nella maggiorparte dei casi faccio raggruppamento proprio per trovare outlaiers. Perplexity = 50 ha creato regioni interessanti (alcune isole)"
      ]
    }
  ]
}