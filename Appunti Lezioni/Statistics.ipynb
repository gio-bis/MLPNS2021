{
  "nbformat": 4,
  "nbformat_minor": 0,
  "metadata": {
    "colab": {
      "name": "Statistics.ipynb",
      "provenance": [],
      "authorship_tag": "ABX9TyMYdu+sJk+0twwa7xlX79Lr",
      "include_colab_link": true
    },
    "kernelspec": {
      "name": "python3",
      "display_name": "Python 3"
    },
    "language_info": {
      "name": "python"
    }
  },
  "cells": [
    {
      "cell_type": "markdown",
      "metadata": {
        "id": "view-in-github",
        "colab_type": "text"
      },
      "source": [
        "<a href=\"https://colab.research.google.com/github/gio-bis/MLPNS2021/blob/main/Appunti%20Lezioni/Statistics.ipynb\" target=\"_parent\"><img src=\"https://colab.research.google.com/assets/colab-badge.svg\" alt=\"Open In Colab\"/></a>"
      ]
    },
    {
      "cell_type": "markdown",
      "metadata": {
        "id": "eZphp5uRwG2f"
      },
      "source": [
        "# Statistics: NHRT 1"
      ]
    },
    {
      "cell_type": "markdown",
      "metadata": {
        "id": "u6caHLBmwVPp"
      },
      "source": [
        "Vogliamo capire qual è la probability of physics given the data, given what we observe.\n",
        "In the null Hypothesis rejection test a distribution represents the frequency at whic some number will be drawn from. \n",
        "\n",
        "If data does not falsify our model than the model still hold, if data falsify our model, it is rejected.\n",
        "\n",
        "In null hypothesis rejection test: \"under the hypthotesis\" means if the model holds true then something should happen (it has low probability of happening).\n",
        "\n",
        "We choose the threshold before. Then we create a null hypothesis that is the opposite of our new innovative model. It includes everything but our prediction and we try to falsify the null hypothesis. If the falsification is successful then all I am left with is with my alternative hypothesis which is my alternative model.\n",
        "\n",
        "1) You're going to formulate the prediction based on what you thing the reality actually works. This is your alternative hypothesis. \n",
        "\n",
        "2) Then you indentify all the outcomes that are alternative to your idea\n",
        "\n",
        "3) We need an experiment that tells us that a certain value will come out at a certain frequency under the null hypothesis. I'll need to find a quantity that has a defined probability distribution, measure that quantity and find out if the number I got appear with a frequency less than my threshold\n",
        "\n",
        "4) Pivotal quantities are measurable quantities that under the null hypothesis have a known distribution themselves. I'm gonna look to a pivotal quantity that is relates to something that I can measure. \n",
        "chi2-test because the quantity I measure follow the chi2 distribution\n",
        "\n",
        "5) Measure the quantities\n",
        "\n",
        "6)If the probability of the null hypothesis given the data is smaller than alpha (the threshold) then I believe the prediction is unlikely and the model is rejected and the alternative model holds. \n"
      ]
    }
  ]
}