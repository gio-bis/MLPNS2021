{
  "nbformat": 4,
  "nbformat_minor": 0,
  "metadata": {
    "colab": {
      "name": "Knn and single tree.ipynb",
      "provenance": [],
      "authorship_tag": "ABX9TyMOzHZx+9B3fCbCSrYQWWQg",
      "include_colab_link": true
    },
    "kernelspec": {
      "name": "python3",
      "display_name": "Python 3"
    },
    "language_info": {
      "name": "python"
    }
  },
  "cells": [
    {
      "cell_type": "markdown",
      "metadata": {
        "id": "view-in-github",
        "colab_type": "text"
      },
      "source": [
        "<a href=\"https://colab.research.google.com/github/gio-bis/MLPNS2021/blob/main/Appunti%20Lezioni/Knn_and_single_tree.ipynb\" target=\"_parent\"><img src=\"https://colab.research.google.com/assets/colab-badge.svg\" alt=\"Open In Colab\"/></a>"
      ]
    },
    {
      "cell_type": "markdown",
      "metadata": {
        "id": "Ae8sctA-10zK"
      },
      "source": [
        "The score tell me the accuracy of the model, so what is the fraction of the correct label predicted.\n",
        "Se c'è una grande differenza tra score sui training e test data significa che il modello ha imparato caratteristiche specifiche sul training set e non sta generalizzando. It is an example of .\n",
        "\n",
        "\\\n",
        "Gli alberi non sono deterministici. Questo soprattutto perché se ho variabili continue l'albero può fare un infinito numero di scelte per splittare. Alberi diversi portano a risultati diversi. La soluzione è usare ensembles tree"
      ]
    }
  ]
}