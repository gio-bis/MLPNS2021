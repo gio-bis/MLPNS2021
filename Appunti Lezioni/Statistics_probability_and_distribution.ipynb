{
  "nbformat": 4,
  "nbformat_minor": 0,
  "metadata": {
    "colab": {
      "name": "Statistics: probability and distribution.ipynb",
      "provenance": [],
      "collapsed_sections": [],
      "authorship_tag": "ABX9TyOWU/zdgGVi+nGIUohr+3bH",
      "include_colab_link": true
    },
    "kernelspec": {
      "name": "python3",
      "display_name": "Python 3"
    },
    "language_info": {
      "name": "python"
    }
  },
  "cells": [
    {
      "cell_type": "markdown",
      "metadata": {
        "id": "view-in-github",
        "colab_type": "text"
      },
      "source": [
        "<a href=\"https://colab.research.google.com/github/gio-bis/MLPNS2021/blob/main/Appunti%20Lezioni/Statistics_probability_and_distribution.ipynb\" target=\"_parent\"><img src=\"https://colab.research.google.com/assets/colab-badge.svg\" alt=\"Open In Colab\"/></a>"
      ]
    },
    {
      "cell_type": "markdown",
      "metadata": {
        "id": "VY2mhXZod2TE"
      },
      "source": [
        "##Appunti Statistics: probability and distribution\n"
      ]
    },
    {
      "cell_type": "markdown",
      "metadata": {
        "id": "thmgqu9Gd-Fw"
      },
      "source": [
        "Statistic is based on observation on a limited number of sample to infer on the population.\n",
        "\n",
        "A *distribution* is a mathematical formula that defines the frequency at which things take a value. It's a model.\n",
        "\n",
        "*Population* is the entire set of elements that are interested on a particular phenomena.\n",
        "\n",
        "*Sample* is a finite subset of the population that you observe.\n",
        "\n",
        "The alternative of statistics is the observation of every single phenomenon. \n",
        "\n",
        "Random means that if I pull a number out of these random distribution any given number will appear with a certain frequency which I interpret as a probability.\n",
        "\n",
        "Descriptive statistics: when you have a set of number you can summarize its properties by looking at some specific characteristics of the distribution. Thet are the spread, the central tendency, the mean, standard deviation the skewness, kurtosis ... Descriptive statistics is always part of our analysis. \n",
        "\n",
        "Don't use the mean to describe a distribution because it is subject to the presence of outlier in the distribution. You use the median instead of the mean to describe the central tendency of the distribution. The median is the place where 50 percent of numbers al larger and 50 percent of numbers are smaller.There is no method median associated to numpy. The mode is the most frequent value. If a distribution is symmetric the mean and the median are the same. The spread of distribution is generally measured as the variance or the standard deviation. The variance is the square of the standard deviation.\n",
        "What define your confidence is what percent of distribution is within your confidence interval.\n",
        "\n",
        "#### Probability distributions\n",
        "**Binomial distribution** has only positive support, which means that has only x-axis values greater than 0.\n",
        "\n",
        "**Poisson distribution** is only for countable things. The support is only positive. When the mean is large it become symmetric and it is a Gaussian whit mean = lambda and standard deviation = sqrt(lambda). It is true also for the binomial distribution which can be approximated by gaussian in an appropriate regime.\n",
        "\n",
        "**Chi-square distribution** \n",
        "\n",
        "#### Law of large number\n",
        "It tells me that if I have a large enough sample and I calculate its statistical properties (the mean and the std) there will be not differences from the population from which I selected the sample.\n",
        "\n",
        "Assuming that I have a set of indipendent (there are no covariance between the variables that I selected from the sample) and identically distributed (they came from the same distribution) random variable, each sample will have the same mean and the same std. Then, when I take the mean of the sample is close to the mean of the population. The mean of the random sample is a random variable which is gaussian distributed with standard deviation and meand determined by the size of the sample. So, for N that grows to infinity the mean gets infinitely closer to the mean of the popultion.\n",
        "\n",
        "It deals with the size of one sample.\n",
        "\n",
        "\n",
        "#### Central Limit Theorem\n",
        "It deals with N samples and he falls in the law of arge numbers inside of it.\n",
        "X_1,...,X_n are now element an samples from the population. So each one of these x_i is a sample of n variables that are taken from the same population. For the limit of the number of samples N that grows large, the average of the sample means (I take N samples, I take the mean of each of the samples and I take the average of those means. That one approcheas the mean of the population in a way that is gaussian distributes with mean 0 and std = sigma/sqrt(N). So not only I get closer to the mean of population but I can quantify how far I am statistically from the mean of population. Because "
      ]
    }
  ]
}