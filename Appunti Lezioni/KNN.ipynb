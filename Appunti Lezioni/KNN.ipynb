{
  "nbformat": 4,
  "nbformat_minor": 0,
  "metadata": {
    "colab": {
      "name": "KNN.ipynb",
      "provenance": [],
      "authorship_tag": "ABX9TyNGttJic6pxnHQ50wiQYqZJ",
      "include_colab_link": true
    },
    "kernelspec": {
      "name": "python3",
      "display_name": "Python 3"
    },
    "language_info": {
      "name": "python"
    }
  },
  "cells": [
    {
      "cell_type": "markdown",
      "metadata": {
        "id": "view-in-github",
        "colab_type": "text"
      },
      "source": [
        "<a href=\"https://colab.research.google.com/github/gio-bis/MLPNS2021/blob/main/Appunti%20Lezioni/KNN.ipynb\" target=\"_parent\"><img src=\"https://colab.research.google.com/assets/colab-badge.svg\" alt=\"Open In Colab\"/></a>"
      ]
    },
    {
      "cell_type": "markdown",
      "metadata": {
        "id": "wYAmRFbxSjZt"
      },
      "source": [
        "I tree permettono di lavorare con uno spazio delle features ibrido, cioè costituito sia da features categoriche che numeriche. I risultati inoltre sono indipendenti dalla covarianza delle features, che diventa importante solo quando voglio studiare la features importance.\n",
        "\n",
        "##KNN \n",
        "Sono adatti per variabili numeriche.\n",
        "It is a non parametric model. L'unico parametro è il numero k. Per tale ragione è un ottimo classificatore. Inoltre, è molto buono per grandi training sets. Tuttavia, è buono solo se si ha un concetto di distanza. I dati che vuoi predirre deveono essere distribuiti identicamente ai dati che hai. Se gli oggetti sono sparsi non funziona bene. Quindi non va bene se ci sono buchi o outliers nel dataset (lo spazio dei dati deve essere denso).\n",
        "Non voglio definire una distanza se ho variabili sia categoriche che numeriche.\n",
        "Ho un upper limit sull'errore della predizione"
      ]
    }
  ]
}