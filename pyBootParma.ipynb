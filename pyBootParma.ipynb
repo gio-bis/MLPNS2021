{
  "nbformat": 4,
  "nbformat_minor": 0,
  "metadata": {
    "colab": {
      "name": "pyBootParma.ipynb",
      "provenance": [],
      "authorship_tag": "ABX9TyNcHFu/aPWrtp6ygdDgL2B3",
      "include_colab_link": true
    },
    "kernelspec": {
      "name": "python3",
      "display_name": "Python 3"
    }
  },
  "cells": [
    {
      "cell_type": "markdown",
      "metadata": {
        "id": "view-in-github",
        "colab_type": "text"
      },
      "source": [
        "<a href=\"https://colab.research.google.com/github/gio-bis/MLPNS2021/blob/main/pyBootParma.ipynb\" target=\"_parent\"><img src=\"https://colab.research.google.com/assets/colab-badge.svg\" alt=\"Open In Colab\"/></a>"
      ]
    },
    {
      "cell_type": "code",
      "metadata": {
        "id": "N5ZjIeDLWTuR"
      },
      "source": [
        ""
      ],
      "execution_count": 158,
      "outputs": []
    },
    {
      "cell_type": "markdown",
      "metadata": {
        "id": "Mm2SsDdOW1K-"
      },
      "source": [
        "# hello"
      ]
    },
    {
      "cell_type": "markdown",
      "metadata": {
        "id": "sli4aiEfXYka"
      },
      "source": [
        "Questa è una prova per imparare cose\n"
      ]
    },
    {
      "cell_type": "code",
      "metadata": {
        "id": "7WGKOEPEXeAT"
      },
      "source": [
        "# bla bla bla"
      ],
      "execution_count": 159,
      "outputs": []
    },
    {
      "cell_type": "code",
      "metadata": {
        "colab": {
          "base_uri": "https://localhost:8080/"
        },
        "id": "plhTmPErdDgl",
        "outputId": "6e03a8cb-f1b9-4f87-844b-bdbc9dbe4570"
      },
      "source": [
        "print (\"hello\")"
      ],
      "execution_count": 160,
      "outputs": [
        {
          "output_type": "stream",
          "text": [
            "hello\n"
          ],
          "name": "stdout"
        }
      ]
    },
    {
      "cell_type": "code",
      "metadata": {
        "id": "PFPcNmU_drRF"
      },
      "source": [
        "from __future__ import print_function, division"
      ],
      "execution_count": 161,
      "outputs": []
    },
    {
      "cell_type": "code",
      "metadata": {
        "id": "lneAxd4pekD-"
      },
      "source": [
        "stringVariable = \"hello!\""
      ],
      "execution_count": 162,
      "outputs": []
    },
    {
      "cell_type": "code",
      "metadata": {
        "colab": {
          "base_uri": "https://localhost:8080/"
        },
        "id": "mzym2hQ5gAh-",
        "outputId": "22a247f6-2973-4b37-fe61-3864a176b6ce"
      },
      "source": [
        "print (stringVariable)"
      ],
      "execution_count": 163,
      "outputs": [
        {
          "output_type": "stream",
          "text": [
            "hello!\n"
          ],
          "name": "stdout"
        }
      ]
    },
    {
      "cell_type": "code",
      "metadata": {
        "colab": {
          "base_uri": "https://localhost:8080/"
        },
        "id": "fTR4iKLPgHXJ",
        "outputId": "42d29912-95a6-4fdb-8700-fd39428b97e9"
      },
      "source": [
        "print (stringVariable)"
      ],
      "execution_count": 164,
      "outputs": [
        {
          "output_type": "stream",
          "text": [
            "hello!\n"
          ],
          "name": "stdout"
        }
      ]
    },
    {
      "cell_type": "code",
      "metadata": {
        "id": "fzEEequxgfvE"
      },
      "source": [
        "intVariable = 3"
      ],
      "execution_count": 165,
      "outputs": []
    },
    {
      "cell_type": "code",
      "metadata": {
        "colab": {
          "base_uri": "https://localhost:8080/"
        },
        "id": "WZYHee_HhA5Z",
        "outputId": "e85368ba-a96b-40a5-f1c6-2badfd4261ad"
      },
      "source": [
        "type(intVariable)"
      ],
      "execution_count": 166,
      "outputs": [
        {
          "output_type": "execute_result",
          "data": {
            "text/plain": [
              "int"
            ]
          },
          "metadata": {
            "tags": []
          },
          "execution_count": 166
        }
      ]
    },
    {
      "cell_type": "code",
      "metadata": {
        "colab": {
          "base_uri": "https://localhost:8080/"
        },
        "id": "jkLlgWNBhFA4",
        "outputId": "80c9e123-e157-42f0-b0c8-f2ef74031577"
      },
      "source": [
        "type(stringVariable)"
      ],
      "execution_count": 167,
      "outputs": [
        {
          "output_type": "execute_result",
          "data": {
            "text/plain": [
              "str"
            ]
          },
          "metadata": {
            "tags": []
          },
          "execution_count": 167
        }
      ]
    },
    {
      "cell_type": "code",
      "metadata": {
        "id": "nVvsG8jchH5f"
      },
      "source": [
        "floatVariable = 3."
      ],
      "execution_count": 168,
      "outputs": []
    },
    {
      "cell_type": "code",
      "metadata": {
        "colab": {
          "base_uri": "https://localhost:8080/"
        },
        "id": "QY0VMzJghMDL",
        "outputId": "2be17070-adee-4555-a881-43c5e2e9d171"
      },
      "source": [
        "type(floatVariable)"
      ],
      "execution_count": 169,
      "outputs": [
        {
          "output_type": "execute_result",
          "data": {
            "text/plain": [
              "float"
            ]
          },
          "metadata": {
            "tags": []
          },
          "execution_count": 169
        }
      ]
    },
    {
      "cell_type": "code",
      "metadata": {
        "colab": {
          "base_uri": "https://localhost:8080/"
        },
        "id": "0-IVStZFhOTF",
        "outputId": "ffe038ea-b88a-4418-e9cf-e38f716d49f7"
      },
      "source": [
        "5 * 2"
      ],
      "execution_count": 170,
      "outputs": [
        {
          "output_type": "execute_result",
          "data": {
            "text/plain": [
              "10"
            ]
          },
          "metadata": {
            "tags": []
          },
          "execution_count": 170
        }
      ]
    },
    {
      "cell_type": "code",
      "metadata": {
        "colab": {
          "base_uri": "https://localhost:8080/"
        },
        "id": "GFKmhLCahQY6",
        "outputId": "be2e93d0-55f4-4dcb-f16f-6f0c1239ee8e"
      },
      "source": [
        "intVariable * floatVariable"
      ],
      "execution_count": 171,
      "outputs": [
        {
          "output_type": "execute_result",
          "data": {
            "text/plain": [
              "9.0"
            ]
          },
          "metadata": {
            "tags": []
          },
          "execution_count": 171
        }
      ]
    },
    {
      "cell_type": "code",
      "metadata": {
        "colab": {
          "base_uri": "https://localhost:8080/"
        },
        "id": "lqLtyCWXhVHv",
        "outputId": "76fb2115-fab1-414a-f5fb-b39c90d30ff3"
      },
      "source": [
        "int(intVariable * floatVariable)"
      ],
      "execution_count": 172,
      "outputs": [
        {
          "output_type": "execute_result",
          "data": {
            "text/plain": [
              "9"
            ]
          },
          "metadata": {
            "tags": []
          },
          "execution_count": 172
        }
      ]
    },
    {
      "cell_type": "code",
      "metadata": {
        "colab": {
          "base_uri": "https://localhost:8080/",
          "height": 35
        },
        "id": "z7bdErm9h_Lo",
        "outputId": "05906c54-f2f5-4f01-fc79-48748b303b84"
      },
      "source": [
        "str(intVariable * floatVariable)"
      ],
      "execution_count": 173,
      "outputs": [
        {
          "output_type": "execute_result",
          "data": {
            "application/vnd.google.colaboratory.intrinsic+json": {
              "type": "string"
            },
            "text/plain": [
              "'9.0'"
            ]
          },
          "metadata": {
            "tags": []
          },
          "execution_count": 173
        }
      ]
    },
    {
      "cell_type": "code",
      "metadata": {
        "id": "-5-cCeSviBUx"
      },
      "source": [
        "boolVar = True"
      ],
      "execution_count": 174,
      "outputs": []
    },
    {
      "cell_type": "code",
      "metadata": {
        "colab": {
          "base_uri": "https://localhost:8080/"
        },
        "id": "5AOt9CIeiOVR",
        "outputId": "3bf6bec3-c0ce-4f43-c4e9-91ddc36483eb"
      },
      "source": [
        "boolVar"
      ],
      "execution_count": 175,
      "outputs": [
        {
          "output_type": "execute_result",
          "data": {
            "text/plain": [
              "True"
            ]
          },
          "metadata": {
            "tags": []
          },
          "execution_count": 175
        }
      ]
    },
    {
      "cell_type": "code",
      "metadata": {
        "colab": {
          "base_uri": "https://localhost:8080/"
        },
        "id": "uIDxkBeyiRKj",
        "outputId": "de52e119-ae2a-4de7-d60c-24e45c834bd3"
      },
      "source": [
        "(type(floatVariable) == float)"
      ],
      "execution_count": 176,
      "outputs": [
        {
          "output_type": "execute_result",
          "data": {
            "text/plain": [
              "True"
            ]
          },
          "metadata": {
            "tags": []
          },
          "execution_count": 176
        }
      ]
    },
    {
      "cell_type": "code",
      "metadata": {
        "colab": {
          "base_uri": "https://localhost:8080/"
        },
        "id": "maY4ZClyiakG",
        "outputId": "62c0c9ca-7bcd-4b47-9ad1-ef81c8974652"
      },
      "source": [
        "if type(floatVariable) == float:\n",
        "  print(\"yes its a float\")"
      ],
      "execution_count": 177,
      "outputs": [
        {
          "output_type": "stream",
          "text": [
            "yes its a float\n"
          ],
          "name": "stdout"
        }
      ]
    },
    {
      "cell_type": "code",
      "metadata": {
        "colab": {
          "base_uri": "https://localhost:8080/"
        },
        "id": "Gc7ljOugivHv",
        "outputId": "0cca6e43-4ddd-4476-e639-a46747c5b5d8"
      },
      "source": [
        "if not type(floatVariable) == float:\n",
        "  print(\"yes its a float\")\n",
        "else : \n",
        "  print (\"yes\")"
      ],
      "execution_count": 178,
      "outputs": [
        {
          "output_type": "stream",
          "text": [
            "yes\n"
          ],
          "name": "stdout"
        }
      ]
    },
    {
      "cell_type": "code",
      "metadata": {
        "colab": {
          "base_uri": "https://localhost:8080/"
        },
        "id": "xPAhnGtLi1yT",
        "outputId": "94d2bb24-5d96-494a-d61e-9a60e85be520"
      },
      "source": [
        "if 0:\n",
        "  print(\"no\")\n",
        "else :\n",
        "  print (\"yes\")\n"
      ],
      "execution_count": 179,
      "outputs": [
        {
          "output_type": "stream",
          "text": [
            "yes\n"
          ],
          "name": "stdout"
        }
      ]
    },
    {
      "cell_type": "code",
      "metadata": {
        "colab": {
          "base_uri": "https://localhost:8080/"
        },
        "id": "b0nTArRwjadK",
        "outputId": "151f2218-647a-4a32-850c-786088a8caec"
      },
      "source": [
        "if -1:\n",
        "  print(\"yes\")\n",
        "else :\n",
        "  print (\"no\")"
      ],
      "execution_count": 180,
      "outputs": [
        {
          "output_type": "stream",
          "text": [
            "yes\n"
          ],
          "name": "stdout"
        }
      ]
    },
    {
      "cell_type": "code",
      "metadata": {
        "colab": {
          "base_uri": "https://localhost:8080/"
        },
        "id": "0qClsOKbjdQU",
        "outputId": "5e3e4a4a-f29e-4e14-8967-9585e388e4f3"
      },
      "source": [
        "if type(floatVariable) == float or floatVariable < 0:\n",
        "  print (\"yes its a float > 1\")"
      ],
      "execution_count": 181,
      "outputs": [
        {
          "output_type": "stream",
          "text": [
            "yes its a float > 1\n"
          ],
          "name": "stdout"
        }
      ]
    },
    {
      "cell_type": "code",
      "metadata": {
        "id": "cLFyKj7Dj1NE",
        "colab": {
          "base_uri": "https://localhost:8080/"
        },
        "outputId": "d0204726-e19c-4152-e6d3-254f6be9f3eb"
      },
      "source": [
        "for a in range(10):\n",
        "  print(a)\n",
        "  "
      ],
      "execution_count": 182,
      "outputs": [
        {
          "output_type": "stream",
          "text": [
            "0\n",
            "1\n",
            "2\n",
            "3\n",
            "4\n",
            "5\n",
            "6\n",
            "7\n",
            "8\n",
            "9\n"
          ],
          "name": "stdout"
        }
      ]
    },
    {
      "cell_type": "code",
      "metadata": {
        "colab": {
          "base_uri": "https://localhost:8080/"
        },
        "id": "2yZOvIzJZBLk",
        "outputId": "7b5fe25c-4a29-461d-d842-976eda11a818"
      },
      "source": [
        "a = 0\n",
        "while a is not 10:\n",
        "  a =a+1\n",
        "  print(a)"
      ],
      "execution_count": 183,
      "outputs": [
        {
          "output_type": "stream",
          "text": [
            "1\n",
            "2\n",
            "3\n",
            "4\n",
            "5\n",
            "6\n",
            "7\n",
            "8\n",
            "9\n",
            "10\n"
          ],
          "name": "stdout"
        }
      ]
    },
    {
      "cell_type": "code",
      "metadata": {
        "id": "lczaVJcjZ1Ve"
      },
      "source": [
        ""
      ],
      "execution_count": 183,
      "outputs": []
    },
    {
      "cell_type": "markdown",
      "metadata": {
        "id": "U6v4Bs-8aNao"
      },
      "source": [
        "variable containers\n"
      ]
    },
    {
      "cell_type": "code",
      "metadata": {
        "colab": {
          "base_uri": "https://localhost:8080/"
        },
        "id": "fw8u16GdaMJR",
        "outputId": "566ed173-0b97-4836-9eba-f7c5affc02b1"
      },
      "source": [
        "myList = [0, 1, 3, \"hello\", 3.3]\n",
        "myList"
      ],
      "execution_count": 184,
      "outputs": [
        {
          "output_type": "execute_result",
          "data": {
            "text/plain": [
              "[0, 1, 3, 'hello', 3.3]"
            ]
          },
          "metadata": {
            "tags": []
          },
          "execution_count": 184
        }
      ]
    },
    {
      "cell_type": "code",
      "metadata": {
        "id": "m26DZfcJaxYT"
      },
      "source": [
        ""
      ],
      "execution_count": 184,
      "outputs": []
    },
    {
      "cell_type": "code",
      "metadata": {
        "colab": {
          "base_uri": "https://localhost:8080/"
        },
        "id": "pMKGBiD-aYqo",
        "outputId": "caffe602-cd67-4930-d39a-5a70c5e4065a"
      },
      "source": [
        "type(myList)"
      ],
      "execution_count": 185,
      "outputs": [
        {
          "output_type": "execute_result",
          "data": {
            "text/plain": [
              "list"
            ]
          },
          "metadata": {
            "tags": []
          },
          "execution_count": 185
        }
      ]
    },
    {
      "cell_type": "code",
      "metadata": {
        "colab": {
          "base_uri": "https://localhost:8080/"
        },
        "id": "qh8CTJfnazkA",
        "outputId": "5046db9a-0cda-4d32-b5c6-898ddfbaa4c1"
      },
      "source": [
        "myList = [0, 1, 3, \"hello\", 3.3, [0, 2, 3.3]]\n",
        "myList"
      ],
      "execution_count": 186,
      "outputs": [
        {
          "output_type": "execute_result",
          "data": {
            "text/plain": [
              "[0, 1, 3, 'hello', 3.3, [0, 2, 3.3]]"
            ]
          },
          "metadata": {
            "tags": []
          },
          "execution_count": 186
        }
      ]
    },
    {
      "cell_type": "code",
      "metadata": {
        "colab": {
          "base_uri": "https://localhost:8080/"
        },
        "id": "P1y2Xulca6L6",
        "outputId": "10077720-0023-49a0-9141-f52cd0446a9c"
      },
      "source": [
        "myList[-1]"
      ],
      "execution_count": 187,
      "outputs": [
        {
          "output_type": "execute_result",
          "data": {
            "text/plain": [
              "[0, 2, 3.3]"
            ]
          },
          "metadata": {
            "tags": []
          },
          "execution_count": 187
        }
      ]
    },
    {
      "cell_type": "code",
      "metadata": {
        "id": "UAE9RijwbBSU"
      },
      "source": [
        "intVariable = 3\n",
        "floatVariable = 3."
      ],
      "execution_count": 188,
      "outputs": []
    },
    {
      "cell_type": "code",
      "metadata": {
        "colab": {
          "base_uri": "https://localhost:8080/"
        },
        "id": "05pTnWEbbg-8",
        "outputId": "14941dcf-6168-42a5-a4a7-7b7407004426"
      },
      "source": [
        "myList + myList"
      ],
      "execution_count": 189,
      "outputs": [
        {
          "output_type": "execute_result",
          "data": {
            "text/plain": [
              "[0, 1, 3, 'hello', 3.3, [0, 2, 3.3], 0, 1, 3, 'hello', 3.3, [0, 2, 3.3]]"
            ]
          },
          "metadata": {
            "tags": []
          },
          "execution_count": 189
        }
      ]
    },
    {
      "cell_type": "code",
      "metadata": {
        "colab": {
          "base_uri": "https://localhost:8080/"
        },
        "id": "Ra6PCpgjbmAr",
        "outputId": "109ce3a7-881e-4584-ffe3-a2bfae7421c0"
      },
      "source": [
        "print(\"here I am in Parma but I am stuck in appartment due to lockdown\" +\n",
        "      \"and I don't like it\")"
      ],
      "execution_count": 190,
      "outputs": [
        {
          "output_type": "stream",
          "text": [
            "here I am in Parma but I am stuck in appartment due to lockdownand I don't like it\n"
          ],
          "name": "stdout"
        }
      ]
    },
    {
      "cell_type": "code",
      "metadata": {
        "colab": {
          "base_uri": "https://localhost:8080/"
        },
        "id": "MVnz6Y0Jb9Il",
        "outputId": "a6759854-7314-45fb-fe5a-0c96cb02e51d"
      },
      "source": [
        "tmplist = []\n",
        "a = 0\n",
        "while a**2 < 300:\n",
        "  a =a+1\n",
        "  tmplist.append(a**2)\n",
        "tmplist"
      ],
      "execution_count": 191,
      "outputs": [
        {
          "output_type": "execute_result",
          "data": {
            "text/plain": [
              "[1, 4, 9, 16, 25, 36, 49, 64, 81, 100, 121, 144, 169, 196, 225, 256, 289, 324]"
            ]
          },
          "metadata": {
            "tags": []
          },
          "execution_count": 191
        }
      ]
    },
    {
      "cell_type": "markdown",
      "metadata": {
        "id": "Npsiz67_cfc9"
      },
      "source": [
        "List are really useful cause they can contain hybrid types and because they do not need to be allocated memory before they are filled so I can append things on the fly"
      ]
    },
    {
      "cell_type": "markdown",
      "metadata": {
        "id": "31jjcDvqdPm-"
      },
      "source": [
        "List are also computationally inefficient"
      ]
    },
    {
      "cell_type": "code",
      "metadata": {
        "id": "i0qNJL38deGf"
      },
      "source": [
        "dictVariable = {\"keyInt\": 0,\n",
        "                \"keyFloat\": 0.3,\n",
        "                \"keyString\": \"Im a string\",\n",
        "                \"keyDict\": {} }"
      ],
      "execution_count": 192,
      "outputs": []
    },
    {
      "cell_type": "code",
      "metadata": {
        "colab": {
          "base_uri": "https://localhost:8080/"
        },
        "id": "CrYBEiD7eBsF",
        "outputId": "cf57a1d5-b174-4768-c59d-c983938069b3"
      },
      "source": [
        "dictVariable"
      ],
      "execution_count": 193,
      "outputs": [
        {
          "output_type": "execute_result",
          "data": {
            "text/plain": [
              "{'keyDict': {}, 'keyFloat': 0.3, 'keyInt': 0, 'keyString': 'Im a string'}"
            ]
          },
          "metadata": {
            "tags": []
          },
          "execution_count": 193
        }
      ]
    },
    {
      "cell_type": "markdown",
      "metadata": {
        "id": "H8qXLVhLqkwO"
      },
      "source": [
        "L'ordine non è preservato"
      ]
    },
    {
      "cell_type": "markdown",
      "metadata": {
        "id": "iR0R1BINqolZ"
      },
      "source": [
        "Si può aggiungere qualcosa al dictionary:"
      ]
    },
    {
      "cell_type": "code",
      "metadata": {
        "id": "2mmQKPFSeFp0"
      },
      "source": [
        "dictVariable[\"keyList\"] = [] "
      ],
      "execution_count": 194,
      "outputs": []
    },
    {
      "cell_type": "code",
      "metadata": {
        "colab": {
          "base_uri": "https://localhost:8080/"
        },
        "id": "SmbBSHsZeNpi",
        "outputId": "90ca4694-688f-4d2a-a1a0-a04c0689f220"
      },
      "source": [
        "dictVariable"
      ],
      "execution_count": 195,
      "outputs": [
        {
          "output_type": "execute_result",
          "data": {
            "text/plain": [
              "{'keyDict': {},\n",
              " 'keyFloat': 0.3,\n",
              " 'keyInt': 0,\n",
              " 'keyList': [],\n",
              " 'keyString': 'Im a string'}"
            ]
          },
          "metadata": {
            "tags": []
          },
          "execution_count": 195
        }
      ]
    },
    {
      "cell_type": "code",
      "metadata": {
        "id": "T6GCW71heQq2"
      },
      "source": [
        "dictVariable[\"keyList\"].append(0)"
      ],
      "execution_count": 196,
      "outputs": []
    },
    {
      "cell_type": "code",
      "metadata": {
        "colab": {
          "base_uri": "https://localhost:8080/"
        },
        "id": "vec2ZGa0eZwP",
        "outputId": "4e49340b-6166-4153-9b0a-19a003a5ac6c"
      },
      "source": [
        "dictVariable"
      ],
      "execution_count": 197,
      "outputs": [
        {
          "output_type": "execute_result",
          "data": {
            "text/plain": [
              "{'keyDict': {},\n",
              " 'keyFloat': 0.3,\n",
              " 'keyInt': 0,\n",
              " 'keyList': [0],\n",
              " 'keyString': 'Im a string'}"
            ]
          },
          "metadata": {
            "tags": []
          },
          "execution_count": 197
        }
      ]
    },
    {
      "cell_type": "code",
      "metadata": {
        "id": "E2pZaxuvedPn"
      },
      "source": [
        "dictVariable[\"keyDict\"]['nested1'] = 0.1"
      ],
      "execution_count": 198,
      "outputs": []
    },
    {
      "cell_type": "code",
      "metadata": {
        "id": "uvHUuXM5emlf"
      },
      "source": [
        "dictVariable[\"keyDict\"]['nested2'] = {}"
      ],
      "execution_count": 199,
      "outputs": []
    },
    {
      "cell_type": "code",
      "metadata": {
        "colab": {
          "base_uri": "https://localhost:8080/"
        },
        "id": "1XGRpj7Teq-e",
        "outputId": "f7c1ad66-9c12-4869-e884-ae185593bef6"
      },
      "source": [
        "dictVariable"
      ],
      "execution_count": 200,
      "outputs": [
        {
          "output_type": "execute_result",
          "data": {
            "text/plain": [
              "{'keyDict': {'nested1': 0.1, 'nested2': {}},\n",
              " 'keyFloat': 0.3,\n",
              " 'keyInt': 0,\n",
              " 'keyList': [0],\n",
              " 'keyString': 'Im a string'}"
            ]
          },
          "metadata": {
            "tags": []
          },
          "execution_count": 200
        }
      ]
    },
    {
      "cell_type": "code",
      "metadata": {
        "id": "8i2gtVHDf5sj"
      },
      "source": [
        "stringVariable = \"hello!\""
      ],
      "execution_count": 201,
      "outputs": []
    },
    {
      "cell_type": "code",
      "metadata": {
        "colab": {
          "base_uri": "https://localhost:8080/",
          "height": 35
        },
        "id": "02-kBTP8f-E6",
        "outputId": "5805a539-316a-44aa-d8f8-b75e065b7a8d"
      },
      "source": [
        "stringVariable.capitalize()"
      ],
      "execution_count": 202,
      "outputs": [
        {
          "output_type": "execute_result",
          "data": {
            "application/vnd.google.colaboratory.intrinsic+json": {
              "type": "string"
            },
            "text/plain": [
              "'Hello!'"
            ]
          },
          "metadata": {
            "tags": []
          },
          "execution_count": 202
        }
      ]
    },
    {
      "cell_type": "code",
      "metadata": {
        "colab": {
          "base_uri": "https://localhost:8080/",
          "height": 35
        },
        "id": "-FCpOcyLgDLQ",
        "outputId": "a370b211-6494-4443-87a0-43465514464e"
      },
      "source": [
        "stringVariable.replace(\"!\", '')"
      ],
      "execution_count": 203,
      "outputs": [
        {
          "output_type": "execute_result",
          "data": {
            "application/vnd.google.colaboratory.intrinsic+json": {
              "type": "string"
            },
            "text/plain": [
              "'hello'"
            ]
          },
          "metadata": {
            "tags": []
          },
          "execution_count": 203
        }
      ]
    },
    {
      "cell_type": "code",
      "metadata": {
        "colab": {
          "base_uri": "https://localhost:8080/"
        },
        "id": "JDPHSbkpgT6O",
        "outputId": "914d356e-6867-47b7-fc66-9bb4c5576b8d"
      },
      "source": [
        "print(\"Hello 'you' \")"
      ],
      "execution_count": 204,
      "outputs": [
        {
          "output_type": "stream",
          "text": [
            "Hello 'you' \n"
          ],
          "name": "stdout"
        }
      ]
    },
    {
      "cell_type": "code",
      "metadata": {
        "id": "s6rUhNtBjFqN"
      },
      "source": [
        "import numpy"
      ],
      "execution_count": 205,
      "outputs": []
    },
    {
      "cell_type": "code",
      "metadata": {
        "colab": {
          "base_uri": "https://localhost:8080/"
        },
        "id": "bep55K9kjIc5",
        "outputId": "d4dbbf91-2670-4753-c1aa-b718bb7ad0ff"
      },
      "source": [
        "numpy.abs(-3)"
      ],
      "execution_count": 206,
      "outputs": [
        {
          "output_type": "execute_result",
          "data": {
            "text/plain": [
              "3"
            ]
          },
          "metadata": {
            "tags": []
          },
          "execution_count": 206
        }
      ]
    },
    {
      "cell_type": "code",
      "metadata": {
        "id": "125ysRz6jOHj"
      },
      "source": [
        "import numpy as np"
      ],
      "execution_count": 207,
      "outputs": []
    },
    {
      "cell_type": "code",
      "metadata": {
        "colab": {
          "base_uri": "https://localhost:8080/"
        },
        "id": "mY_9VmY0jQ6k",
        "outputId": "a458f243-251c-42f7-b33e-b4599977bd13"
      },
      "source": [
        "np.abs(-3)"
      ],
      "execution_count": 208,
      "outputs": [
        {
          "output_type": "execute_result",
          "data": {
            "text/plain": [
              "3"
            ]
          },
          "metadata": {
            "tags": []
          },
          "execution_count": 208
        }
      ]
    },
    {
      "cell_type": "code",
      "metadata": {
        "id": "yxXUb7mw781H"
      },
      "source": [
        "from matplotlib import pylab as plt"
      ],
      "execution_count": 209,
      "outputs": []
    },
    {
      "cell_type": "code",
      "metadata": {
        "colab": {
          "base_uri": "https://localhost:8080/",
          "height": 265
        },
        "id": "qYhjttbu8H8k",
        "outputId": "a076244a-d357-49e9-a3b9-4f3bae4ef457"
      },
      "source": [
        "plt.plot(range(10), np.zeros(10));"
      ],
      "execution_count": 210,
      "outputs": [
        {
          "output_type": "display_data",
          "data": {
            "image/png": "[encoded data removed]",
            "text/plain": [
              "<Figure size 432x288 with 1 Axes>"
            ]
          },
          "metadata": {
            "tags": [],
            "needs_background": "light"
          }
        }
      ]
    },
    {
      "cell_type": "markdown",
      "metadata": {
        "id": "xAhQ1RsE_BON"
      },
      "source": [
        "#never import as\n",
        "#from something import * to preserve the namespace (overwrite the memory)"
      ]
    },
    {
      "cell_type": "code",
      "metadata": {
        "colab": {
          "base_uri": "https://localhost:8080/"
        },
        "id": "XknfHD-UjrE6",
        "outputId": "a3f88403-6cf2-47fd-c0b5-d21c96e51107"
      },
      "source": [
        "np.int16(3)"
      ],
      "execution_count": 211,
      "outputs": [
        {
          "output_type": "execute_result",
          "data": {
            "text/plain": [
              "3"
            ]
          },
          "metadata": {
            "tags": []
          },
          "execution_count": 211
        }
      ]
    },
    {
      "cell_type": "code",
      "metadata": {
        "colab": {
          "base_uri": "https://localhost:8080/"
        },
        "id": "aMr6DchgMMiF",
        "outputId": "c6ab5525-d09b-4601-e2f9-71f949e753bd"
      },
      "source": [
        "np.uint8(16)"
      ],
      "execution_count": 212,
      "outputs": [
        {
          "output_type": "execute_result",
          "data": {
            "text/plain": [
              "16"
            ]
          },
          "metadata": {
            "tags": []
          },
          "execution_count": 212
        }
      ]
    },
    {
      "cell_type": "code",
      "metadata": {
        "id": "GxyOP8p46ejT"
      },
      "source": [
        "npuint8 = np.uint8(256)"
      ],
      "execution_count": 213,
      "outputs": []
    },
    {
      "cell_type": "code",
      "metadata": {
        "colab": {
          "base_uri": "https://localhost:8080/"
        },
        "id": "vLqJ7NmY6kN7",
        "outputId": "46ea53ab-6b40-4016-d2be-6c7179956959"
      },
      "source": [
        "npuint8.dtype"
      ],
      "execution_count": 214,
      "outputs": [
        {
          "output_type": "execute_result",
          "data": {
            "text/plain": [
              "dtype('uint8')"
            ]
          },
          "metadata": {
            "tags": []
          },
          "execution_count": 214
        }
      ]
    },
    {
      "cell_type": "code",
      "metadata": {
        "colab": {
          "base_uri": "https://localhost:8080/"
        },
        "id": "S7SD_D6268G7",
        "outputId": "b1beb3bd-da2a-4d4f-d353-66cc8bdf7563"
      },
      "source": [
        "type(npuint8)"
      ],
      "execution_count": 215,
      "outputs": [
        {
          "output_type": "execute_result",
          "data": {
            "text/plain": [
              "numpy.uint8"
            ]
          },
          "metadata": {
            "tags": []
          },
          "execution_count": 215
        }
      ]
    },
    {
      "cell_type": "code",
      "metadata": {
        "colab": {
          "base_uri": "https://localhost:8080/"
        },
        "id": "vIuudu357OPw",
        "outputId": "236e2473-782c-41f1-c5e2-bcd9e2d9ef41"
      },
      "source": [
        "np.array([intVariable, floatVariable, 6])"
      ],
      "execution_count": 216,
      "outputs": [
        {
          "output_type": "execute_result",
          "data": {
            "text/plain": [
              "array([3., 3., 6.])"
            ]
          },
          "metadata": {
            "tags": []
          },
          "execution_count": 216
        }
      ]
    },
    {
      "cell_type": "markdown",
      "metadata": {
        "id": "TH1v03Bk7hj0"
      },
      "source": [
        "A differenza delle liste, gli array devono contenere lo stesso tipo di variabili al loro interno"
      ]
    },
    {
      "cell_type": "code",
      "metadata": {
        "id": "PlYqRFs1luzX",
        "colab": {
          "base_uri": "https://localhost:8080/"
        },
        "outputId": "b002e6d9-e1ad-42ca-d703-cf879a104669"
      },
      "source": [
        "myList"
      ],
      "execution_count": 217,
      "outputs": [
        {
          "output_type": "execute_result",
          "data": {
            "text/plain": [
              "[0, 1, 3, 'hello', 3.3, [0, 2, 3.3]]"
            ]
          },
          "metadata": {
            "tags": []
          },
          "execution_count": 217
        }
      ]
    },
    {
      "cell_type": "code",
      "metadata": {
        "colab": {
          "base_uri": "https://localhost:8080/"
        },
        "id": "sVikg-Ow7_F0",
        "outputId": "2c1c2477-ef6e-435b-d5ea-c5170378b8f5"
      },
      "source": [
        "myList[:-1]"
      ],
      "execution_count": 218,
      "outputs": [
        {
          "output_type": "execute_result",
          "data": {
            "text/plain": [
              "[0, 1, 3, 'hello', 3.3]"
            ]
          },
          "metadata": {
            "tags": []
          },
          "execution_count": 218
        }
      ]
    },
    {
      "cell_type": "code",
      "metadata": {
        "id": "MLwkIasdmJaP",
        "colab": {
          "base_uri": "https://localhost:8080/"
        },
        "outputId": "111f3b44-7dc6-4036-94ba-dd4c97e8e7a3"
      },
      "source": [
        "np.array(myList[:-1])"
      ],
      "execution_count": 219,
      "outputs": [
        {
          "output_type": "execute_result",
          "data": {
            "text/plain": [
              "array(['0', '1', '3', 'hello', '3.3'], dtype='<U21')"
            ]
          },
          "metadata": {
            "tags": []
          },
          "execution_count": 219
        }
      ]
    },
    {
      "cell_type": "code",
      "metadata": {
        "colab": {
          "base_uri": "https://localhost:8080/"
        },
        "id": "xmJgK5ql9RuS",
        "outputId": "4c5a74e4-1ca8-4b3e-f8c1-82df838ec349"
      },
      "source": [
        "np.zeros(75)"
      ],
      "execution_count": 220,
      "outputs": [
        {
          "output_type": "execute_result",
          "data": {
            "text/plain": [
              "array([0., 0., 0., 0., 0., 0., 0., 0., 0., 0., 0., 0., 0., 0., 0., 0., 0.,\n",
              "       0., 0., 0., 0., 0., 0., 0., 0., 0., 0., 0., 0., 0., 0., 0., 0., 0.,\n",
              "       0., 0., 0., 0., 0., 0., 0., 0., 0., 0., 0., 0., 0., 0., 0., 0., 0.,\n",
              "       0., 0., 0., 0., 0., 0., 0., 0., 0., 0., 0., 0., 0., 0., 0., 0., 0.,\n",
              "       0., 0., 0., 0., 0., 0., 0.])"
            ]
          },
          "metadata": {
            "tags": []
          },
          "execution_count": 220
        }
      ]
    },
    {
      "cell_type": "code",
      "metadata": {
        "id": "5LkjH2aTmcCT",
        "colab": {
          "base_uri": "https://localhost:8080/"
        },
        "outputId": "d7d3b0a4-b863-420d-bc0b-69047940b0dd"
      },
      "source": [
        "np.ones(75)"
      ],
      "execution_count": 221,
      "outputs": [
        {
          "output_type": "execute_result",
          "data": {
            "text/plain": [
              "array([1., 1., 1., 1., 1., 1., 1., 1., 1., 1., 1., 1., 1., 1., 1., 1., 1.,\n",
              "       1., 1., 1., 1., 1., 1., 1., 1., 1., 1., 1., 1., 1., 1., 1., 1., 1.,\n",
              "       1., 1., 1., 1., 1., 1., 1., 1., 1., 1., 1., 1., 1., 1., 1., 1., 1.,\n",
              "       1., 1., 1., 1., 1., 1., 1., 1., 1., 1., 1., 1., 1., 1., 1., 1., 1.,\n",
              "       1., 1., 1., 1., 1., 1., 1.])"
            ]
          },
          "metadata": {
            "tags": []
          },
          "execution_count": 221
        }
      ]
    },
    {
      "cell_type": "code",
      "metadata": {
        "colab": {
          "base_uri": "https://localhost:8080/"
        },
        "id": "cPUUPkFf9VkR",
        "outputId": "16aa38f7-e744-4ca6-84c7-3c67dc376e05"
      },
      "source": [
        "np.empty(75)"
      ],
      "execution_count": 222,
      "outputs": [
        {
          "output_type": "execute_result",
          "data": {
            "text/plain": [
              "array([1., 1., 1., 1., 1., 1., 1., 1., 1., 1., 1., 1., 1., 1., 1., 1., 1.,\n",
              "       1., 1., 1., 1., 1., 1., 1., 1., 1., 1., 1., 1., 1., 1., 1., 1., 1.,\n",
              "       1., 1., 1., 1., 1., 1., 1., 1., 1., 1., 1., 1., 1., 1., 1., 1., 1.,\n",
              "       1., 1., 1., 1., 1., 1., 1., 1., 1., 1., 1., 1., 1., 1., 1., 1., 1.,\n",
              "       1., 1., 1., 1., 1., 1., 1.])"
            ]
          },
          "metadata": {
            "tags": []
          },
          "execution_count": 222
        }
      ]
    },
    {
      "cell_type": "code",
      "metadata": {
        "id": "2X1qv8-k9lsG"
      },
      "source": [
        "tmarray = np.zeros(75, int) #creo un array di interi"
      ],
      "execution_count": 223,
      "outputs": []
    },
    {
      "cell_type": "code",
      "metadata": {
        "colab": {
          "base_uri": "https://localhost:8080/"
        },
        "id": "NNQSoAEe9zWE",
        "outputId": "bc19d40e-69d3-446c-c7f4-37f1bded0769"
      },
      "source": [
        "myList[0:1] #lista che parte dall'indice 0 e si ferma prima dell'indice 1 (l'ultimo indice è escluso)"
      ],
      "execution_count": 224,
      "outputs": [
        {
          "output_type": "execute_result",
          "data": {
            "text/plain": [
              "[0]"
            ]
          },
          "metadata": {
            "tags": []
          },
          "execution_count": 224
        }
      ]
    },
    {
      "cell_type": "code",
      "metadata": {
        "colab": {
          "base_uri": "https://localhost:8080/"
        },
        "id": "FGQabq7i-Z6A",
        "outputId": "785f85c3-20ac-4b31-90a5-2b00665df43d"
      },
      "source": [
        "myList[0:10]"
      ],
      "execution_count": 225,
      "outputs": [
        {
          "output_type": "execute_result",
          "data": {
            "text/plain": [
              "[0, 1, 3, 'hello', 3.3, [0, 2, 3.3]]"
            ]
          },
          "metadata": {
            "tags": []
          },
          "execution_count": 225
        }
      ]
    },
    {
      "cell_type": "code",
      "metadata": {
        "colab": {
          "base_uri": "https://localhost:8080/"
        },
        "id": "Cb06dEBd-fos",
        "outputId": "adc54250-bcb7-4ec8-86dd-7ae422a66f28"
      },
      "source": [
        "tmarray[:10]"
      ],
      "execution_count": 226,
      "outputs": [
        {
          "output_type": "execute_result",
          "data": {
            "text/plain": [
              "array([0, 0, 0, 0, 0, 0, 0, 0, 0, 0])"
            ]
          },
          "metadata": {
            "tags": []
          },
          "execution_count": 226
        }
      ]
    },
    {
      "cell_type": "code",
      "metadata": {
        "colab": {
          "base_uri": "https://localhost:8080/"
        },
        "id": "BCZy5nAA-1cH",
        "outputId": "821aa7c1-51fe-4b1a-f79f-c402dba636e9"
      },
      "source": [
        "myList[0:2] + myList[-1:]  #lista dei primi due elementi e del'ultimo elemento della lista definita prima"
      ],
      "execution_count": 227,
      "outputs": [
        {
          "output_type": "execute_result",
          "data": {
            "text/plain": [
              "[0, 1, [0, 2, 3.3]]"
            ]
          },
          "metadata": {
            "tags": []
          },
          "execution_count": 227
        }
      ]
    },
    {
      "cell_type": "code",
      "metadata": {
        "id": "I4_L4DKr_EN4"
      },
      "source": [
        "zerosarray = np.zeros(7, int)\n",
        "onesarray = np.ones(7, float)"
      ],
      "execution_count": 228,
      "outputs": []
    },
    {
      "cell_type": "code",
      "metadata": {
        "colab": {
          "base_uri": "https://localhost:8080/"
        },
        "id": "eeomckPj_MXl",
        "outputId": "0fe1f0df-bb66-43d7-dcd2-6a86b23e85aa"
      },
      "source": [
        "zerosarray + onesarray"
      ],
      "execution_count": 229,
      "outputs": [
        {
          "output_type": "execute_result",
          "data": {
            "text/plain": [
              "array([1., 1., 1., 1., 1., 1., 1.])"
            ]
          },
          "metadata": {
            "tags": []
          },
          "execution_count": 229
        }
      ]
    },
    {
      "cell_type": "code",
      "metadata": {
        "colab": {
          "base_uri": "https://localhost:8080/"
        },
        "id": "WC-091AU_R5Z",
        "outputId": "41fd8185-a459-41e2-fe9b-2ad3ffeda80b"
      },
      "source": [
        "zerosarray * onesarray #moltiplico gli elementi membro per membro (devono avere size comparabili)"
      ],
      "execution_count": 230,
      "outputs": [
        {
          "output_type": "execute_result",
          "data": {
            "text/plain": [
              "array([0., 0., 0., 0., 0., 0., 0.])"
            ]
          },
          "metadata": {
            "tags": []
          },
          "execution_count": 230
        }
      ]
    },
    {
      "cell_type": "code",
      "metadata": {
        "id": "Kmiuqsps_UUH"
      },
      "source": [
        "anotherOnesarray = np.ones(10, float)"
      ],
      "execution_count": 231,
      "outputs": []
    },
    {
      "cell_type": "code",
      "metadata": {
        "colab": {
          "base_uri": "https://localhost:8080/"
        },
        "id": "V8ckhxkuADGg",
        "outputId": "ac25d1aa-f220-419e-c663-4b254dd572b7"
      },
      "source": [
        "anotherOnesarray.ndim"
      ],
      "execution_count": 234,
      "outputs": [
        {
          "output_type": "execute_result",
          "data": {
            "text/plain": [
              "1"
            ]
          },
          "metadata": {
            "tags": []
          },
          "execution_count": 234
        }
      ]
    },
    {
      "cell_type": "code",
      "metadata": {
        "colab": {
          "base_uri": "https://localhost:8080/"
        },
        "id": "sE2779UNAHtT",
        "outputId": "50307f70-7e71-4e25-aaf2-5fb8de6aba44"
      },
      "source": [
        "anotherOnesarray.size"
      ],
      "execution_count": 235,
      "outputs": [
        {
          "output_type": "execute_result",
          "data": {
            "text/plain": [
              "10"
            ]
          },
          "metadata": {
            "tags": []
          },
          "execution_count": 235
        }
      ]
    },
    {
      "cell_type": "code",
      "metadata": {
        "colab": {
          "base_uri": "https://localhost:8080/"
        },
        "id": "h9emAD6kAMBf",
        "outputId": "1b77770f-7f6b-4d3f-93b5-2833f205855a"
      },
      "source": [
        "anotherOnesarray.shape"
      ],
      "execution_count": 236,
      "outputs": [
        {
          "output_type": "execute_result",
          "data": {
            "text/plain": [
              "(10,)"
            ]
          },
          "metadata": {
            "tags": []
          },
          "execution_count": 236
        }
      ]
    },
    {
      "cell_type": "code",
      "metadata": {
        "colab": {
          "base_uri": "https://localhost:8080/"
        },
        "id": "NkDXH7HtAPyB",
        "outputId": "bf83fd27-bd98-413c-bc4e-ec7dcb49ce1c"
      },
      "source": [
        "anotherOnesarray.min() #calcola il minimo"
      ],
      "execution_count": 237,
      "outputs": [
        {
          "output_type": "execute_result",
          "data": {
            "text/plain": [
              "1.0"
            ]
          },
          "metadata": {
            "tags": []
          },
          "execution_count": 237
        }
      ]
    },
    {
      "cell_type": "code",
      "metadata": {
        "colab": {
          "base_uri": "https://localhost:8080/"
        },
        "id": "Prz2Ng1IAVdf",
        "outputId": "21b27e64-c8de-4c82-93cc-3c03ef81b4d3"
      },
      "source": [
        "anotherOnesarray.mean()"
      ],
      "execution_count": 238,
      "outputs": [
        {
          "output_type": "execute_result",
          "data": {
            "text/plain": [
              "1.0"
            ]
          },
          "metadata": {
            "tags": []
          },
          "execution_count": 238
        }
      ]
    },
    {
      "cell_type": "code",
      "metadata": {
        "colab": {
          "base_uri": "https://localhost:8080/"
        },
        "id": "BdSgGoSyAcMl",
        "outputId": "743b0645-540a-4e59-f4bf-57644aa80c2d"
      },
      "source": [
        "range(10)"
      ],
      "execution_count": 239,
      "outputs": [
        {
          "output_type": "execute_result",
          "data": {
            "text/plain": [
              "range(0, 10)"
            ]
          },
          "metadata": {
            "tags": []
          },
          "execution_count": 239
        }
      ]
    },
    {
      "cell_type": "code",
      "metadata": {
        "colab": {
          "base_uri": "https://localhost:8080/"
        },
        "id": "pFyZ3_4NAjEL",
        "outputId": "31120453-6b02-4b45-decc-d104e4f016b5"
      },
      "source": [
        "list(range(10))"
      ],
      "execution_count": 240,
      "outputs": [
        {
          "output_type": "execute_result",
          "data": {
            "text/plain": [
              "[0, 1, 2, 3, 4, 5, 6, 7, 8, 9]"
            ]
          },
          "metadata": {
            "tags": []
          },
          "execution_count": 240
        }
      ]
    },
    {
      "cell_type": "code",
      "metadata": {
        "colab": {
          "base_uri": "https://localhost:8080/"
        },
        "id": "9PngRkjAC-sy",
        "outputId": "586aa4e3-8da3-4c3b-836e-c594054544ba"
      },
      "source": [
        "np.arange(5, 10.)"
      ],
      "execution_count": 241,
      "outputs": [
        {
          "output_type": "execute_result",
          "data": {
            "text/plain": [
              "array([5., 6., 7., 8., 9.])"
            ]
          },
          "metadata": {
            "tags": []
          },
          "execution_count": 241
        }
      ]
    },
    {
      "cell_type": "code",
      "metadata": {
        "colab": {
          "base_uri": "https://localhost:8080/"
        },
        "id": "D_X3AdptC8iX",
        "outputId": "78b1262f-7df1-4ac3-e677-5d91432dde6e"
      },
      "source": [
        "np.arange(5, 10., 2)"
      ],
      "execution_count": 242,
      "outputs": [
        {
          "output_type": "execute_result",
          "data": {
            "text/plain": [
              "array([5., 7., 9.])"
            ]
          },
          "metadata": {
            "tags": []
          },
          "execution_count": 242
        }
      ]
    },
    {
      "cell_type": "code",
      "metadata": {
        "colab": {
          "base_uri": "https://localhost:8080/"
        },
        "id": "w-JqEE8JAbBF",
        "outputId": "5086ddfc-c6df-4e8f-acea-38ef1b42355a"
      },
      "source": [
        "np.random.rand()"
      ],
      "execution_count": 243,
      "outputs": [
        {
          "output_type": "execute_result",
          "data": {
            "text/plain": [
              "0.7594214331078555"
            ]
          },
          "metadata": {
            "tags": []
          },
          "execution_count": 243
        }
      ]
    },
    {
      "cell_type": "code",
      "metadata": {
        "colab": {
          "base_uri": "https://localhost:8080/"
        },
        "id": "43phhMfwDU9S",
        "outputId": "eb2abbba-4842-4f41-9831-2931a0285b86"
      },
      "source": [
        "np.random.rand(10) #genera un array di 10 elementi"
      ],
      "execution_count": 244,
      "outputs": [
        {
          "output_type": "execute_result",
          "data": {
            "text/plain": [
              "array([0.47508776, 0.22416144, 0.28203306, 0.82372976, 0.07594919,\n",
              "       0.9120838 , 0.58140812, 0.52067835, 0.86734236, 0.97788652])"
            ]
          },
          "metadata": {
            "tags": []
          },
          "execution_count": 244
        }
      ]
    },
    {
      "cell_type": "code",
      "metadata": {
        "colab": {
          "base_uri": "https://localhost:8080/"
        },
        "id": "Rjd2Yt3YDbFC",
        "outputId": "c1c57ec8-1427-40eb-ebba-acc203157e3f"
      },
      "source": [
        "np.random.rand(4, 5)"
      ],
      "execution_count": 246,
      "outputs": [
        {
          "output_type": "execute_result",
          "data": {
            "text/plain": [
              "array([[0.16724475, 0.72419928, 0.61824865, 0.69211417, 0.04407351],\n",
              "       [0.62642989, 0.29290565, 0.94430899, 0.83301554, 0.56770923],\n",
              "       [0.10916335, 0.58355952, 0.71537162, 0.35761878, 0.73562832],\n",
              "       [0.87135794, 0.92888568, 0.55764266, 0.67272881, 0.91132276]])"
            ]
          },
          "metadata": {
            "tags": []
          },
          "execution_count": 246
        }
      ]
    },
    {
      "cell_type": "code",
      "metadata": {
        "colab": {
          "base_uri": "https://localhost:8080/"
        },
        "id": "Im9RKoHkDoN1",
        "outputId": "74aaac5b-c805-4419-db77-8a7e7109f0bc"
      },
      "source": [
        "np.random.rand(4, 5).shape"
      ],
      "execution_count": 247,
      "outputs": [
        {
          "output_type": "execute_result",
          "data": {
            "text/plain": [
              "(4, 5)"
            ]
          },
          "metadata": {
            "tags": []
          },
          "execution_count": 247
        }
      ]
    },
    {
      "cell_type": "code",
      "metadata": {
        "id": "mXGP5lGuDsBD"
      },
      "source": [
        "one1DArray= np.random.rand(10)\n",
        "one2DArray= np.random.rand(10, 20)"
      ],
      "execution_count": 248,
      "outputs": []
    },
    {
      "cell_type": "code",
      "metadata": {
        "colab": {
          "base_uri": "https://localhost:8080/"
        },
        "id": "9yUn-U5JEFKc",
        "outputId": "c5f64d12-2416-4e05-b4e7-529313ea864c"
      },
      "source": [
        "one1DArray"
      ],
      "execution_count": 249,
      "outputs": [
        {
          "output_type": "execute_result",
          "data": {
            "text/plain": [
              "array([0.21907773, 0.66997437, 0.51225775, 0.11475853, 0.58199727,\n",
              "       0.98598595, 0.29812351, 0.71327888, 0.03801842, 0.49079577])"
            ]
          },
          "metadata": {
            "tags": []
          },
          "execution_count": 249
        }
      ]
    },
    {
      "cell_type": "code",
      "metadata": {
        "id": "t3ibaxNWm85d"
      },
      "source": [
        "# def ispalindrome(s):\n",
        "#   return string == string[::-1]\n",
        " \n",
        "#s = \"anna\"\n",
        "#ans = isPalindrome(s)\n",
        " \n",
        "#if ans:\n",
        "#    print(\"Yes its a palindrome\")\n",
        "#else:\n",
        "#    print(\"This is not a palindrome\")"
      ],
      "execution_count": 233,
      "outputs": []
    }
  ]
}