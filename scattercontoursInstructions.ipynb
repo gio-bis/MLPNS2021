{
  "nbformat": 4,
  "nbformat_minor": 0,
  "metadata": {
    "anaconda-cloud": {},
    "colab": {
      "name": "Copia di scattercontoursInstructions.ipynb",
      "provenance": [],
      "collapsed_sections": [
        "3z8niJR2YsUg",
        "KFJFHXmvbzHE",
        "TDZR7nhjbudK"
      ],
      "include_colab_link": true
    },
    "kernelspec": {
      "display_name": "Python 3",
      "language": "python",
      "name": "python3"
    },
    "language_info": {
      "codemirror_mode": {
        "name": "ipython",
        "version": 3
      },
      "file_extension": ".py",
      "mimetype": "text/x-python",
      "name": "python",
      "nbconvert_exporter": "python",
      "pygments_lexer": "ipython3",
      "version": "3.7.3"
    },
    "latex_envs": {
      "LaTeX_envs_menu_present": true,
      "autoclose": false,
      "autocomplete": true,
      "bibliofile": "biblio.bib",
      "cite_by": "apalike",
      "current_citInitial": 1,
      "eqLabelWithNumbers": true,
      "eqNumInitial": 1,
      "hotkeys": {
        "equation": "Ctrl-E",
        "itemize": "Ctrl-I"
      },
      "labels_anchors": false,
      "latex_user_defs": false,
      "report_style_numbering": false,
      "user_envs_cfg": false
    },
    "nbTranslate": {
      "displayLangs": [
        "*"
      ],
      "hotkey": "alt-t",
      "langInMainMenu": true,
      "sourceLang": "en",
      "targetLang": "fr",
      "useGoogleTranslate": true
    },
    "toc": {
      "base_numbering": 1,
      "nav_menu": {
        "height": "14px",
        "width": "254px"
      },
      "number_sections": true,
      "sideBar": true,
      "skip_h1_title": false,
      "title_cell": "Table of Contents",
      "title_sidebar": "Contents",
      "toc_cell": false,
      "toc_position": {},
      "toc_section_display": "block",
      "toc_window_display": false
    }
  },
  "cells": [
    {
      "cell_type": "markdown",
      "metadata": {
        "id": "view-in-github",
        "colab_type": "text"
      },
      "source": [
        "<a href=\"https://colab.research.google.com/github/gio-bis/MLPNS2021/blob/main/scattercontoursInstructions.ipynb\" target=\"_parent\"><img src=\"https://colab.research.google.com/assets/colab-badge.svg\" alt=\"Open In Colab\"/></a>"
      ]
    },
    {
      "cell_type": "markdown",
      "metadata": {
        "id": "X_TzluP-b9e_"
      },
      "source": [
        "Designed by Federica Bianco:\n",
        "\n",
        "visualization homework\n",
        "\n",
        "improving plots\n",
        "\n",
        "2019 version: DSPS UDel "
      ]
    },
    {
      "cell_type": "code",
      "metadata": {
        "ExecuteTime": {
          "end_time": "2019-10-24T02:22:25.515897Z",
          "start_time": "2019-10-24T02:22:24.994208Z"
        },
        "colab": {
          "base_uri": "https://localhost:8080/"
        },
        "id": "tFQb71nHYiy4",
        "outputId": "c435e360-944c-4beb-c717-7e2635829cda"
      },
      "source": [
        "import pylab as pl\n",
        "import numpy as np\n",
        "%pylab inline"
      ],
      "execution_count": null,
      "outputs": [
        {
          "output_type": "stream",
          "text": [
            "Populating the interactive namespace from numpy and matplotlib\n"
          ],
          "name": "stdout"
        }
      ]
    },
    {
      "cell_type": "code",
      "metadata": {
        "ExecuteTime": {
          "end_time": "2019-10-24T02:25:24.559984Z",
          "start_time": "2019-10-24T02:25:24.374154Z"
        },
        "id": "fmA1hhRmYizC"
      },
      "source": [
        "import pandas as pd\n",
        "# you will use astropy to make the contours-scatter plot\n",
        "from astropy import constants as const\n",
        "from astropy import units as u\n",
        "pylab.style.use(\"https://raw.githubusercontent.com/fedhere/MLPNS2021/main/fbb.mplstyle\")"
      ],
      "execution_count": null,
      "outputs": []
    },
    {
      "cell_type": "markdown",
      "metadata": {
        "id": "mrP4h2DBblze"
      },
      "source": [
        "# high density to contours examples"
      ]
    },
    {
      "cell_type": "markdown",
      "metadata": {
        "id": "Iu2aegw0_dhs"
      },
      "source": [
        "## get data on  star data from kepler2 mission"
      ]
    },
    {
      "cell_type": "code",
      "metadata": {
        "ExecuteTime": {
          "end_time": "2019-10-24T02:25:25.984540Z",
          "start_time": "2019-10-24T02:25:25.981763Z"
        },
        "id": "4yV7BU3jYizE"
      },
      "source": [
        "\n",
        "url = \"https://exoplanetarchive.ipac.caltech.edu/cgi-bin/nstedAPI/nph-nstedAPI\"\n",
        "url +=\"?table=k2targets&select=epic_number,k2_teff,k2_rad\"\n",
        "url +=\"&format=CSV\"\n",
        "\n"
      ],
      "execution_count": null,
      "outputs": []
    },
    {
      "cell_type": "code",
      "metadata": {
        "ExecuteTime": {
          "end_time": "2019-10-24T02:25:32.709896Z",
          "start_time": "2019-10-24T02:25:26.774876Z"
        },
        "cell_style": "center",
        "id": "_j_I_1_SYizH",
        "colab": {
          "base_uri": "https://localhost:8080/",
          "height": 202
        },
        "outputId": "2c503f67-9de6-4e7b-a17e-fb8a32da2b56"
      },
      "source": [
        "df = pd.read_csv(url)\n",
        "df.head()"
      ],
      "execution_count": null,
      "outputs": [
        {
          "output_type": "execute_result",
          "data": {
            "text/html": [
              "<div>\n",
              "<style scoped>\n",
              "    .dataframe tbody tr th:only-of-type {\n",
              "        vertical-align: middle;\n",
              "    }\n",
              "\n",
              "    .dataframe tbody tr th {\n",
              "        vertical-align: top;\n",
              "    }\n",
              "\n",
              "    .dataframe thead th {\n",
              "        text-align: right;\n",
              "    }\n",
              "</style>\n",
              "<table border=\"1\" class=\"dataframe\">\n",
              "  <thead>\n",
              "    <tr style=\"text-align: right;\">\n",
              "      <th></th>\n",
              "      <th>epic_number</th>\n",
              "      <th>k2_teff</th>\n",
              "      <th>k2_rad</th>\n",
              "    </tr>\n",
              "  </thead>\n",
              "  <tbody>\n",
              "    <tr>\n",
              "      <th>0</th>\n",
              "      <td>60018365</td>\n",
              "      <td>NaN</td>\n",
              "      <td>NaN</td>\n",
              "    </tr>\n",
              "    <tr>\n",
              "      <th>1</th>\n",
              "      <td>60018369</td>\n",
              "      <td>NaN</td>\n",
              "      <td>NaN</td>\n",
              "    </tr>\n",
              "    <tr>\n",
              "      <th>2</th>\n",
              "      <td>60018371</td>\n",
              "      <td>NaN</td>\n",
              "      <td>NaN</td>\n",
              "    </tr>\n",
              "    <tr>\n",
              "      <th>3</th>\n",
              "      <td>60018372</td>\n",
              "      <td>NaN</td>\n",
              "      <td>NaN</td>\n",
              "    </tr>\n",
              "    <tr>\n",
              "      <th>4</th>\n",
              "      <td>60018374</td>\n",
              "      <td>NaN</td>\n",
              "      <td>NaN</td>\n",
              "    </tr>\n",
              "  </tbody>\n",
              "</table>\n",
              "</div>"
            ],
            "text/plain": [
              "   epic_number  k2_teff  k2_rad\n",
              "0     60018365      NaN     NaN\n",
              "1     60018369      NaN     NaN\n",
              "2     60018371      NaN     NaN\n",
              "3     60018372      NaN     NaN\n",
              "4     60018374      NaN     NaN"
            ]
          },
          "metadata": {
            "tags": []
          },
          "execution_count": 4
        }
      ]
    },
    {
      "cell_type": "code",
      "metadata": {
        "id": "8Lec_L4neuIB"
      },
      "source": [
        "df = df.dropna(axis = 0)"
      ],
      "execution_count": null,
      "outputs": []
    },
    {
      "cell_type": "code",
      "metadata": {
        "id": "1arPKOpnewT_",
        "colab": {
          "base_uri": "https://localhost:8080/",
          "height": 202
        },
        "outputId": "595abb12-903a-4d82-89b1-19b18ff37a81"
      },
      "source": [
        "df.head()\n"
      ],
      "execution_count": null,
      "outputs": [
        {
          "output_type": "execute_result",
          "data": {
            "text/html": [
              "<div>\n",
              "<style scoped>\n",
              "    .dataframe tbody tr th:only-of-type {\n",
              "        vertical-align: middle;\n",
              "    }\n",
              "\n",
              "    .dataframe tbody tr th {\n",
              "        vertical-align: top;\n",
              "    }\n",
              "\n",
              "    .dataframe thead th {\n",
              "        text-align: right;\n",
              "    }\n",
              "</style>\n",
              "<table border=\"1\" class=\"dataframe\">\n",
              "  <thead>\n",
              "    <tr style=\"text-align: right;\">\n",
              "      <th></th>\n",
              "      <th>epic_number</th>\n",
              "      <th>k2_teff</th>\n",
              "      <th>k2_rad</th>\n",
              "    </tr>\n",
              "  </thead>\n",
              "  <tbody>\n",
              "    <tr>\n",
              "      <th>9157</th>\n",
              "      <td>201150552</td>\n",
              "      <td>4687.0</td>\n",
              "      <td>11.26</td>\n",
              "    </tr>\n",
              "    <tr>\n",
              "      <th>9158</th>\n",
              "      <td>201150635</td>\n",
              "      <td>4103.0</td>\n",
              "      <td>0.46</td>\n",
              "    </tr>\n",
              "    <tr>\n",
              "      <th>9159</th>\n",
              "      <td>201150637</td>\n",
              "      <td>5284.0</td>\n",
              "      <td>9.08</td>\n",
              "    </tr>\n",
              "    <tr>\n",
              "      <th>9160</th>\n",
              "      <td>201150679</td>\n",
              "      <td>3508.0</td>\n",
              "      <td>0.23</td>\n",
              "    </tr>\n",
              "    <tr>\n",
              "      <th>9161</th>\n",
              "      <td>201150706</td>\n",
              "      <td>6166.0</td>\n",
              "      <td>1.30</td>\n",
              "    </tr>\n",
              "  </tbody>\n",
              "</table>\n",
              "</div>"
            ],
            "text/plain": [
              "      epic_number  k2_teff  k2_rad\n",
              "9157    201150552   4687.0   11.26\n",
              "9158    201150635   4103.0    0.46\n",
              "9159    201150637   5284.0    9.08\n",
              "9160    201150679   3508.0    0.23\n",
              "9161    201150706   6166.0    1.30"
            ]
          },
          "metadata": {
            "tags": []
          },
          "execution_count": 6
        }
      ]
    },
    {
      "cell_type": "code",
      "metadata": {
        "id": "PEtzMLKqg3Tw",
        "colab": {
          "base_uri": "https://localhost:8080/",
          "height": 415
        },
        "outputId": "f5dba92f-55fe-4b19-8a14-02d4b06aabc5"
      },
      "source": [
        "df.reset_index(inplace = True)\n",
        "df"
      ],
      "execution_count": null,
      "outputs": [
        {
          "output_type": "execute_result",
          "data": {
            "text/html": [
              "<div>\n",
              "<style scoped>\n",
              "    .dataframe tbody tr th:only-of-type {\n",
              "        vertical-align: middle;\n",
              "    }\n",
              "\n",
              "    .dataframe tbody tr th {\n",
              "        vertical-align: top;\n",
              "    }\n",
              "\n",
              "    .dataframe thead th {\n",
              "        text-align: right;\n",
              "    }\n",
              "</style>\n",
              "<table border=\"1\" class=\"dataframe\">\n",
              "  <thead>\n",
              "    <tr style=\"text-align: right;\">\n",
              "      <th></th>\n",
              "      <th>index</th>\n",
              "      <th>epic_number</th>\n",
              "      <th>k2_teff</th>\n",
              "      <th>k2_rad</th>\n",
              "    </tr>\n",
              "  </thead>\n",
              "  <tbody>\n",
              "    <tr>\n",
              "      <th>0</th>\n",
              "      <td>9157</td>\n",
              "      <td>201150552</td>\n",
              "      <td>4687.0</td>\n",
              "      <td>11.26</td>\n",
              "    </tr>\n",
              "    <tr>\n",
              "      <th>1</th>\n",
              "      <td>9158</td>\n",
              "      <td>201150635</td>\n",
              "      <td>4103.0</td>\n",
              "      <td>0.46</td>\n",
              "    </tr>\n",
              "    <tr>\n",
              "      <th>2</th>\n",
              "      <td>9159</td>\n",
              "      <td>201150637</td>\n",
              "      <td>5284.0</td>\n",
              "      <td>9.08</td>\n",
              "    </tr>\n",
              "    <tr>\n",
              "      <th>3</th>\n",
              "      <td>9160</td>\n",
              "      <td>201150679</td>\n",
              "      <td>3508.0</td>\n",
              "      <td>0.23</td>\n",
              "    </tr>\n",
              "    <tr>\n",
              "      <th>4</th>\n",
              "      <td>9161</td>\n",
              "      <td>201150706</td>\n",
              "      <td>6166.0</td>\n",
              "      <td>1.30</td>\n",
              "    </tr>\n",
              "    <tr>\n",
              "      <th>...</th>\n",
              "      <td>...</td>\n",
              "      <td>...</td>\n",
              "      <td>...</td>\n",
              "      <td>...</td>\n",
              "    </tr>\n",
              "    <tr>\n",
              "      <th>236845</th>\n",
              "      <td>298392</td>\n",
              "      <td>248888089</td>\n",
              "      <td>5300.0</td>\n",
              "      <td>0.72</td>\n",
              "    </tr>\n",
              "    <tr>\n",
              "      <th>236846</th>\n",
              "      <td>298396</td>\n",
              "      <td>248888126</td>\n",
              "      <td>3432.0</td>\n",
              "      <td>0.19</td>\n",
              "    </tr>\n",
              "    <tr>\n",
              "      <th>236847</th>\n",
              "      <td>298397</td>\n",
              "      <td>248888177</td>\n",
              "      <td>5065.0</td>\n",
              "      <td>0.63</td>\n",
              "    </tr>\n",
              "    <tr>\n",
              "      <th>236848</th>\n",
              "      <td>298400</td>\n",
              "      <td>248888303</td>\n",
              "      <td>3549.0</td>\n",
              "      <td>0.23</td>\n",
              "    </tr>\n",
              "    <tr>\n",
              "      <th>236849</th>\n",
              "      <td>298401</td>\n",
              "      <td>248888367</td>\n",
              "      <td>3296.0</td>\n",
              "      <td>0.17</td>\n",
              "    </tr>\n",
              "  </tbody>\n",
              "</table>\n",
              "<p>236850 rows × 4 columns</p>\n",
              "</div>"
            ],
            "text/plain": [
              "         index  epic_number  k2_teff  k2_rad\n",
              "0         9157    201150552   4687.0   11.26\n",
              "1         9158    201150635   4103.0    0.46\n",
              "2         9159    201150637   5284.0    9.08\n",
              "3         9160    201150679   3508.0    0.23\n",
              "4         9161    201150706   6166.0    1.30\n",
              "...        ...          ...      ...     ...\n",
              "236845  298392    248888089   5300.0    0.72\n",
              "236846  298396    248888126   3432.0    0.19\n",
              "236847  298397    248888177   5065.0    0.63\n",
              "236848  298400    248888303   3549.0    0.23\n",
              "236849  298401    248888367   3296.0    0.17\n",
              "\n",
              "[236850 rows x 4 columns]"
            ]
          },
          "metadata": {
            "tags": []
          },
          "execution_count": 7
        }
      ]
    },
    {
      "cell_type": "code",
      "metadata": {
        "id": "wwlPy4cne6b6",
        "colab": {
          "base_uri": "https://localhost:8080/",
          "height": 415
        },
        "outputId": "c133c2da-5ee9-41fa-9da1-e2d7df4e4461"
      },
      "source": [
        "\n",
        "df.drop('index', axis=1)"
      ],
      "execution_count": null,
      "outputs": [
        {
          "output_type": "execute_result",
          "data": {
            "text/html": [
              "<div>\n",
              "<style scoped>\n",
              "    .dataframe tbody tr th:only-of-type {\n",
              "        vertical-align: middle;\n",
              "    }\n",
              "\n",
              "    .dataframe tbody tr th {\n",
              "        vertical-align: top;\n",
              "    }\n",
              "\n",
              "    .dataframe thead th {\n",
              "        text-align: right;\n",
              "    }\n",
              "</style>\n",
              "<table border=\"1\" class=\"dataframe\">\n",
              "  <thead>\n",
              "    <tr style=\"text-align: right;\">\n",
              "      <th></th>\n",
              "      <th>epic_number</th>\n",
              "      <th>k2_teff</th>\n",
              "      <th>k2_rad</th>\n",
              "    </tr>\n",
              "  </thead>\n",
              "  <tbody>\n",
              "    <tr>\n",
              "      <th>0</th>\n",
              "      <td>201150552</td>\n",
              "      <td>4687.0</td>\n",
              "      <td>11.26</td>\n",
              "    </tr>\n",
              "    <tr>\n",
              "      <th>1</th>\n",
              "      <td>201150635</td>\n",
              "      <td>4103.0</td>\n",
              "      <td>0.46</td>\n",
              "    </tr>\n",
              "    <tr>\n",
              "      <th>2</th>\n",
              "      <td>201150637</td>\n",
              "      <td>5284.0</td>\n",
              "      <td>9.08</td>\n",
              "    </tr>\n",
              "    <tr>\n",
              "      <th>3</th>\n",
              "      <td>201150679</td>\n",
              "      <td>3508.0</td>\n",
              "      <td>0.23</td>\n",
              "    </tr>\n",
              "    <tr>\n",
              "      <th>4</th>\n",
              "      <td>201150706</td>\n",
              "      <td>6166.0</td>\n",
              "      <td>1.30</td>\n",
              "    </tr>\n",
              "    <tr>\n",
              "      <th>...</th>\n",
              "      <td>...</td>\n",
              "      <td>...</td>\n",
              "      <td>...</td>\n",
              "    </tr>\n",
              "    <tr>\n",
              "      <th>236845</th>\n",
              "      <td>248888089</td>\n",
              "      <td>5300.0</td>\n",
              "      <td>0.72</td>\n",
              "    </tr>\n",
              "    <tr>\n",
              "      <th>236846</th>\n",
              "      <td>248888126</td>\n",
              "      <td>3432.0</td>\n",
              "      <td>0.19</td>\n",
              "    </tr>\n",
              "    <tr>\n",
              "      <th>236847</th>\n",
              "      <td>248888177</td>\n",
              "      <td>5065.0</td>\n",
              "      <td>0.63</td>\n",
              "    </tr>\n",
              "    <tr>\n",
              "      <th>236848</th>\n",
              "      <td>248888303</td>\n",
              "      <td>3549.0</td>\n",
              "      <td>0.23</td>\n",
              "    </tr>\n",
              "    <tr>\n",
              "      <th>236849</th>\n",
              "      <td>248888367</td>\n",
              "      <td>3296.0</td>\n",
              "      <td>0.17</td>\n",
              "    </tr>\n",
              "  </tbody>\n",
              "</table>\n",
              "<p>236850 rows × 3 columns</p>\n",
              "</div>"
            ],
            "text/plain": [
              "        epic_number  k2_teff  k2_rad\n",
              "0         201150552   4687.0   11.26\n",
              "1         201150635   4103.0    0.46\n",
              "2         201150637   5284.0    9.08\n",
              "3         201150679   3508.0    0.23\n",
              "4         201150706   6166.0    1.30\n",
              "...             ...      ...     ...\n",
              "236845    248888089   5300.0    0.72\n",
              "236846    248888126   3432.0    0.19\n",
              "236847    248888177   5065.0    0.63\n",
              "236848    248888303   3549.0    0.23\n",
              "236849    248888367   3296.0    0.17\n",
              "\n",
              "[236850 rows x 3 columns]"
            ]
          },
          "metadata": {
            "tags": []
          },
          "execution_count": 8
        }
      ]
    },
    {
      "cell_type": "markdown",
      "metadata": {
        "id": "rYzIcSY-YizI"
      },
      "source": [
        "## Add a column for the star luminosity in Watts\n",
        "follow [this description](http://personal.psu.edu/mxe17/A010/lectures/lect19.html) Section 2\n"
      ]
    },
    {
      "cell_type": "markdown",
      "metadata": {
        "id": "g0SBjC-M_dht"
      },
      "source": [
        "The luminosity of the star is $4 ~ \\pi ~ r^2 ~\\sigma~ T^4$\n",
        "with $\\sigma$ Boltzmann constand, $T$ temperature, $r$ radius of the star. \n",
        "\n",
        "Note that the radius is given in sun radii, use ```const.R_sun``` to get the radius in natural units instead."
      ]
    },
    {
      "cell_type": "code",
      "metadata": {
        "ExecuteTime": {
          "end_time": "2019-10-24T02:25:32.724177Z",
          "start_time": "2019-10-24T02:25:32.711650Z"
        },
        "id": "O_7ZWP7T_dht"
      },
      "source": [
        "df[\"Luminosity\"] = 4 * np.pi * df.k2_rad * const.R_sun * df.k2_teff**4 * const.sigma_sb\n",
        "#Adding a column for luminosity in (Watts)"
      ],
      "execution_count": null,
      "outputs": []
    },
    {
      "cell_type": "code",
      "metadata": {
        "id": "Sk217e0siKto"
      },
      "source": [
        "df[\"LogLuminosity\"] = np.log10(df[\"Luminosity\"])"
      ],
      "execution_count": null,
      "outputs": []
    },
    {
      "cell_type": "code",
      "metadata": {
        "id": "dulSFpkAkOgg",
        "colab": {
          "base_uri": "https://localhost:8080/",
          "height": 415
        },
        "outputId": "cbc3e105-a3d7-40bd-fe2b-40a2d9087371"
      },
      "source": [
        "df"
      ],
      "execution_count": null,
      "outputs": [
        {
          "output_type": "execute_result",
          "data": {
            "text/html": [
              "<div>\n",
              "<style scoped>\n",
              "    .dataframe tbody tr th:only-of-type {\n",
              "        vertical-align: middle;\n",
              "    }\n",
              "\n",
              "    .dataframe tbody tr th {\n",
              "        vertical-align: top;\n",
              "    }\n",
              "\n",
              "    .dataframe thead th {\n",
              "        text-align: right;\n",
              "    }\n",
              "</style>\n",
              "<table border=\"1\" class=\"dataframe\">\n",
              "  <thead>\n",
              "    <tr style=\"text-align: right;\">\n",
              "      <th></th>\n",
              "      <th>index</th>\n",
              "      <th>epic_number</th>\n",
              "      <th>k2_teff</th>\n",
              "      <th>k2_rad</th>\n",
              "      <th>Luminosity</th>\n",
              "      <th>LogLuminosity</th>\n",
              "    </tr>\n",
              "  </thead>\n",
              "  <tbody>\n",
              "    <tr>\n",
              "      <th>0</th>\n",
              "      <td>9157</td>\n",
              "      <td>201150552</td>\n",
              "      <td>4687.0</td>\n",
              "      <td>11.26</td>\n",
              "      <td>2.693778e+18</td>\n",
              "      <td>18.430362</td>\n",
              "    </tr>\n",
              "    <tr>\n",
              "      <th>1</th>\n",
              "      <td>9158</td>\n",
              "      <td>201150635</td>\n",
              "      <td>4103.0</td>\n",
              "      <td>0.46</td>\n",
              "      <td>6.462603e+16</td>\n",
              "      <td>16.810408</td>\n",
              "    </tr>\n",
              "    <tr>\n",
              "      <th>2</th>\n",
              "      <td>9159</td>\n",
              "      <td>201150637</td>\n",
              "      <td>5284.0</td>\n",
              "      <td>9.08</td>\n",
              "      <td>3.508978e+18</td>\n",
              "      <td>18.545181</td>\n",
              "    </tr>\n",
              "    <tr>\n",
              "      <th>3</th>\n",
              "      <td>9160</td>\n",
              "      <td>201150679</td>\n",
              "      <td>3508.0</td>\n",
              "      <td>0.23</td>\n",
              "      <td>1.726672e+16</td>\n",
              "      <td>16.237210</td>\n",
              "    </tr>\n",
              "    <tr>\n",
              "      <th>4</th>\n",
              "      <td>9161</td>\n",
              "      <td>201150706</td>\n",
              "      <td>6166.0</td>\n",
              "      <td>1.30</td>\n",
              "      <td>9.315390e+17</td>\n",
              "      <td>17.969201</td>\n",
              "    </tr>\n",
              "    <tr>\n",
              "      <th>...</th>\n",
              "      <td>...</td>\n",
              "      <td>...</td>\n",
              "      <td>...</td>\n",
              "      <td>...</td>\n",
              "      <td>...</td>\n",
              "      <td>...</td>\n",
              "    </tr>\n",
              "    <tr>\n",
              "      <th>236845</th>\n",
              "      <td>298392</td>\n",
              "      <td>248888089</td>\n",
              "      <td>5300.0</td>\n",
              "      <td>0.72</td>\n",
              "      <td>2.816304e+17</td>\n",
              "      <td>17.449680</td>\n",
              "    </tr>\n",
              "    <tr>\n",
              "      <th>236846</th>\n",
              "      <td>298396</td>\n",
              "      <td>248888126</td>\n",
              "      <td>3432.0</td>\n",
              "      <td>0.19</td>\n",
              "      <td>1.306731e+16</td>\n",
              "      <td>16.116186</td>\n",
              "    </tr>\n",
              "    <tr>\n",
              "      <th>236847</th>\n",
              "      <td>298397</td>\n",
              "      <td>248888177</td>\n",
              "      <td>5065.0</td>\n",
              "      <td>0.63</td>\n",
              "      <td>2.055427e+17</td>\n",
              "      <td>17.312902</td>\n",
              "    </tr>\n",
              "    <tr>\n",
              "      <th>236848</th>\n",
              "      <td>298400</td>\n",
              "      <td>248888303</td>\n",
              "      <td>3549.0</td>\n",
              "      <td>0.23</td>\n",
              "      <td>1.808820e+16</td>\n",
              "      <td>16.257395</td>\n",
              "    </tr>\n",
              "    <tr>\n",
              "      <th>236849</th>\n",
              "      <td>298401</td>\n",
              "      <td>248888367</td>\n",
              "      <td>3296.0</td>\n",
              "      <td>0.17</td>\n",
              "      <td>9.945837e+15</td>\n",
              "      <td>15.997641</td>\n",
              "    </tr>\n",
              "  </tbody>\n",
              "</table>\n",
              "<p>236850 rows × 6 columns</p>\n",
              "</div>"
            ],
            "text/plain": [
              "         index  epic_number  k2_teff  k2_rad    Luminosity  LogLuminosity\n",
              "0         9157    201150552   4687.0   11.26  2.693778e+18      18.430362\n",
              "1         9158    201150635   4103.0    0.46  6.462603e+16      16.810408\n",
              "2         9159    201150637   5284.0    9.08  3.508978e+18      18.545181\n",
              "3         9160    201150679   3508.0    0.23  1.726672e+16      16.237210\n",
              "4         9161    201150706   6166.0    1.30  9.315390e+17      17.969201\n",
              "...        ...          ...      ...     ...           ...            ...\n",
              "236845  298392    248888089   5300.0    0.72  2.816304e+17      17.449680\n",
              "236846  298396    248888126   3432.0    0.19  1.306731e+16      16.116186\n",
              "236847  298397    248888177   5065.0    0.63  2.055427e+17      17.312902\n",
              "236848  298400    248888303   3549.0    0.23  1.808820e+16      16.257395\n",
              "236849  298401    248888367   3296.0    0.17  9.945837e+15      15.997641\n",
              "\n",
              "[236850 rows x 6 columns]"
            ]
          },
          "metadata": {
            "tags": []
          },
          "execution_count": 11
        }
      ]
    },
    {
      "cell_type": "markdown",
      "metadata": {
        "id": "8ekiatKu_dhu"
      },
      "source": [
        "## Plot the HR diagram:"
      ]
    },
    {
      "cell_type": "code",
      "metadata": {
        "id": "YgbLInJaj6WA"
      },
      "source": [
        "df.plot.scatter?"
      ],
      "execution_count": null,
      "outputs": []
    },
    {
      "cell_type": "code",
      "metadata": {
        "ExecuteTime": {
          "end_time": "2019-10-24T02:25:35.040517Z",
          "start_time": "2019-10-24T02:25:32.743773Z"
        },
        "id": "iQpomxTWYizX",
        "colab": {
          "base_uri": "https://localhost:8080/",
          "height": 337
        },
        "outputId": "d5eb50f9-9f41-4402-f9bc-3b87429d2929"
      },
      "source": [
        "\n",
        "df.plot.scatter(\"k2_teff\", \"Luminosity\", logy = True)\n",
        "plt.xlim(40000,1000)\n",
        "plt.xlabel(r'$T_{eff}$ (K)')\n",
        "plt.ylabel('Luminosity (W)');\n",
        "\n",
        "\n"
      ],
      "execution_count": null,
      "outputs": [
        {
          "output_type": "stream",
          "text": [
            "findfont: Font family ['[\"sans-serif\"]'] not found. Falling back to DejaVu Sans.\n",
            "findfont: Font family ['[\"sans-serif\"]'] not found. Falling back to DejaVu Sans.\n"
          ],
          "name": "stderr"
        },
        {
          "output_type": "display_data",
          "data": {
            "image/png": "[encoded data removed]",
            "text/plain": [
              "<Figure size 432x288 with 1 Axes>"
            ]
          },
          "metadata": {
            "tags": []
          }
        }
      ]
    },
    {
      "cell_type": "markdown",
      "metadata": {
        "id": "yrJp6lSO_dhu"
      },
      "source": [
        "## Plot the HR diagram using transparency to better the readability of the plot:"
      ]
    },
    {
      "cell_type": "code",
      "metadata": {
        "ExecuteTime": {
          "end_time": "2019-10-24T02:25:37.425551Z",
          "start_time": "2019-10-24T02:25:35.042301Z"
        },
        "cell_style": "split",
        "id": "QXr_DVfGYizS",
        "colab": {
          "base_uri": "https://localhost:8080/",
          "height": 131
        },
        "outputId": "26386f9f-9ec8-434a-c9c7-95efce72767f"
      },
      "source": [
        "\n",
        "df.plot.scatter(.. alpha...)\n",
        "plt.xlim(40000, 1000)\n",
        "plt.xlabel(r'$T_{eff}$ (K)')\n",
        "plt.ylabel('Luminosity (W)');\n"
      ],
      "execution_count": null,
      "outputs": [
        {
          "output_type": "error",
          "ename": "SyntaxError",
          "evalue": "ignored",
          "traceback": [
            "\u001b[0;36m  File \u001b[0;32m\"<ipython-input-14-f53f3497b8a1>\"\u001b[0;36m, line \u001b[0;32m2\u001b[0m\n\u001b[0;31m    df.plot.scatter(.. alpha...)\u001b[0m\n\u001b[0m                    ^\u001b[0m\n\u001b[0;31mSyntaxError\u001b[0m\u001b[0;31m:\u001b[0m invalid syntax\n"
          ]
        }
      ]
    },
    {
      "cell_type": "markdown",
      "metadata": {
        "id": "KFJFHXmvbzHE"
      },
      "source": [
        "## AstroML version"
      ]
    },
    {
      "cell_type": "code",
      "metadata": {
        "ExecuteTime": {
          "end_time": "2019-10-24T02:26:12.204944Z",
          "start_time": "2019-10-24T02:26:10.490494Z"
        },
        "id": "BxWHJZYLZhqZ"
      },
      "source": [
        "!pip install astroML"
      ],
      "execution_count": null,
      "outputs": []
    },
    {
      "cell_type": "code",
      "metadata": {
        "ExecuteTime": {
          "end_time": "2019-10-24T02:26:34.351644Z",
          "start_time": "2019-10-24T02:26:33.128168Z"
        },
        "id": "5Cs7KIXIYizc"
      },
      "source": [
        "\n",
        "from astroML import plotting\n",
        "#rememnber that you are making a log-log plot\n",
        "ax = plt.figure(figsize=(10,10)).add_subplot()\n",
        "plotting.scatter_contour(ax = ax, x = np.log10(df[\"k2_teff\"]), y = np.log10(df[\"Luminosity\"])\n",
        "##plt.ylabel('log(Luminosity) (W)')\n",
        "#plt.xlabel(r'$log(T_{eff})$ (K)')\n",
        "#plt.xlim(4.5, 3.2)\n",
        "#plt.savefig(\"k2scatter_contour.png\""
      ],
      "execution_count": null,
      "outputs": []
    },
    {
      "cell_type": "code",
      "metadata": {
        "id": "J5NjgR2WA4SV"
      },
      "source": [
        "#change the contour parameters till it looks good\n",
        "plt.contourf?"
      ],
      "execution_count": null,
      "outputs": []
    },
    {
      "cell_type": "markdown",
      "metadata": {
        "id": "TDZR7nhjbudK"
      },
      "source": [
        "# by-hand version\n",
        "\n",
        "Here is how you would do this by hand."
      ]
    },
    {
      "cell_type": "code",
      "metadata": {
        "ExecuteTime": {
          "end_time": "2019-10-24T02:26:41.683453Z",
          "start_time": "2019-10-24T02:26:41.557760Z"
        },
        "id": "XUAm9HNXZws6"
      },
      "source": [
        "H, xbins, ybins = np.histogram2d(np.log10(teff_na), np.log10(L_na), bins=(40, 40))\n",
        "Hsort = np.sort(H.flatten())"
      ],
      "execution_count": null,
      "outputs": []
    },
    {
      "cell_type": "code",
      "metadata": {
        "id": "x0xgFoqzFZO5"
      },
      "source": [
        "extent = #\n",
        "levels = np.linspace(...)\n",
        "outline = ax.contour(H.T, levels[i_min:i_min + 1],\n",
        "                         linewidths=0, extent=extent)\n",
        "points = ax.plot(Xplot[:, 0], Xplot[:, 1], '.', ms=10, alpha=0.05, c='k')\n",
        "outline = ax.contour(H.T, levels[i_min:i_min + 1],\n",
        "                         linewidths=0, extent=extent)\n",
        "\n",
        "\n",
        "plt.xlim(4.5,3.2)\n",
        "plt.ylabel('log(Luminosity) (W)')\n",
        "plt.xlabel(r'$log(T_{eff})$ (K)');"
      ],
      "execution_count": null,
      "outputs": []
    },
    {
      "cell_type": "code",
      "metadata": {
        "ExecuteTime": {
          "end_time": "2019-10-24T02:28:40.867722Z",
          "start_time": "2019-10-24T02:28:40.567043Z"
        },
        "cell_style": "split",
        "id": "fOrxzj3lYize",
        "run_control": {
          "marked": false
        }
      },
      "source": [
        "extent = #\n",
        "levels = np.linspace(...)\n",
        "outline = ax.contour(H.T, levels[i_min:i_min + 1],\n",
        "                         linewidths=0, extent=extent)\n",
        "points = ax.plot(Xplot[:, 0], Xplot[:, 1], '.', ms=10, alpha=0.05, c='k')\n",
        "outline = ax.contour(H.T, levels[i_min:i_min + 1],\n",
        "                         linewidths=0, extent=extent)\n",
        "\n",
        "X = np.hstack([np.log10(teff_na)[:, None], np.log10(L_na)[:, None]])\n",
        "\n",
        "if len(outline.allsegs[0]) > 0:\n",
        "    outer_poly = outline.allsegs[0][0]\n",
        "    try:\n",
        "        # this works in newer matplotlib versions\n",
        "        from matplotlib.path import Path\n",
        "        points_inside = Path(outer_poly).contains_points(X)\n",
        "    except:\n",
        "        # this works in older matplotlib versions\n",
        "        import matplotlib.nxutils as nx\n",
        "        points_inside = nx.points_inside_poly(X, outer_poly)\n",
        "\n",
        "    Xplot = X[~points_inside]\n",
        "else:\n",
        "    Xplot = X\n",
        "\n",
        "axc = contourf(H.T, extent=extent, levels=levels, \n",
        "               linewidths=3, cmap='winter', alpha=0.7)\n",
        "\n",
        "plt.xlim(4.5,3.2)\n",
        "plt.ylabel('log(Luminosity) (W)')\n",
        "plt.xlabel(r'$log(T_{eff})$ (K)');"
      ],
      "execution_count": null,
      "outputs": []
    }
  ]
}