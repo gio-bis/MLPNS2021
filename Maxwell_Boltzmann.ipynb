{
  "nbformat": 4,
  "nbformat_minor": 0,
  "metadata": {
    "colab": {
      "name": "Maxwell_Boltzmann.ipynb",
      "provenance": [],
      "authorship_tag": "ABX9TyOuU8m8E/WvkP6D5DRAEqoL",
      "include_colab_link": true
    },
    "kernelspec": {
      "name": "python3",
      "display_name": "Python 3"
    },
    "language_info": {
      "name": "python"
    }
  },
  "cells": [
    {
      "cell_type": "markdown",
      "metadata": {
        "id": "view-in-github",
        "colab_type": "text"
      },
      "source": [
        "<a href=\"https://colab.research.google.com/github/gio-bis/MLPNS2021/blob/main/Maxwell_Boltzmann.ipynb\" target=\"_parent\"><img src=\"https://colab.research.google.com/assets/colab-badge.svg\" alt=\"Open In Colab\"/></a>"
      ]
    },
    {
      "cell_type": "markdown",
      "metadata": {
        "id": "haURJUeVIoLL"
      },
      "source": [
        "##**Homework 1: Maxwell Boltzmann distribution**"
      ]
    },
    {
      "cell_type": "code",
      "metadata": {
        "colab": {
          "base_uri": "https://localhost:8080/"
        },
        "id": "1yurs2lTIxDC",
        "outputId": "1bbe2655-cdac-4c9c-eb8e-69b50c8e3daa"
      },
      "source": [
        "from __future__ import print_function, division\n",
        "import numpy as np\n",
        "import scipy as sp\n",
        "from scipy import stats\n",
        "import pylab as pl\n",
        "%pylab inline\n",
        "pl.style.use(\"https://raw.githubusercontent.com/fedhere/MLPNS2021/master/fbb.mplstyle\")"
      ],
      "execution_count": 1,
      "outputs": [
        {
          "output_type": "stream",
          "text": [
            "Populating the interactive namespace from numpy and matplotlib\n"
          ],
          "name": "stdout"
        }
      ]
    },
    {
      "cell_type": "markdown",
      "metadata": {
        "id": "Ji21heMCJB8H"
      },
      "source": [
        "In Physics, statistics can help us describe the macroscopic behavior of a system if we know its microscopic properties in a statistical sense. We cannot know the motion of each molecule in a gas, but we can know the distribution of their velocities and positions. In the mid to late 1800s, James Clerk Maxwell and Ludwig Boltzmann modeled the distribution of speed of molecules in a gas. As you probably know, and can intuitive realize, the speed of the molecules depends on the temperature of the gas, which is a macroscopic property, i.e. the velocity of the molecules is different for different gas temperatures. This distribution is called the Maxwell-Boltzmann distribution.\n",
        "\n",
        "It turns out that the Maxwel-Boltzmann distribution is a special case of the Chi distribution with 3 degrees of freedom, and with a scale parameter corresponding to the temperature in some way.\n",
        "\n",
        "Below I have created 3 distributions. Based on the description above\n",
        "\n"
      ]
    },
    {
      "cell_type": "markdown",
      "metadata": {
        "id": "ZdrOFluPJ_Eo"
      },
      "source": [
        "\n",
        "# **1) label the axis in the plot,**"
      ]
    },
    {
      "cell_type": "code",
      "metadata": {
        "colab": {
          "base_uri": "https://localhost:8080/",
          "height": 279
        },
        "id": "Nj6lB_zsJu7V",
        "outputId": "c25c3d28-33ec-4604-fa95-0421b92bc8e1"
      },
      "source": [
        "np.random.randn(123)\n",
        "fig, ax = pl.subplots()\n",
        "for a in [0.2, 0.6, 1.0]:\n",
        "    ax.hist(sp.stats.chi.rvs(df=3, scale=a, size=1000), # could as well be sp.stats.maxwell.rvs(scale=a, size=1000)\n",
        "          bins=np.arange(0,5,0.1), alpha=0.7,\n",
        "       label=\"a = %.1f\"%a);\n",
        "\n",
        "pl.legend();\n",
        "pl.xlabel('velocity');\n",
        "pl.ylabel('probability');"
      ],
      "execution_count": 3,
      "outputs": [
        {
          "output_type": "display_data",
          "data": {
            "image/png": "[encoded data removed]",
            "text/plain": [
              "<Figure size 432x288 with 1 Axes>"
            ]
          },
          "metadata": {
            "tags": [],
            "needs_background": "light"
          }
        }
      ]
    },
    {
      "cell_type": "markdown",
      "metadata": {
        "id": "HSzT5UwXLrAf"
      },
      "source": [
        "# **2) knowing that the scale parameter $a$ is a function of the temperature T, and that the dependency is to a power 1/2, which is correct:**"
      ]
    },
    {
      "cell_type": "markdown",
      "metadata": {
        "id": "4Wu_qRUmLu9f"
      },
      "source": [
        "$a \\propto \\sqrt{T}$ or $a \\propto \\sqrt{1/T}$?"
      ]
    },
    {
      "cell_type": "markdown",
      "metadata": {
        "id": "PtUFFIXvL6qV"
      },
      "source": [
        "Your answer here: $a \\propto \\sqrt{T}$\n",
        "\n",
        "\n",
        "\n"
      ]
    },
    {
      "cell_type": "markdown",
      "metadata": {
        "id": "hxE8gYLLN8T4"
      },
      "source": [
        "# **3) What is the mean of all three distributions. How does it compare to the most probable molecular speed?**\n"
      ]
    },
    {
      "cell_type": "markdown",
      "metadata": {
        "id": "G8i3O8OBOGNK"
      },
      "source": [
        "From the wikipedia page of the Chi distribution find the formula of the mean of the Chi distribution. The distribution we are using has a scale parameter a in addition to the number of degrees of freedom. The mean scales linearly with this parameter:\n",
        "\n",
        "$\\mu_{\\mathrm{MB}, k, a} = a \\cdot \\mu_{\\mathrm{chi}, k}$\n",
        "\n",
        "Using the scipy function sp.special.gamma() calculate the gamma $\\Gamma$ function,\n",
        "\n",
        "**calculate the mean of all three distributions. How does it compare to the most probable molecular speed.**"
      ]
    },
    {
      "cell_type": "markdown",
      "metadata": {
        "id": "BSZGOa8Rll_c"
      },
      "source": [
        "$\\mu_{\\mathrm{MB}, k, a} = a \\cdot \\mu_{\\mathrm{chi}, k}$"
      ]
    },
    {
      "cell_type": "code",
      "metadata": {
        "colab": {
          "base_uri": "https://localhost:8080/"
        },
        "id": "t6O8KpzJOOeW",
        "outputId": "37905bd1-a625-4137-99a6-891ec8646386"
      },
      "source": [
        "sp.special.gamma([0, 0.5, 1, 4])"
      ],
      "execution_count": 6,
      "outputs": [
        {
          "output_type": "execute_result",
          "data": {
            "text/plain": [
              "array([       inf, 1.77245385, 1.        , 6.        ])"
            ]
          },
          "metadata": {
            "tags": []
          },
          "execution_count": 6
        }
      ]
    }
  ]
}