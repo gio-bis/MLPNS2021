{
  "nbformat": 4,
  "nbformat_minor": 0,
  "metadata": {
    "colab": {
      "name": "TitanicTree.ipynb",
      "provenance": [],
      "authorship_tag": "ABX9TyMiML8Y9pOfjL4xbCYttZmH",
      "include_colab_link": true
    },
    "kernelspec": {
      "name": "python3",
      "display_name": "Python 3"
    },
    "language_info": {
      "name": "python"
    }
  },
  "cells": [
    {
      "cell_type": "markdown",
      "metadata": {
        "id": "view-in-github",
        "colab_type": "text"
      },
      "source": [
        "<a href=\"https://colab.research.google.com/github/gio-bis/MLPNS2021/blob/main/CART/TitanicTree.ipynb\" target=\"_parent\"><img src=\"https://colab.research.google.com/assets/colab-badge.svg\" alt=\"Open In Colab\"/></a>"
      ]
    },
    {
      "cell_type": "code",
      "metadata": {
        "colab": {
          "base_uri": "https://localhost:8080/"
        },
        "id": "Qt0-lZ-lneA0",
        "outputId": "6a1ef311-f454-4ab3-b27e-cf8cd6b6930f"
      },
      "source": [
        "import pandas as pd\n",
        "import numpy as np\n",
        "import pylab as pl\n",
        "import os\n",
        "import json \n",
        "%pylab inline\n",
        "pl.style.use(\"https://raw.githubusercontent.com/fedhere/DSPS/master/fbb.mplstyle\")"
      ],
      "execution_count": 2,
      "outputs": [
        {
          "output_type": "stream",
          "text": [
            "Populating the interactive namespace from numpy and matplotlib\n"
          ],
          "name": "stdout"
        }
      ]
    },
    {
      "cell_type": "code",
      "metadata": {
        "colab": {
          "base_uri": "https://localhost:8080/"
        },
        "id": "3MXKG4QFnicg",
        "outputId": "5a4edb52-9a83-4e8b-df8f-fae40a307c85"
      },
      "source": [
        "from google.colab import drive\n",
        "drive.mount(\"/content/drive\")"
      ],
      "execution_count": 3,
      "outputs": [
        {
          "output_type": "stream",
          "text": [
            "Mounted at /content/drive\n"
          ],
          "name": "stdout"
        }
      ]
    },
    {
      "cell_type": "code",
      "metadata": {
        "colab": {
          "base_uri": "https://localhost:8080/"
        },
        "id": "45VwTZIQnolM",
        "outputId": "1621e596-1e9e-48cf-a63d-3a0c4e7e8303"
      },
      "source": [
        "cd /content/drive/MyDrive/"
      ],
      "execution_count": 4,
      "outputs": [
        {
          "output_type": "stream",
          "text": [
            "/content/drive/MyDrive\n"
          ],
          "name": "stdout"
        }
      ]
    },
    {
      "cell_type": "code",
      "metadata": {
        "colab": {
          "base_uri": "https://localhost:8080/"
        },
        "id": "gN8Ky8TFnpz2",
        "outputId": "5c447f82-ba75-4ed8-d2b1-d0ca1a9a85e5"
      },
      "source": [
        "!pip install kaggle"
      ],
      "execution_count": 5,
      "outputs": [
        {
          "output_type": "stream",
          "text": [
            "Requirement already satisfied: kaggle in /usr/local/lib/python3.7/dist-packages (1.5.12)\n",
            "Requirement already satisfied: python-slugify in /usr/local/lib/python3.7/dist-packages (from kaggle) (5.0.2)\n",
            "Requirement already satisfied: python-dateutil in /usr/local/lib/python3.7/dist-packages (from kaggle) (2.8.1)\n",
            "Requirement already satisfied: requests in /usr/local/lib/python3.7/dist-packages (from kaggle) (2.23.0)\n",
            "Requirement already satisfied: tqdm in /usr/local/lib/python3.7/dist-packages (from kaggle) (4.41.1)\n",
            "Requirement already satisfied: certifi in /usr/local/lib/python3.7/dist-packages (from kaggle) (2020.12.5)\n",
            "Requirement already satisfied: urllib3 in /usr/local/lib/python3.7/dist-packages (from kaggle) (1.24.3)\n",
            "Requirement already satisfied: six>=1.10 in /usr/local/lib/python3.7/dist-packages (from kaggle) (1.15.0)\n",
            "Requirement already satisfied: text-unidecode>=1.3 in /usr/local/lib/python3.7/dist-packages (from python-slugify->kaggle) (1.3)\n",
            "Requirement already satisfied: idna<3,>=2.5 in /usr/local/lib/python3.7/dist-packages (from requests->kaggle) (2.10)\n",
            "Requirement already satisfied: chardet<4,>=3.0.2 in /usr/local/lib/python3.7/dist-packages (from requests->kaggle) (3.0.4)\n"
          ],
          "name": "stdout"
        }
      ]
    },
    {
      "cell_type": "code",
      "metadata": {
        "colab": {
          "base_uri": "https://localhost:8080/"
        },
        "id": "0lnYYR9Ynr52",
        "outputId": "e4ab1711-ccdc-4157-9d1c-58069f952d36"
      },
      "source": [
        "!ls kaggle.json"
      ],
      "execution_count": 6,
      "outputs": [
        {
          "output_type": "stream",
          "text": [
            "kaggle.json\n"
          ],
          "name": "stdout"
        }
      ]
    },
    {
      "cell_type": "code",
      "metadata": {
        "id": "Xxuu78vxntv1"
      },
      "source": [
        "!chmod 600 kaggle.json"
      ],
      "execution_count": 7,
      "outputs": []
    },
    {
      "cell_type": "code",
      "metadata": {
        "id": "oK4k2Hp_nvTr"
      },
      "source": [
        "envs = json.load(open(\"kaggle.json\", \"r\"))\n",
        "os.environ[\"KAGGLE_USERNAME\"] = envs['username']\n",
        "os.environ[\"KAGGLE_KEY\"] = envs['key']"
      ],
      "execution_count": 8,
      "outputs": []
    },
    {
      "cell_type": "code",
      "metadata": {
        "colab": {
          "base_uri": "https://localhost:8080/"
        },
        "id": "YDuwRYUzoEDe",
        "outputId": "1dd31106-d80b-44a0-b053-89fbbbcd0d6a"
      },
      "source": [
        "!kaggle competitions download -c titanic"
      ],
      "execution_count": 9,
      "outputs": [
        {
          "output_type": "stream",
          "text": [
            "Warning: Looks like you're using an outdated API Version, please consider updating (server 1.5.12 / client 1.5.4)\n",
            "gender_submission.csv: Skipping, found more recently modified local copy (use --force to force download)\n",
            "train.csv: Skipping, found more recently modified local copy (use --force to force download)\n",
            "test.csv: Skipping, found more recently modified local copy (use --force to force download)\n"
          ],
          "name": "stdout"
        }
      ]
    },
    {
      "cell_type": "code",
      "metadata": {
        "colab": {
          "base_uri": "https://localhost:8080/"
        },
        "id": "c5_D7IqBoIOz",
        "outputId": "2fbc8c22-4e47-410c-edb7-b08c8fa0ca25"
      },
      "source": [
        "!ls"
      ],
      "execution_count": 10,
      "outputs": [
        {
          "output_type": "stream",
          "text": [
            " all_ones_benchmark.zip\n",
            " all_zeros_benchmark.zip\n",
            " busBusses.npy\n",
            " busTimeTable.npy\n",
            " CEDIT_6_5_Friuli_Italy_1976.cpg\n",
            " CEDIT_6_5_Friuli_Italy_1976.dbf\n",
            " CEDIT_6_5_Friuli_Italy_1976.prj\n",
            " CEDIT_6_5_Friuli_Italy_1976.sbn\n",
            " CEDIT_6_5_Friuli_Italy_1976.sbx\n",
            " CEDIT_6_5_Friuli_Italy_1976.shp\n",
            " CEDIT_6_5_Friuli_Italy_1976.shp.xml\n",
            " CEDIT_6_5_Friuli_Italy_1976.shx\n",
            "'CEDIT_6_5_Friuli_Italy_1976.zip?raw=true'\n",
            "'CEDIT_6_5_Friuli_Italy_1976.zip?raw=true.1'\n",
            " central_pixel_benchmark.zip\n",
            "'chimica rel (1).docx.gdoc'\n",
            "'chimica rel.docx.gdoc'\n",
            "'Colab Notebooks'\n",
            "'Copia di Goldstein H. - Meccanica Classica -Pdf - Ita- (2a edizione).pdf'\n",
            " country_pop.xls\n",
            " e68ceb0a193e4e378b29255b62ab75e0_0.geojson\n",
            " e68ceb0a193e4e378b29255b62ab75e0_0.geojson.1\n",
            " final_instructions.ipynb\n",
            "'Fisica I - Meccanica e Termodinamica - Mazzoldi,  Nigro, Voci.pdf'\n",
            " galimgs.npy\n",
            " gender_submission.csv\n",
            " healthcare-dataset-stroke-data.csv\n",
            " HiggsBosonCompetition_AMSMetric_rev1.py\n",
            " images_test_rev1.zip\n",
            " images_training_rev1\n",
            " images_training_rev1.zip\n",
            " ispalindrome.py\n",
            " kaggle.json\n",
            " kaggleTitanic\n",
            " kalbar_drone_190113-768x512.jpg\n",
            "'Laboratorio di elettronica_MG (1).gdoc'\n",
            "'Laboratorio di elettronica_MG (2).gdoc'\n",
            "'Laboratorio di elettronica_MG.docx'\n",
            "'Laboratorio di elettronica_MG.gdoc'\n",
            " logs\n",
            " NMR_Biselli_etal_annotata.pdf\n",
            " NYC_Women_s_Resource_Network_Database.csv\n",
            " __pycache__\n",
            " random_submission.zip\n",
            " spm\n",
            " spm-20210427T111354Z-001.zip\n",
            "'SP.POP.TOTL?downloadformat=excel'\n",
            " stroke-prediction-dataset.zip\n",
            " teoria.docx\n",
            " test.csv\n",
            " test.zip\n",
            " TitanicTree\n",
            " TitanicTree.pdf\n",
            " train.csv\n",
            " training.csv\n",
            " training_solutions_rev1.csv\n",
            " training_solutions_rev1.zip\n",
            " training.zip\n",
            "'Zero assoluto.docx'\n",
            " ZIP_CODE_040114.zip\n"
          ],
          "name": "stdout"
        }
      ]
    },
    {
      "cell_type": "code",
      "metadata": {
        "id": "Bev527_FpT50"
      },
      "source": [
        "titanic = pd.read_csv(\"train.csv\")"
      ],
      "execution_count": 11,
      "outputs": []
    },
    {
      "cell_type": "code",
      "metadata": {
        "colab": {
          "base_uri": "https://localhost:8080/",
          "height": 202
        },
        "id": "4FZltIbcpZ_K",
        "outputId": "d0c5c5d0-55eb-48ff-e5c5-4f0221b1c843"
      },
      "source": [
        "titanic.head()"
      ],
      "execution_count": 12,
      "outputs": [
        {
          "output_type": "execute_result",
          "data": {
            "text/html": [
              "<div>\n",
              "<style scoped>\n",
              "    .dataframe tbody tr th:only-of-type {\n",
              "        vertical-align: middle;\n",
              "    }\n",
              "\n",
              "    .dataframe tbody tr th {\n",
              "        vertical-align: top;\n",
              "    }\n",
              "\n",
              "    .dataframe thead th {\n",
              "        text-align: right;\n",
              "    }\n",
              "</style>\n",
              "<table border=\"1\" class=\"dataframe\">\n",
              "  <thead>\n",
              "    <tr style=\"text-align: right;\">\n",
              "      <th></th>\n",
              "      <th>PassengerId</th>\n",
              "      <th>Survived</th>\n",
              "      <th>Pclass</th>\n",
              "      <th>Name</th>\n",
              "      <th>Sex</th>\n",
              "      <th>Age</th>\n",
              "      <th>SibSp</th>\n",
              "      <th>Parch</th>\n",
              "      <th>Ticket</th>\n",
              "      <th>Fare</th>\n",
              "      <th>Cabin</th>\n",
              "      <th>Embarked</th>\n",
              "    </tr>\n",
              "  </thead>\n",
              "  <tbody>\n",
              "    <tr>\n",
              "      <th>0</th>\n",
              "      <td>1</td>\n",
              "      <td>0</td>\n",
              "      <td>3</td>\n",
              "      <td>Braund, Mr. Owen Harris</td>\n",
              "      <td>male</td>\n",
              "      <td>22.0</td>\n",
              "      <td>1</td>\n",
              "      <td>0</td>\n",
              "      <td>A/5 21171</td>\n",
              "      <td>7.2500</td>\n",
              "      <td>NaN</td>\n",
              "      <td>S</td>\n",
              "    </tr>\n",
              "    <tr>\n",
              "      <th>1</th>\n",
              "      <td>2</td>\n",
              "      <td>1</td>\n",
              "      <td>1</td>\n",
              "      <td>Cumings, Mrs. John Bradley (Florence Briggs Th...</td>\n",
              "      <td>female</td>\n",
              "      <td>38.0</td>\n",
              "      <td>1</td>\n",
              "      <td>0</td>\n",
              "      <td>PC 17599</td>\n",
              "      <td>71.2833</td>\n",
              "      <td>C85</td>\n",
              "      <td>C</td>\n",
              "    </tr>\n",
              "    <tr>\n",
              "      <th>2</th>\n",
              "      <td>3</td>\n",
              "      <td>1</td>\n",
              "      <td>3</td>\n",
              "      <td>Heikkinen, Miss. Laina</td>\n",
              "      <td>female</td>\n",
              "      <td>26.0</td>\n",
              "      <td>0</td>\n",
              "      <td>0</td>\n",
              "      <td>STON/O2. 3101282</td>\n",
              "      <td>7.9250</td>\n",
              "      <td>NaN</td>\n",
              "      <td>S</td>\n",
              "    </tr>\n",
              "    <tr>\n",
              "      <th>3</th>\n",
              "      <td>4</td>\n",
              "      <td>1</td>\n",
              "      <td>1</td>\n",
              "      <td>Futrelle, Mrs. Jacques Heath (Lily May Peel)</td>\n",
              "      <td>female</td>\n",
              "      <td>35.0</td>\n",
              "      <td>1</td>\n",
              "      <td>0</td>\n",
              "      <td>113803</td>\n",
              "      <td>53.1000</td>\n",
              "      <td>C123</td>\n",
              "      <td>S</td>\n",
              "    </tr>\n",
              "    <tr>\n",
              "      <th>4</th>\n",
              "      <td>5</td>\n",
              "      <td>0</td>\n",
              "      <td>3</td>\n",
              "      <td>Allen, Mr. William Henry</td>\n",
              "      <td>male</td>\n",
              "      <td>35.0</td>\n",
              "      <td>0</td>\n",
              "      <td>0</td>\n",
              "      <td>373450</td>\n",
              "      <td>8.0500</td>\n",
              "      <td>NaN</td>\n",
              "      <td>S</td>\n",
              "    </tr>\n",
              "  </tbody>\n",
              "</table>\n",
              "</div>"
            ],
            "text/plain": [
              "   PassengerId  Survived  Pclass  ...     Fare Cabin  Embarked\n",
              "0            1         0       3  ...   7.2500   NaN         S\n",
              "1            2         1       1  ...  71.2833   C85         C\n",
              "2            3         1       3  ...   7.9250   NaN         S\n",
              "3            4         1       1  ...  53.1000  C123         S\n",
              "4            5         0       3  ...   8.0500   NaN         S\n",
              "\n",
              "[5 rows x 12 columns]"
            ]
          },
          "metadata": {
            "tags": []
          },
          "execution_count": 12
        }
      ]
    },
    {
      "cell_type": "code",
      "metadata": {
        "colab": {
          "base_uri": "https://localhost:8080/"
        },
        "id": "CJsRRCw_qGvQ",
        "outputId": "8b1df372-e51d-4b44-8cc3-b580dba450e8"
      },
      "source": [
        "titanic.shape"
      ],
      "execution_count": 13,
      "outputs": [
        {
          "output_type": "execute_result",
          "data": {
            "text/plain": [
              "(891, 12)"
            ]
          },
          "metadata": {
            "tags": []
          },
          "execution_count": 13
        }
      ]
    },
    {
      "cell_type": "code",
      "metadata": {
        "colab": {
          "base_uri": "https://localhost:8080/"
        },
        "id": "vc2sbQ3Fpxkn",
        "outputId": "7a8064bb-c65c-4950-8ea0-0e36955af3fd"
      },
      "source": [
        "titanic.isna().sum()"
      ],
      "execution_count": 14,
      "outputs": [
        {
          "output_type": "execute_result",
          "data": {
            "text/plain": [
              "PassengerId      0\n",
              "Survived         0\n",
              "Pclass           0\n",
              "Name             0\n",
              "Sex              0\n",
              "Age            177\n",
              "SibSp            0\n",
              "Parch            0\n",
              "Ticket           0\n",
              "Fare             0\n",
              "Cabin          687\n",
              "Embarked         2\n",
              "dtype: int64"
            ]
          },
          "metadata": {
            "tags": []
          },
          "execution_count": 14
        }
      ]
    },
    {
      "cell_type": "code",
      "metadata": {
        "id": "DIIpu-zfqfbB"
      },
      "source": [
        "titanic = titanic.dropna(subset=[\"Survived\", \"Pclass\", \"Sex\", \"Age\"])\n",
        "#rimuovo solo i NaN relativi alle colonne che mi interessano"
      ],
      "execution_count": 15,
      "outputs": []
    },
    {
      "cell_type": "code",
      "metadata": {
        "colab": {
          "base_uri": "https://localhost:8080/"
        },
        "id": "iptYGsGoqkjW",
        "outputId": "cc8c8d84-8217-4b18-a31b-c0299d022a36"
      },
      "source": [
        "titanic.shape"
      ],
      "execution_count": 16,
      "outputs": [
        {
          "output_type": "execute_result",
          "data": {
            "text/plain": [
              "(714, 12)"
            ]
          },
          "metadata": {
            "tags": []
          },
          "execution_count": 16
        }
      ]
    },
    {
      "cell_type": "code",
      "metadata": {
        "colab": {
          "base_uri": "https://localhost:8080/",
          "height": 202
        },
        "id": "8gRvFL4FqxLT",
        "outputId": "e6f6b0c9-82e5-4245-8996-d18051940301"
      },
      "source": [
        "titanic.head()"
      ],
      "execution_count": 17,
      "outputs": [
        {
          "output_type": "execute_result",
          "data": {
            "text/html": [
              "<div>\n",
              "<style scoped>\n",
              "    .dataframe tbody tr th:only-of-type {\n",
              "        vertical-align: middle;\n",
              "    }\n",
              "\n",
              "    .dataframe tbody tr th {\n",
              "        vertical-align: top;\n",
              "    }\n",
              "\n",
              "    .dataframe thead th {\n",
              "        text-align: right;\n",
              "    }\n",
              "</style>\n",
              "<table border=\"1\" class=\"dataframe\">\n",
              "  <thead>\n",
              "    <tr style=\"text-align: right;\">\n",
              "      <th></th>\n",
              "      <th>PassengerId</th>\n",
              "      <th>Survived</th>\n",
              "      <th>Pclass</th>\n",
              "      <th>Name</th>\n",
              "      <th>Sex</th>\n",
              "      <th>Age</th>\n",
              "      <th>SibSp</th>\n",
              "      <th>Parch</th>\n",
              "      <th>Ticket</th>\n",
              "      <th>Fare</th>\n",
              "      <th>Cabin</th>\n",
              "      <th>Embarked</th>\n",
              "    </tr>\n",
              "  </thead>\n",
              "  <tbody>\n",
              "    <tr>\n",
              "      <th>0</th>\n",
              "      <td>1</td>\n",
              "      <td>0</td>\n",
              "      <td>3</td>\n",
              "      <td>Braund, Mr. Owen Harris</td>\n",
              "      <td>male</td>\n",
              "      <td>22.0</td>\n",
              "      <td>1</td>\n",
              "      <td>0</td>\n",
              "      <td>A/5 21171</td>\n",
              "      <td>7.2500</td>\n",
              "      <td>NaN</td>\n",
              "      <td>S</td>\n",
              "    </tr>\n",
              "    <tr>\n",
              "      <th>1</th>\n",
              "      <td>2</td>\n",
              "      <td>1</td>\n",
              "      <td>1</td>\n",
              "      <td>Cumings, Mrs. John Bradley (Florence Briggs Th...</td>\n",
              "      <td>female</td>\n",
              "      <td>38.0</td>\n",
              "      <td>1</td>\n",
              "      <td>0</td>\n",
              "      <td>PC 17599</td>\n",
              "      <td>71.2833</td>\n",
              "      <td>C85</td>\n",
              "      <td>C</td>\n",
              "    </tr>\n",
              "    <tr>\n",
              "      <th>2</th>\n",
              "      <td>3</td>\n",
              "      <td>1</td>\n",
              "      <td>3</td>\n",
              "      <td>Heikkinen, Miss. Laina</td>\n",
              "      <td>female</td>\n",
              "      <td>26.0</td>\n",
              "      <td>0</td>\n",
              "      <td>0</td>\n",
              "      <td>STON/O2. 3101282</td>\n",
              "      <td>7.9250</td>\n",
              "      <td>NaN</td>\n",
              "      <td>S</td>\n",
              "    </tr>\n",
              "    <tr>\n",
              "      <th>3</th>\n",
              "      <td>4</td>\n",
              "      <td>1</td>\n",
              "      <td>1</td>\n",
              "      <td>Futrelle, Mrs. Jacques Heath (Lily May Peel)</td>\n",
              "      <td>female</td>\n",
              "      <td>35.0</td>\n",
              "      <td>1</td>\n",
              "      <td>0</td>\n",
              "      <td>113803</td>\n",
              "      <td>53.1000</td>\n",
              "      <td>C123</td>\n",
              "      <td>S</td>\n",
              "    </tr>\n",
              "    <tr>\n",
              "      <th>4</th>\n",
              "      <td>5</td>\n",
              "      <td>0</td>\n",
              "      <td>3</td>\n",
              "      <td>Allen, Mr. William Henry</td>\n",
              "      <td>male</td>\n",
              "      <td>35.0</td>\n",
              "      <td>0</td>\n",
              "      <td>0</td>\n",
              "      <td>373450</td>\n",
              "      <td>8.0500</td>\n",
              "      <td>NaN</td>\n",
              "      <td>S</td>\n",
              "    </tr>\n",
              "  </tbody>\n",
              "</table>\n",
              "</div>"
            ],
            "text/plain": [
              "   PassengerId  Survived  Pclass  ...     Fare Cabin  Embarked\n",
              "0            1         0       3  ...   7.2500   NaN         S\n",
              "1            2         1       1  ...  71.2833   C85         C\n",
              "2            3         1       3  ...   7.9250   NaN         S\n",
              "3            4         1       1  ...  53.1000  C123         S\n",
              "4            5         0       3  ...   8.0500   NaN         S\n",
              "\n",
              "[5 rows x 12 columns]"
            ]
          },
          "metadata": {
            "tags": []
          },
          "execution_count": 17
        }
      ]
    },
    {
      "cell_type": "code",
      "metadata": {
        "id": "_6-fp_Wewoln"
      },
      "source": [
        "titanic[\"gender\"] = titanic.Sex.map({'male':0, 'female':1})\n",
        "#per sosotituire il genere in un valore numerico"
      ],
      "execution_count": 18,
      "outputs": []
    },
    {
      "cell_type": "code",
      "metadata": {
        "id": "aZdOiy0rxgVt"
      },
      "source": [
        "titanic_short = titanic[[\"Pclass\", \"gender\", \"Age\"]].dropna()"
      ],
      "execution_count": 19,
      "outputs": []
    },
    {
      "cell_type": "code",
      "metadata": {
        "colab": {
          "base_uri": "https://localhost:8080/"
        },
        "id": "RIwTkuY9x9lj",
        "outputId": "f52e5950-275c-48b9-e3c9-0cd9e68de2c7"
      },
      "source": [
        "titanic_short.isna().sum()"
      ],
      "execution_count": 20,
      "outputs": [
        {
          "output_type": "execute_result",
          "data": {
            "text/plain": [
              "Pclass    0\n",
              "gender    0\n",
              "Age       0\n",
              "dtype: int64"
            ]
          },
          "metadata": {
            "tags": []
          },
          "execution_count": 20
        }
      ]
    },
    {
      "cell_type": "code",
      "metadata": {
        "colab": {
          "base_uri": "https://localhost:8080/"
        },
        "id": "mQWscSMeyFwk",
        "outputId": "0be9929a-6e00-438c-d9e3-c13b76c886d8"
      },
      "source": [
        "titanic_short.values"
      ],
      "execution_count": 21,
      "outputs": [
        {
          "output_type": "execute_result",
          "data": {
            "text/plain": [
              "array([[ 3.,  0., 22.],\n",
              "       [ 1.,  1., 38.],\n",
              "       [ 3.,  1., 26.],\n",
              "       ...,\n",
              "       [ 1.,  1., 19.],\n",
              "       [ 1.,  0., 26.],\n",
              "       [ 3.,  0., 32.]])"
            ]
          },
          "metadata": {
            "tags": []
          },
          "execution_count": 21
        }
      ]
    },
    {
      "cell_type": "markdown",
      "metadata": {
        "id": "otopsuPl69I3"
      },
      "source": [
        "###  TEST THE PURITY OF VARIOUS SPLITS"
      ]
    },
    {
      "cell_type": "markdown",
      "metadata": {
        "id": "ns7wwncu8MOq"
      },
      "source": [
        "## FIRST SPLIT"
      ]
    },
    {
      "cell_type": "markdown",
      "metadata": {
        "id": "miC_5ndpylqO"
      },
      "source": [
        "# Split by gender"
      ]
    },
    {
      "cell_type": "code",
      "metadata": {
        "colab": {
          "base_uri": "https://localhost:8080/"
        },
        "id": "Hq9NXvVhyk2a",
        "outputId": "6f3991b5-4ed7-4048-efca-75d1f9d02aad"
      },
      "source": [
        "print (\"Survived fraction\\n M     F \\n {0:.2f} {1:.2f}\".format   #\\n per andare a capo; 2 rappresenta le cifre decimali, f un floating point number\n",
        "    (((titanic_short.gender.values == 0) & (titanic.Survived.values == 1)).sum() * 1.0 /   #& (AND) sets each bit to 1 if both bits are 1\n",
        "       (titanic_short.gender.values == 0).sum(),                                           \n",
        "     ((titanic_short.gender.values == 1) & (titanic.Survived.values == 1)).sum() * 1.0 / \n",
        "       (titanic_short.gender.values == 1).sum()))"
      ],
      "execution_count": 22,
      "outputs": [
        {
          "output_type": "stream",
          "text": [
            "Survived fraction\n",
            " M     F \n",
            " 0.21 0.75\n"
          ],
          "name": "stdout"
        }
      ]
    },
    {
      "cell_type": "code",
      "metadata": {
        "colab": {
          "base_uri": "https://localhost:8080/"
        },
        "id": "lnwcUNwy1LHl",
        "outputId": "83121c19-ae2c-4205-8dea-cf2930fdb5a1"
      },
      "source": [
        "print (\"Died fraction\\n M     F \\n {0:.2f} {1:.2f}\".format   \n",
        "    (((titanic_short.gender.values == 0) & (titanic.Survived.values == 0)).sum() * 1.0 /   \n",
        "       (titanic_short.gender.values == 0).sum(),                                           \n",
        "     ((titanic_short.gender.values == 1) & (titanic.Survived.values == 0)).sum() * 1.0 / \n",
        "       (titanic_short.gender.values == 1).sum())) "
      ],
      "execution_count": 23,
      "outputs": [
        {
          "output_type": "stream",
          "text": [
            "Died fraction\n",
            " M     F \n",
            " 0.79 0.25\n"
          ],
          "name": "stdout"
        }
      ]
    },
    {
      "cell_type": "markdown",
      "metadata": {
        "id": "uUJmvuyS1fTn"
      },
      "source": [
        "# Split by age (at 6.5)"
      ]
    },
    {
      "cell_type": "code",
      "metadata": {
        "colab": {
          "base_uri": "https://localhost:8080/"
        },
        "id": "xS5Ir_Eq1iEs",
        "outputId": "e1e6f38d-0b5b-4d3b-bb08-e86bd660fe9a"
      },
      "source": [
        "print (\"Survived fraction \\n >6.5 <6.5 \\n {0:.2f} {1:.2f}\".format\n",
        "     (((titanic_short.Age.values >6.5) & (titanic.Survived.values == 1)).sum() * 1.0 /\n",
        "        (titanic_short.Age.values >6.5).sum(),\n",
        "      ((titanic_short.Age.values <6.5) & (titanic.Survived.values == 1)).sum() * 1.0 /\n",
        "        (titanic_short.Age.values <6.5).sum()))"
      ],
      "execution_count": 24,
      "outputs": [
        {
          "output_type": "stream",
          "text": [
            "Survived fraction \n",
            " >6.5 <6.5 \n",
            " 0.39 0.70\n"
          ],
          "name": "stdout"
        }
      ]
    },
    {
      "cell_type": "code",
      "metadata": {
        "colab": {
          "base_uri": "https://localhost:8080/"
        },
        "id": "MhDEYTBw2vJt",
        "outputId": "64d90065-e45f-437d-92d0-98b464032fb8"
      },
      "source": [
        "print (\"Died fraction \\n >6.5 <6.5 \\n {0:.2f} {1:.2f}\".format\n",
        "     (((titanic_short.Age.values >6.5) & (titanic.Survived.values == 0)).sum() * 1.0 /\n",
        "        (titanic_short.Age.values >6.5).sum(),\n",
        "      ((titanic_short.Age.values <6.5) & (titanic.Survived.values == 0)).sum() * 1.0 /\n",
        "        (titanic_short.Age.values <6.5).sum()))"
      ],
      "execution_count": 25,
      "outputs": [
        {
          "output_type": "stream",
          "text": [
            "Died fraction \n",
            " >6.5 <6.5 \n",
            " 0.61 0.30\n"
          ],
          "name": "stdout"
        }
      ]
    },
    {
      "cell_type": "markdown",
      "metadata": {
        "id": "5obpZD9A3AgP"
      },
      "source": [
        "# Split by travel class"
      ]
    },
    {
      "cell_type": "code",
      "metadata": {
        "colab": {
          "base_uri": "https://localhost:8080/"
        },
        "id": "eSg8Jy1F2_if",
        "outputId": "e48d71eb-4237-4518-8ab1-7c0713d62e5c"
      },
      "source": [
        "print (\"Survived fraction \\n 1st   2nd \\n {0:.2f} {1:.2f}\".format\n",
        "     (((titanic_short.Pclass.values == 1) & (titanic.Survived.values == 1)).sum() * 1.0 /\n",
        "        (titanic_short.Pclass.values == 1).sum(),\n",
        "      ((titanic_short.Pclass.values == 2) & (titanic.Survived.values == 1)).sum() * 1.0 /\n",
        "        (titanic_short.Pclass.values == 2).sum()))"
      ],
      "execution_count": 26,
      "outputs": [
        {
          "output_type": "stream",
          "text": [
            "Survived fraction \n",
            " 1st   2nd \n",
            " 0.66 0.48\n"
          ],
          "name": "stdout"
        }
      ]
    },
    {
      "cell_type": "code",
      "metadata": {
        "colab": {
          "base_uri": "https://localhost:8080/"
        },
        "id": "2Sf5vJmb1Vlt",
        "outputId": "99c16a08-7a37-4172-86c5-66db83714d11"
      },
      "source": [
        "print (\"Survived fraction \\n 2nd   3rd \\n {0:.2f} {1:.2f}\".format\n",
        "     (((titanic_short.Pclass.values == 2) & (titanic.Survived.values == 1)).sum() * 1.0 /\n",
        "        (titanic_short.Pclass.values == 2).sum(),\n",
        "      ((titanic_short.Pclass.values == 3) & (titanic.Survived.values == 1)).sum() * 1.0 /\n",
        "        (titanic_short.Pclass.values == 3).sum()))"
      ],
      "execution_count": 27,
      "outputs": [
        {
          "output_type": "stream",
          "text": [
            "Survived fraction \n",
            " 2nd   3rd \n",
            " 0.48 0.24\n"
          ],
          "name": "stdout"
        }
      ]
    },
    {
      "cell_type": "code",
      "metadata": {
        "colab": {
          "base_uri": "https://localhost:8080/"
        },
        "id": "mkvHhSYj3vSB",
        "outputId": "f4524689-b1a3-462e-83c5-5f1e10c26787"
      },
      "source": [
        "print (\"Survived fraction \\n 1st   3rd \\n {0:.2f} {1:.2f}\".format\n",
        "     (((titanic_short.Pclass.values == 1) & (titanic.Survived.values == 1)).sum() * 1.0 /\n",
        "        (titanic_short.Pclass.values == 1).sum(),\n",
        "      ((titanic_short.Pclass.values == 3) & (titanic.Survived.values == 1)).sum() * 1.0 /\n",
        "        (titanic_short.Pclass.values == 3).sum()))"
      ],
      "execution_count": 28,
      "outputs": [
        {
          "output_type": "stream",
          "text": [
            "Survived fraction \n",
            " 1st   3rd \n",
            " 0.66 0.24\n"
          ],
          "name": "stdout"
        }
      ]
    },
    {
      "cell_type": "code",
      "metadata": {
        "colab": {
          "base_uri": "https://localhost:8080/"
        },
        "id": "ifjDozrt3z2H",
        "outputId": "e4c3f12d-8264-48a6-8e36-338467af393a"
      },
      "source": [
        "print (\"Survived fraction \\n 1st  2nd or 3rd \\n {0:.2f} {1:.2f}\".format\n",
        "     (((titanic_short.Pclass.values == 1) & (titanic.Survived.values == 1)).sum() * 1.0 /\n",
        "        (titanic_short.Pclass.values == 1).sum(),\n",
        "      (((titanic_short.Pclass.values == 3) | (titanic_short.Pclass.values == 2)) & (titanic.Survived.values == 1)).sum() * 1.0 /\n",
        "        ((titanic_short.Pclass.values == 3) | (titanic_short.Pclass.values == 2)).sum()))                                        \n",
        "#| (OR) sets each bit to 1 if one of two bits is 1"
      ],
      "execution_count": 29,
      "outputs": [
        {
          "output_type": "stream",
          "text": [
            "Survived fraction \n",
            " 1st  2nd or 3rd \n",
            " 0.66 0.32\n"
          ],
          "name": "stdout"
        }
      ]
    },
    {
      "cell_type": "markdown",
      "metadata": {
        "id": "ff0SKZ3C6z23"
      },
      "source": [
        "The purest split is by gender, so that it is chosen as the first node "
      ]
    },
    {
      "cell_type": "markdown",
      "metadata": {
        "id": "oAzRh9LO8FkP"
      },
      "source": [
        "# SECOND SPLIT"
      ]
    },
    {
      "cell_type": "markdown",
      "metadata": {
        "id": "juJxGMLp8jkj"
      },
      "source": [
        "Split by age"
      ]
    },
    {
      "cell_type": "code",
      "metadata": {
        "colab": {
          "base_uri": "https://localhost:8080/"
        },
        "id": "j9Xzn9Nn8Wgx",
        "outputId": "d0589ef3-45c8-4be9-9b71-81afe59de00f"
      },
      "source": [
        "print (\"Survived fraction of females: \\n <6.5  >=6.5   \\n {0:.2f}  {1:.2f}\".format   \n",
        "    (((titanic_short.gender.values == 1) & (titanic.Survived.values == 1) & (titanic.Age.values < 6.5)).sum() * 1.0 /   \n",
        "       ((titanic_short.gender.values == 1)& (titanic.Age.values < 6.5)).sum(),                                           \n",
        "     ((titanic_short.gender.values == 1) & (titanic.Survived.values == 1) & (titanic.Age.values >= 6.5)).sum() * 1.0 /   \n",
        "       ((titanic_short.gender.values == 1)& (titanic.Age.values >= 6.5)).sum())) "
      ],
      "execution_count": 30,
      "outputs": [
        {
          "output_type": "stream",
          "text": [
            "Survived fraction of females: \n",
            " <6.5  >=6.5   \n",
            " 0.74  0.76\n"
          ],
          "name": "stdout"
        }
      ]
    },
    {
      "cell_type": "code",
      "metadata": {
        "colab": {
          "base_uri": "https://localhost:8080/"
        },
        "id": "abXHZnPv-Owm",
        "outputId": "1c8b0260-257f-4648-fb31-fd687572a8d2"
      },
      "source": [
        "print (\"Survived fraction of males: \\n <6.5  >=6.5   \\n {0:.2f}  {1:.2f}\".format   \n",
        "    (((titanic_short.gender.values == 0) & (titanic.Survived.values == 1) & (titanic.Age.values < 6.5)).sum() * 1.0 /   \n",
        "       ((titanic_short.gender.values == 0)& (titanic.Age.values < 6.5)).sum(),                                           \n",
        "     ((titanic_short.gender.values == 0) & (titanic.Survived.values == 1) & (titanic.Age.values >= 6.5)).sum() * 1.0 /   \n",
        "       ((titanic_short.gender.values == 0)& (titanic.Age.values >= 6.5)).sum())) "
      ],
      "execution_count": 31,
      "outputs": [
        {
          "output_type": "stream",
          "text": [
            "Survived fraction of males: \n",
            " <6.5  >=6.5   \n",
            " 0.67  0.18\n"
          ],
          "name": "stdout"
        }
      ]
    },
    {
      "cell_type": "markdown",
      "metadata": {
        "id": "7vzD9LDN-VhX"
      },
      "source": [
        "Split by class"
      ]
    },
    {
      "cell_type": "code",
      "metadata": {
        "colab": {
          "base_uri": "https://localhost:8080/"
        },
        "id": "K60ETZRv-XjE",
        "outputId": "ae39bc5f-6fec-4210-c80d-ea2ef952175b"
      },
      "source": [
        "print (\"Survived fraction of females: \\n 1st   2nd or 3rd   \\n {0:.2f}  {1:.2f}\".format   \n",
        "    (((titanic_short.gender.values == 1) & (titanic.Survived.values == 1) & (titanic.Pclass.values == 1)).sum() * 1.0 /   \n",
        "       ((titanic_short.gender.values == 1)& (titanic.Pclass.values == 1)).sum(),                                           \n",
        "     ((titanic_short.gender.values == 1) & (titanic.Survived.values == 1) & ((titanic.Pclass.values == 2) | (titanic.Pclass.values == 3))).sum() * 1.0 /   \n",
        "       ((titanic_short.gender.values == 1)& ((titanic.Pclass.values == 2) | (titanic.Pclass.values == 3) )).sum())) "
      ],
      "execution_count": 32,
      "outputs": [
        {
          "output_type": "stream",
          "text": [
            "Survived fraction of females: \n",
            " 1st   2nd or 3rd   \n",
            " 0.96  0.65\n"
          ],
          "name": "stdout"
        }
      ]
    },
    {
      "cell_type": "code",
      "metadata": {
        "colab": {
          "base_uri": "https://localhost:8080/"
        },
        "id": "NrwXsXRx_wNb",
        "outputId": "62d2dcd2-3e49-4a2d-cfb7-9a2340912a53"
      },
      "source": [
        "print (\"Survived fraction of males: \\n 1st   2nd or 3rd   \\n {0:.2f}  {1:.2f}\".format   \n",
        "    (((titanic_short.gender.values == 0) & (titanic.Survived.values == 1) & (titanic.Pclass.values == 1)).sum() * 1.0 /   \n",
        "       ((titanic_short.gender.values == 0)& (titanic.Pclass.values == 1)).sum(),                                           \n",
        "     ((titanic_short.gender.values == 0) & (titanic.Survived.values == 1) & ((titanic.Pclass.values == 2) | (titanic.Pclass.values == 3))).sum() * 1.0 /   \n",
        "       ((titanic_short.gender.values == 0)& ((titanic.Pclass.values == 2) | (titanic.Pclass.values == 3) )).sum())) "
      ],
      "execution_count": 33,
      "outputs": [
        {
          "output_type": "stream",
          "text": [
            "Survived fraction of males: \n",
            " 1st   2nd or 3rd   \n",
            " 0.40  0.15\n"
          ],
          "name": "stdout"
        }
      ]
    },
    {
      "cell_type": "markdown",
      "metadata": {
        "id": "mPPH1RRa_8f3"
      },
      "source": [
        "The purest split is \n",
        "- for males by age\n",
        "- for females by travel class"
      ]
    },
    {
      "cell_type": "markdown",
      "metadata": {
        "id": "RLfWGzQsAVoc"
      },
      "source": [
        "### TREE MODEL"
      ]
    },
    {
      "cell_type": "code",
      "metadata": {
        "colab": {
          "base_uri": "https://localhost:8080/"
        },
        "id": "_U2pQSgqALPz",
        "outputId": "2fc39d63-a96f-4c99-d3b3-70fa50fd2266"
      },
      "source": [
        "from sklearn import tree\n",
        "clf =  tree.DecisionTreeClassifier(max_depth=3, criterion=\"gini\",     \n",
        "                        random_state=222).fit(titanic_short.values, \n",
        "                                              titanic[\"Survived\"])\n",
        "#criterion è la funzione che misura la qualità dello split \n",
        "#\"gini\" for the imputity, \"entropy\" for the information gain             \n",
        "\n",
        "clf.score(titanic_short.values, titanic[\"Survived\"])"
      ],
      "execution_count": 34,
      "outputs": [
        {
          "output_type": "execute_result",
          "data": {
            "text/plain": [
              "0.8081232492997199"
            ]
          },
          "metadata": {
            "tags": []
          },
          "execution_count": 34
        }
      ]
    },
    {
      "cell_type": "code",
      "metadata": {
        "id": "ItIM6m7HBE2E"
      },
      "source": [
        "import graphviz \n",
        "dot_data = tree.export_graphviz(clf, feature_names=titanic_short.columns, \n",
        "                                out_file=None)  \n",
        "#This function generates a GraphViz representation of the decision tree\n",
        "#feature_names è una lista di stringhe \n",
        "graph = graphviz.Source(dot_data) "
      ],
      "execution_count": 35,
      "outputs": []
    },
    {
      "cell_type": "code",
      "metadata": {
        "colab": {
          "base_uri": "https://localhost:8080/",
          "height": 539
        },
        "id": "bYpzdM4cDmNq",
        "outputId": "80ec7aec-3cbc-49b5-dd20-99953cf2808d"
      },
      "source": [
        "graph"
      ],
      "execution_count": 36,
      "outputs": [
        {
          "output_type": "execute_result",
          "data": {
            "text/plain": [
              "<graphviz.files.Source at 0x7fd1002d7fd0>"
            ],
            "image/svg+xml": "<?xml version=\"1.0\" encoding=\"UTF-8\" standalone=\"no\"?>\n<!DOCTYPE svg PUBLIC \"-//W3C//DTD SVG 1.1//EN\"\n \"http://www.w3.org/Graphics/SVG/1.1/DTD/svg11.dtd\">\n<!-- Generated by graphviz version 2.40.1 (20161225.0304)\n -->\n<!-- Title: Tree Pages: 1 -->\n<svg width=\"977pt\" height=\"373pt\"\n viewBox=\"0.00 0.00 976.50 373.00\" xmlns=\"http://www.w3.org/2000/svg\" xmlns:xlink=\"http://www.w3.org/1999/xlink\">\n<g id=\"graph0\" class=\"graph\" transform=\"scale(1 1) rotate(0) translate(4 369)\">\n<title>Tree</title>\n<polygon fill=\"#ffffff\" stroke=\"transparent\" points=\"-4,4 -4,-369 972.5,-369 972.5,4 -4,4\"/>\n<!-- 0 -->\n<g id=\"node1\" class=\"node\">\n<title>0</title>\n<polygon fill=\"none\" stroke=\"#000000\" points=\"539.5,-365 414.5,-365 414.5,-297 539.5,-297 539.5,-365\"/>\n<text text-anchor=\"middle\" x=\"477\" y=\"-349.8\" font-family=\"Times,serif\" font-size=\"14.00\" fill=\"#000000\">gender &lt;= 0.5</text>\n<text text-anchor=\"middle\" x=\"477\" y=\"-334.8\" font-family=\"Times,serif\" font-size=\"14.00\" fill=\"#000000\">gini = 0.482</text>\n<text text-anchor=\"middle\" x=\"477\" y=\"-319.8\" font-family=\"Times,serif\" font-size=\"14.00\" fill=\"#000000\">samples = 714</text>\n<text text-anchor=\"middle\" x=\"477\" y=\"-304.8\" font-family=\"Times,serif\" font-size=\"14.00\" fill=\"#000000\">value = [424, 290]</text>\n</g>\n<!-- 1 -->\n<g id=\"node2\" class=\"node\">\n<title>1</title>\n<polygon fill=\"none\" stroke=\"#000000\" points=\"411.5,-261 294.5,-261 294.5,-193 411.5,-193 411.5,-261\"/>\n<text text-anchor=\"middle\" x=\"353\" y=\"-245.8\" font-family=\"Times,serif\" font-size=\"14.00\" fill=\"#000000\">Age &lt;= 6.5</text>\n<text text-anchor=\"middle\" x=\"353\" y=\"-230.8\" font-family=\"Times,serif\" font-size=\"14.00\" fill=\"#000000\">gini = 0.326</text>\n<text text-anchor=\"middle\" x=\"353\" y=\"-215.8\" font-family=\"Times,serif\" font-size=\"14.00\" fill=\"#000000\">samples = 453</text>\n<text text-anchor=\"middle\" x=\"353\" y=\"-200.8\" font-family=\"Times,serif\" font-size=\"14.00\" fill=\"#000000\">value = [360, 93]</text>\n</g>\n<!-- 0&#45;&gt;1 -->\n<g id=\"edge1\" class=\"edge\">\n<title>0&#45;&gt;1</title>\n<path fill=\"none\" stroke=\"#000000\" d=\"M436.3978,-296.9465C425.2644,-287.6088 413.0817,-277.3911 401.5511,-267.7203\"/>\n<polygon fill=\"#000000\" stroke=\"#000000\" points=\"403.6046,-264.8745 393.6935,-261.13 399.1062,-270.2378 403.6046,-264.8745\"/>\n<text text-anchor=\"middle\" x=\"395.8781\" y=\"-282.3344\" font-family=\"Times,serif\" font-size=\"14.00\" fill=\"#000000\">True</text>\n</g>\n<!-- 8 -->\n<g id=\"node9\" class=\"node\">\n<title>8</title>\n<polygon fill=\"none\" stroke=\"#000000\" points=\"663.5,-261 546.5,-261 546.5,-193 663.5,-193 663.5,-261\"/>\n<text text-anchor=\"middle\" x=\"605\" y=\"-245.8\" font-family=\"Times,serif\" font-size=\"14.00\" fill=\"#000000\">Pclass &lt;= 2.5</text>\n<text text-anchor=\"middle\" x=\"605\" y=\"-230.8\" font-family=\"Times,serif\" font-size=\"14.00\" fill=\"#000000\">gini = 0.37</text>\n<text text-anchor=\"middle\" x=\"605\" y=\"-215.8\" font-family=\"Times,serif\" font-size=\"14.00\" fill=\"#000000\">samples = 261</text>\n<text text-anchor=\"middle\" x=\"605\" y=\"-200.8\" font-family=\"Times,serif\" font-size=\"14.00\" fill=\"#000000\">value = [64, 197]</text>\n</g>\n<!-- 0&#45;&gt;8 -->\n<g id=\"edge8\" class=\"edge\">\n<title>0&#45;&gt;8</title>\n<path fill=\"none\" stroke=\"#000000\" d=\"M518.912,-296.9465C530.515,-287.519 543.2221,-277.1946 555.2259,-267.4415\"/>\n<polygon fill=\"#000000\" stroke=\"#000000\" points=\"557.4398,-270.1524 562.9939,-261.13 553.0256,-264.7196 557.4398,-270.1524\"/>\n<text text-anchor=\"middle\" x=\"560.4214\" y=\"-282.2973\" font-family=\"Times,serif\" font-size=\"14.00\" fill=\"#000000\">False</text>\n</g>\n<!-- 2 -->\n<g id=\"node3\" class=\"node\">\n<title>2</title>\n<polygon fill=\"none\" stroke=\"#000000\" points=\"219,-157 117,-157 117,-89 219,-89 219,-157\"/>\n<text text-anchor=\"middle\" x=\"168\" y=\"-141.8\" font-family=\"Times,serif\" font-size=\"14.00\" fill=\"#000000\">Pclass &lt;= 2.5</text>\n<text text-anchor=\"middle\" x=\"168\" y=\"-126.8\" font-family=\"Times,serif\" font-size=\"14.00\" fill=\"#000000\">gini = 0.444</text>\n<text text-anchor=\"middle\" x=\"168\" y=\"-111.8\" font-family=\"Times,serif\" font-size=\"14.00\" fill=\"#000000\">samples = 24</text>\n<text text-anchor=\"middle\" x=\"168\" y=\"-96.8\" font-family=\"Times,serif\" font-size=\"14.00\" fill=\"#000000\">value = [8, 16]</text>\n</g>\n<!-- 1&#45;&gt;2 -->\n<g id=\"edge2\" class=\"edge\">\n<title>1&#45;&gt;2</title>\n<path fill=\"none\" stroke=\"#000000\" d=\"M294.4648,-194.0938C273.3462,-182.2216 249.4846,-168.8076 228.224,-156.8557\"/>\n<polygon fill=\"#000000\" stroke=\"#000000\" points=\"229.7193,-153.6812 219.2871,-151.8317 226.289,-159.7831 229.7193,-153.6812\"/>\n</g>\n<!-- 5 -->\n<g id=\"node6\" class=\"node\">\n<title>5</title>\n<polygon fill=\"none\" stroke=\"#000000\" points=\"411.5,-157 294.5,-157 294.5,-89 411.5,-89 411.5,-157\"/>\n<text text-anchor=\"middle\" x=\"353\" y=\"-141.8\" font-family=\"Times,serif\" font-size=\"14.00\" fill=\"#000000\">Pclass &lt;= 1.5</text>\n<text text-anchor=\"middle\" x=\"353\" y=\"-126.8\" font-family=\"Times,serif\" font-size=\"14.00\" fill=\"#000000\">gini = 0.295</text>\n<text text-anchor=\"middle\" x=\"353\" y=\"-111.8\" font-family=\"Times,serif\" font-size=\"14.00\" fill=\"#000000\">samples = 429</text>\n<text text-anchor=\"middle\" x=\"353\" y=\"-96.8\" font-family=\"Times,serif\" font-size=\"14.00\" fill=\"#000000\">value = [352, 77]</text>\n</g>\n<!-- 1&#45;&gt;5 -->\n<g id=\"edge5\" class=\"edge\">\n<title>1&#45;&gt;5</title>\n<path fill=\"none\" stroke=\"#000000\" d=\"M353,-192.9465C353,-184.776 353,-175.9318 353,-167.3697\"/>\n<polygon fill=\"#000000\" stroke=\"#000000\" points=\"356.5001,-167.13 353,-157.13 349.5001,-167.13 356.5001,-167.13\"/>\n</g>\n<!-- 3 -->\n<g id=\"node4\" class=\"node\">\n<title>3</title>\n<polygon fill=\"none\" stroke=\"#000000\" points=\"102,-53 0,-53 0,0 102,0 102,-53\"/>\n<text text-anchor=\"middle\" x=\"51\" y=\"-37.8\" font-family=\"Times,serif\" font-size=\"14.00\" fill=\"#000000\">gini = 0.0</text>\n<text text-anchor=\"middle\" x=\"51\" y=\"-22.8\" font-family=\"Times,serif\" font-size=\"14.00\" fill=\"#000000\">samples = 10</text>\n<text text-anchor=\"middle\" x=\"51\" y=\"-7.8\" font-family=\"Times,serif\" font-size=\"14.00\" fill=\"#000000\">value = [0, 10]</text>\n</g>\n<!-- 2&#45;&gt;3 -->\n<g id=\"edge3\" class=\"edge\">\n<title>2&#45;&gt;3</title>\n<path fill=\"none\" stroke=\"#000000\" d=\"M126.7502,-88.9777C115.2039,-79.4545 102.6729,-69.1191 91.189,-59.6473\"/>\n<polygon fill=\"#000000\" stroke=\"#000000\" points=\"93.3724,-56.9113 83.4308,-53.2485 88.9184,-62.3115 93.3724,-56.9113\"/>\n</g>\n<!-- 4 -->\n<g id=\"node5\" class=\"node\">\n<title>4</title>\n<polygon fill=\"none\" stroke=\"#000000\" points=\"215.5,-53 120.5,-53 120.5,0 215.5,0 215.5,-53\"/>\n<text text-anchor=\"middle\" x=\"168\" y=\"-37.8\" font-family=\"Times,serif\" font-size=\"14.00\" fill=\"#000000\">gini = 0.49</text>\n<text text-anchor=\"middle\" x=\"168\" y=\"-22.8\" font-family=\"Times,serif\" font-size=\"14.00\" fill=\"#000000\">samples = 14</text>\n<text text-anchor=\"middle\" x=\"168\" y=\"-7.8\" font-family=\"Times,serif\" font-size=\"14.00\" fill=\"#000000\">value = [8, 6]</text>\n</g>\n<!-- 2&#45;&gt;4 -->\n<g id=\"edge4\" class=\"edge\">\n<title>2&#45;&gt;4</title>\n<path fill=\"none\" stroke=\"#000000\" d=\"M168,-88.9777C168,-80.7364 168,-71.887 168,-63.5153\"/>\n<polygon fill=\"#000000\" stroke=\"#000000\" points=\"171.5001,-63.2484 168,-53.2485 164.5001,-63.2485 171.5001,-63.2484\"/>\n</g>\n<!-- 6 -->\n<g id=\"node7\" class=\"node\">\n<title>6</title>\n<polygon fill=\"none\" stroke=\"#000000\" points=\"344,-53 234,-53 234,0 344,0 344,-53\"/>\n<text text-anchor=\"middle\" x=\"289\" y=\"-37.8\" font-family=\"Times,serif\" font-size=\"14.00\" fill=\"#000000\">gini = 0.473</text>\n<text text-anchor=\"middle\" x=\"289\" y=\"-22.8\" font-family=\"Times,serif\" font-size=\"14.00\" fill=\"#000000\">samples = 99</text>\n<text text-anchor=\"middle\" x=\"289\" y=\"-7.8\" font-family=\"Times,serif\" font-size=\"14.00\" fill=\"#000000\">value = [61, 38]</text>\n</g>\n<!-- 5&#45;&gt;6 -->\n<g id=\"edge6\" class=\"edge\">\n<title>5&#45;&gt;6</title>\n<path fill=\"none\" stroke=\"#000000\" d=\"M330.436,-88.9777C324.6059,-80.187 318.3169,-70.7044 312.443,-61.8477\"/>\n<polygon fill=\"#000000\" stroke=\"#000000\" points=\"315.1838,-59.6478 306.7399,-53.2485 309.3502,-63.5167 315.1838,-59.6478\"/>\n</g>\n<!-- 7 -->\n<g id=\"node8\" class=\"node\">\n<title>7</title>\n<polygon fill=\"none\" stroke=\"#000000\" points=\"479.5,-53 362.5,-53 362.5,0 479.5,0 479.5,-53\"/>\n<text text-anchor=\"middle\" x=\"421\" y=\"-37.8\" font-family=\"Times,serif\" font-size=\"14.00\" fill=\"#000000\">gini = 0.208</text>\n<text text-anchor=\"middle\" x=\"421\" y=\"-22.8\" font-family=\"Times,serif\" font-size=\"14.00\" fill=\"#000000\">samples = 330</text>\n<text text-anchor=\"middle\" x=\"421\" y=\"-7.8\" font-family=\"Times,serif\" font-size=\"14.00\" fill=\"#000000\">value = [291, 39]</text>\n</g>\n<!-- 5&#45;&gt;7 -->\n<g id=\"edge7\" class=\"edge\">\n<title>5&#45;&gt;7</title>\n<path fill=\"none\" stroke=\"#000000\" d=\"M376.9743,-88.9777C383.2333,-80.0954 389.9901,-70.5067 396.2867,-61.5711\"/>\n<polygon fill=\"#000000\" stroke=\"#000000\" points=\"399.2521,-63.4389 402.1513,-53.2485 393.5301,-59.4068 399.2521,-63.4389\"/>\n</g>\n<!-- 9 -->\n<g id=\"node10\" class=\"node\">\n<title>9</title>\n<polygon fill=\"none\" stroke=\"#000000\" points=\"660,-157 550,-157 550,-89 660,-89 660,-157\"/>\n<text text-anchor=\"middle\" x=\"605\" y=\"-141.8\" font-family=\"Times,serif\" font-size=\"14.00\" fill=\"#000000\">Age &lt;= 2.5</text>\n<text text-anchor=\"middle\" x=\"605\" y=\"-126.8\" font-family=\"Times,serif\" font-size=\"14.00\" fill=\"#000000\">gini = 0.107</text>\n<text text-anchor=\"middle\" x=\"605\" y=\"-111.8\" font-family=\"Times,serif\" font-size=\"14.00\" fill=\"#000000\">samples = 159</text>\n<text text-anchor=\"middle\" x=\"605\" y=\"-96.8\" font-family=\"Times,serif\" font-size=\"14.00\" fill=\"#000000\">value = [9, 150]</text>\n</g>\n<!-- 8&#45;&gt;9 -->\n<g id=\"edge9\" class=\"edge\">\n<title>8&#45;&gt;9</title>\n<path fill=\"none\" stroke=\"#000000\" d=\"M605,-192.9465C605,-184.776 605,-175.9318 605,-167.3697\"/>\n<polygon fill=\"#000000\" stroke=\"#000000\" points=\"608.5001,-167.13 605,-157.13 601.5001,-167.13 608.5001,-167.13\"/>\n</g>\n<!-- 12 -->\n<g id=\"node13\" class=\"node\">\n<title>12</title>\n<polygon fill=\"none\" stroke=\"#000000\" points=\"849,-157 739,-157 739,-89 849,-89 849,-157\"/>\n<text text-anchor=\"middle\" x=\"794\" y=\"-141.8\" font-family=\"Times,serif\" font-size=\"14.00\" fill=\"#000000\">Age &lt;= 38.5</text>\n<text text-anchor=\"middle\" x=\"794\" y=\"-126.8\" font-family=\"Times,serif\" font-size=\"14.00\" fill=\"#000000\">gini = 0.497</text>\n<text text-anchor=\"middle\" x=\"794\" y=\"-111.8\" font-family=\"Times,serif\" font-size=\"14.00\" fill=\"#000000\">samples = 102</text>\n<text text-anchor=\"middle\" x=\"794\" y=\"-96.8\" font-family=\"Times,serif\" font-size=\"14.00\" fill=\"#000000\">value = [55, 47]</text>\n</g>\n<!-- 8&#45;&gt;12 -->\n<g id=\"edge12\" class=\"edge\">\n<title>8&#45;&gt;12</title>\n<path fill=\"none\" stroke=\"#000000\" d=\"M663.5064,-194.806C684.6596,-183.1661 708.6417,-169.9696 730.2245,-158.0934\"/>\n<polygon fill=\"#000000\" stroke=\"#000000\" points=\"731.9213,-161.1547 738.9951,-153.2672 728.5466,-155.0218 731.9213,-161.1547\"/>\n</g>\n<!-- 10 -->\n<g id=\"node11\" class=\"node\">\n<title>10</title>\n<polygon fill=\"none\" stroke=\"#000000\" points=\"592.5,-53 497.5,-53 497.5,0 592.5,0 592.5,-53\"/>\n<text text-anchor=\"middle\" x=\"545\" y=\"-37.8\" font-family=\"Times,serif\" font-size=\"14.00\" fill=\"#000000\">gini = 0.5</text>\n<text text-anchor=\"middle\" x=\"545\" y=\"-22.8\" font-family=\"Times,serif\" font-size=\"14.00\" fill=\"#000000\">samples = 2</text>\n<text text-anchor=\"middle\" x=\"545\" y=\"-7.8\" font-family=\"Times,serif\" font-size=\"14.00\" fill=\"#000000\">value = [1, 1]</text>\n</g>\n<!-- 9&#45;&gt;10 -->\n<g id=\"edge10\" class=\"edge\">\n<title>9&#45;&gt;10</title>\n<path fill=\"none\" stroke=\"#000000\" d=\"M583.8462,-88.9777C578.3805,-80.187 572.4846,-70.7044 566.9778,-61.8477\"/>\n<polygon fill=\"#000000\" stroke=\"#000000\" points=\"569.8837,-59.8927 561.6312,-53.2485 563.9391,-63.5889 569.8837,-59.8927\"/>\n</g>\n<!-- 11 -->\n<g id=\"node12\" class=\"node\">\n<title>11</title>\n<polygon fill=\"none\" stroke=\"#000000\" points=\"721,-53 611,-53 611,0 721,0 721,-53\"/>\n<text text-anchor=\"middle\" x=\"666\" y=\"-37.8\" font-family=\"Times,serif\" font-size=\"14.00\" fill=\"#000000\">gini = 0.097</text>\n<text text-anchor=\"middle\" x=\"666\" y=\"-22.8\" font-family=\"Times,serif\" font-size=\"14.00\" fill=\"#000000\">samples = 157</text>\n<text text-anchor=\"middle\" x=\"666\" y=\"-7.8\" font-family=\"Times,serif\" font-size=\"14.00\" fill=\"#000000\">value = [8, 149]</text>\n</g>\n<!-- 9&#45;&gt;11 -->\n<g id=\"edge11\" class=\"edge\">\n<title>9&#45;&gt;11</title>\n<path fill=\"none\" stroke=\"#000000\" d=\"M626.5063,-88.9777C632.0631,-80.187 638.0573,-70.7044 643.6559,-61.8477\"/>\n<polygon fill=\"#000000\" stroke=\"#000000\" points=\"646.7069,-63.5714 649.0916,-53.2485 640.7899,-59.8312 646.7069,-63.5714\"/>\n</g>\n<!-- 13 -->\n<g id=\"node14\" class=\"node\">\n<title>13</title>\n<polygon fill=\"none\" stroke=\"#000000\" points=\"849,-53 739,-53 739,0 849,0 849,-53\"/>\n<text text-anchor=\"middle\" x=\"794\" y=\"-37.8\" font-family=\"Times,serif\" font-size=\"14.00\" fill=\"#000000\">gini = 0.5</text>\n<text text-anchor=\"middle\" x=\"794\" y=\"-22.8\" font-family=\"Times,serif\" font-size=\"14.00\" fill=\"#000000\">samples = 90</text>\n<text text-anchor=\"middle\" x=\"794\" y=\"-7.8\" font-family=\"Times,serif\" font-size=\"14.00\" fill=\"#000000\">value = [44, 46]</text>\n</g>\n<!-- 12&#45;&gt;13 -->\n<g id=\"edge13\" class=\"edge\">\n<title>12&#45;&gt;13</title>\n<path fill=\"none\" stroke=\"#000000\" d=\"M794,-88.9777C794,-80.7364 794,-71.887 794,-63.5153\"/>\n<polygon fill=\"#000000\" stroke=\"#000000\" points=\"797.5001,-63.2484 794,-53.2485 790.5001,-63.2485 797.5001,-63.2484\"/>\n</g>\n<!-- 14 -->\n<g id=\"node15\" class=\"node\">\n<title>14</title>\n<polygon fill=\"none\" stroke=\"#000000\" points=\"968.5,-53 867.5,-53 867.5,0 968.5,0 968.5,-53\"/>\n<text text-anchor=\"middle\" x=\"918\" y=\"-37.8\" font-family=\"Times,serif\" font-size=\"14.00\" fill=\"#000000\">gini = 0.153</text>\n<text text-anchor=\"middle\" x=\"918\" y=\"-22.8\" font-family=\"Times,serif\" font-size=\"14.00\" fill=\"#000000\">samples = 12</text>\n<text text-anchor=\"middle\" x=\"918\" y=\"-7.8\" font-family=\"Times,serif\" font-size=\"14.00\" fill=\"#000000\">value = [11, 1]</text>\n</g>\n<!-- 12&#45;&gt;14 -->\n<g id=\"edge14\" class=\"edge\">\n<title>12&#45;&gt;14</title>\n<path fill=\"none\" stroke=\"#000000\" d=\"M837.7178,-88.9777C849.9549,-79.4545 863.2355,-69.1191 875.4066,-59.6473\"/>\n<polygon fill=\"#000000\" stroke=\"#000000\" points=\"877.8866,-62.1523 883.6289,-53.2485 873.5875,-56.628 877.8866,-62.1523\"/>\n</g>\n</g>\n</svg>\n"
          },
          "metadata": {
            "tags": []
          },
          "execution_count": 36
        }
      ]
    },
    {
      "cell_type": "code",
      "metadata": {
        "colab": {
          "base_uri": "https://localhost:8080/",
          "height": 35
        },
        "id": "uqgX704aEjCr",
        "outputId": "5468c0f5-8aa9-4d8c-dacc-19a04d423f19"
      },
      "source": [
        "graph.render(\"TitanicTree\")\n",
        "#Save the source to file and render with the Graphviz engine"
      ],
      "execution_count": 37,
      "outputs": [
        {
          "output_type": "execute_result",
          "data": {
            "application/vnd.google.colaboratory.intrinsic+json": {
              "type": "string"
            },
            "text/plain": [
              "'TitanicTree.pdf'"
            ]
          },
          "metadata": {
            "tags": []
          },
          "execution_count": 37
        }
      ]
    },
    {
      "cell_type": "markdown",
      "metadata": {
        "id": "sy8MvUdjGZhD"
      },
      "source": [
        "# ENSEMBLE METHOD"
      ]
    },
    {
      "cell_type": "markdown",
      "metadata": {
        "id": "ZA2HnsLoGvs0"
      },
      "source": [
        "#Random Forest"
      ]
    },
    {
      "cell_type": "code",
      "metadata": {
        "colab": {
          "base_uri": "https://localhost:8080/"
        },
        "id": "mGeCU6JvE-1H",
        "outputId": "788a7f3f-d1d2-4904-a056-7190e9aa8028"
      },
      "source": [
        "from sklearn import ensemble\n",
        "rf =  ensemble.RandomForestClassifier(max_depth=3, criterion=\"gini\", \n",
        "                                       random_state=222).fit(titanic_short.values, \n",
        "                                                             titanic[\"Survived\"])\n",
        "print (\"score %.2f\"%rf.score(titanic_short.values, titanic[\"Survived\"]))"
      ],
      "execution_count": 38,
      "outputs": [
        {
          "output_type": "stream",
          "text": [
            "score 0.82\n"
          ],
          "name": "stdout"
        }
      ]
    },
    {
      "cell_type": "markdown",
      "metadata": {
        "id": "Flx24reiHg-s"
      },
      "source": [
        "Cambio max_depth"
      ]
    },
    {
      "cell_type": "code",
      "metadata": {
        "colab": {
          "base_uri": "https://localhost:8080/"
        },
        "id": "VG_8zvxTG9fO",
        "outputId": "735fe295-9bcc-4b67-f7c6-0d5b335ecfba"
      },
      "source": [
        "from sklearn import ensemble\n",
        "rf =  ensemble.RandomForestClassifier(max_depth=4, criterion=\"gini\", \n",
        "                                       random_state=222).fit(titanic_short.values, \n",
        "                                                             titanic[\"Survived\"])\n",
        "print (\"score %.2f\"%rf.score(titanic_short.values, titanic[\"Survived\"]))"
      ],
      "execution_count": 39,
      "outputs": [
        {
          "output_type": "stream",
          "text": [
            "score 0.82\n"
          ],
          "name": "stdout"
        }
      ]
    },
    {
      "cell_type": "code",
      "metadata": {
        "colab": {
          "base_uri": "https://localhost:8080/"
        },
        "id": "hp7LK_JeHm3H",
        "outputId": "46537c25-d12c-4184-a690-826aa4735fe6"
      },
      "source": [
        "from sklearn import ensemble\n",
        "rf =  ensemble.RandomForestClassifier(max_depth=None, criterion=\"gini\", \n",
        "                                       random_state=222).fit(titanic_short.values, \n",
        "                                                             titanic[\"Survived\"])\n",
        "#If max_depth = None, then nodes are expanded until all leaves are pure or until \n",
        "#all leaves contain less than min_samples_split samples\n",
        "print (\"score %.2f\"%rf.score(titanic_short.values, titanic[\"Survived\"]))"
      ],
      "execution_count": 40,
      "outputs": [
        {
          "output_type": "stream",
          "text": [
            "score 0.90\n"
          ],
          "name": "stdout"
        }
      ]
    },
    {
      "cell_type": "markdown",
      "metadata": {
        "id": "O93AibcqIP9z"
      },
      "source": [
        "#Gradient Boosted Trees"
      ]
    },
    {
      "cell_type": "code",
      "metadata": {
        "colab": {
          "base_uri": "https://localhost:8080/"
        },
        "id": "-wJ3b0WuITBn",
        "outputId": "cda637a5-a6c4-4cfd-e787-02cec3635c20"
      },
      "source": [
        "gbt = ensemble.GradientBoostingClassifier(max_depth=4, \n",
        "                                           random_state=222).fit(titanic_short.values, \n",
        "                                                                 titanic[\"Survived\"])\n",
        "print (\"score %.2f\"%gbt.score(titanic_short.values, titanic[\"Survived\"]))"
      ],
      "execution_count": 41,
      "outputs": [
        {
          "output_type": "stream",
          "text": [
            "score 0.89\n"
          ],
          "name": "stdout"
        }
      ]
    },
    {
      "cell_type": "code",
      "metadata": {
        "colab": {
          "base_uri": "https://localhost:8080/"
        },
        "id": "5AFc-DJYIjth",
        "outputId": "6270988c-5046-470a-8598-79b7011a93d1"
      },
      "source": [
        "gbt = ensemble.GradientBoostingClassifier(max_depth=None, \n",
        "                                           random_state=222).fit(titanic_short.values, \n",
        "                                                                 titanic[\"Survived\"])\n",
        "print (\"score %.2f\"%gbt.score(titanic_short.values, titanic[\"Survived\"]))"
      ],
      "execution_count": 42,
      "outputs": [
        {
          "output_type": "stream",
          "text": [
            "score 0.90\n"
          ],
          "name": "stdout"
        }
      ]
    },
    {
      "cell_type": "markdown",
      "metadata": {
        "id": "gs811ucfInPN"
      },
      "source": [
        "##Feature importance \n",
        "You can measure the influence that each feature has on the decision"
      ]
    },
    {
      "cell_type": "code",
      "metadata": {
        "colab": {
          "base_uri": "https://localhost:8080/"
        },
        "id": "EcSHIzPZI6EP",
        "outputId": "0d5a9174-23b1-42b6-8bea-f309a991ae3a"
      },
      "source": [
        "print(\"Random Forest feature importance\")\n",
        "for f,fi in zip(titanic_short.columns, rf.feature_importances_):\n",
        "  print (f, fi.round(2))\n",
        "\n",
        "#rf.feature_importances_ return the feature importances (the higher, the \n",
        "#more important the feature)"
      ],
      "execution_count": 43,
      "outputs": [
        {
          "output_type": "stream",
          "text": [
            "Random Forest feature importance\n",
            "Pclass 0.19\n",
            "gender 0.35\n",
            "Age 0.46\n"
          ],
          "name": "stdout"
        }
      ]
    },
    {
      "cell_type": "code",
      "metadata": {
        "colab": {
          "base_uri": "https://localhost:8080/"
        },
        "id": "K6vvGaBrKONt",
        "outputId": "9dccd873-0f35-4b8d-ffce-d0b8d340d916"
      },
      "source": [
        "print(\"Gradient Boosted Tree feature importance\")\n",
        "for f,fi in zip(titanic_short.columns, gbt.feature_importances_):\n",
        "  print (f, fi.round(2))"
      ],
      "execution_count": 44,
      "outputs": [
        {
          "output_type": "stream",
          "text": [
            "Gradient Boosted Tree feature importance\n",
            "Pclass 0.2\n",
            "gender 0.41\n",
            "Age 0.4\n"
          ],
          "name": "stdout"
        }
      ]
    },
    {
      "cell_type": "markdown",
      "metadata": {
        "id": "qr3d7J2yK3lU"
      },
      "source": [
        "calculate feature importance uncertainties for RF method"
      ]
    },
    {
      "cell_type": "code",
      "metadata": {
        "colab": {
          "base_uri": "https://localhost:8080/"
        },
        "id": "0C_iQ3wHK5i6",
        "outputId": "60e24905-2a14-4381-ce82-48e44064b5da"
      },
      "source": [
        "fistd = np.std([tree.feature_importances_ for tree in rf.estimators_],\n",
        "             axis=0)\n",
        "print(\"Random Forest feature importance\")\n",
        "for f, fi, s in zip (titanic_short.columns, rf.feature_importances_, fistd):\n",
        "  print (f, fi.round(2), \"+/-\", s.round(2))"
      ],
      "execution_count": 45,
      "outputs": [
        {
          "output_type": "stream",
          "text": [
            "Random Forest feature importance\n",
            "Pclass 0.19 +/- 0.04\n",
            "gender 0.35 +/- 0.05\n",
            "Age 0.46 +/- 0.05\n"
          ],
          "name": "stdout"
        }
      ]
    },
    {
      "cell_type": "code",
      "metadata": {
        "id": "CTwUe_GYOWMd"
      },
      "source": [
        "np.arange?"
      ],
      "execution_count": 46,
      "outputs": []
    },
    {
      "cell_type": "code",
      "metadata": {
        "id": "Sf3ltBdSPA_T"
      },
      "source": [
        "pl.barh?"
      ],
      "execution_count": 47,
      "outputs": []
    },
    {
      "cell_type": "code",
      "metadata": {
        "id": "tGNWUQVSPYWO"
      },
      "source": [
        ""
      ],
      "execution_count": 47,
      "outputs": []
    },
    {
      "cell_type": "code",
      "metadata": {
        "colab": {
          "base_uri": "https://localhost:8080/",
          "height": 319
        },
        "id": "iYv-p-jONgCF",
        "outputId": "58e2b034-57d0-4699-f82a-e3e74ada2d2f"
      },
      "source": [
        "indices = np.argsort(rf.feature_importances_) #crea un array di indici ordinati\n",
        "pl.figure()\n",
        "pl.title(\"Feature importances\")\n",
        "pl.barh(np.arange(rf.feature_importances_.shape[0]), #crea un array di 3 elementi\n",
        "        rf.feature_importances_[indices], #width of the bars to the coordinates \n",
        "       xerr=fistd[indices], align=\"center\")\n",
        "pl.xticks(range(rf.feature_importances_.shape[0]), indices)\n",
        "pl.yticks(range(rf.feature_importances_.shape[0]), \n",
        "          labels=titanic_short.columns[indices])\n",
        "pl.xlim(0, 1)\n",
        "pl.show()"
      ],
      "execution_count": 48,
      "outputs": [
        {
          "output_type": "stream",
          "text": [
            "findfont: Font family ['[\"sans-serif\"]'] not found. Falling back to DejaVu Sans.\n"
          ],
          "name": "stderr"
        },
        {
          "output_type": "display_data",
          "data": {
            "image/png": "[encoded data removed]",
            "text/plain": [
              "<Figure size 432x288 with 1 Axes>"
            ]
          },
          "metadata": {
            "tags": []
          }
        }
      ]
    },
    {
      "cell_type": "code",
      "metadata": {
        "id": "sLCZJKYDQaQP"
      },
      "source": [
        "from sklearn.metrics import confusion_matrix\n",
        "#Compute confusion matrix to evaluate the accuracy of a classification\n",
        "\n",
        "#C_{i, j}\n",
        "#is equal to the number of observations known to be in group :math:`i` and\n",
        "#predicted to be in group :math:`j`"
      ],
      "execution_count": 49,
      "outputs": []
    },
    {
      "cell_type": "code",
      "metadata": {
        "id": "hAUmhrADQU7h"
      },
      "source": [
        "def plot_confusion_matrix(y_true, y_pred,\n",
        "                          normalize=True,\n",
        "                          title='',\n",
        "                          cmap=plt.cm.Blues):\n",
        "    \"\"\"\n",
        "    This function prints and plots the confusion matrix.\n",
        "    Normalization can be applied by setting `normalize=True`.\n",
        "    \"\"\"         \n",
        "    if normalize:\n",
        "          title = title + ' Normalized confusion matrix'\n",
        "    else:\n",
        "          title = title + ' Confusion matrix, without normalization'\n",
        "\n",
        "    # Compute confusion matrix\n",
        "    cm = confusion_matrix(y_true, y_pred)\n",
        "    # Only use the labels that appear in the data\n",
        "    \n",
        "    pl.imshow(cm, cmap=\"bone\")\n",
        "    pl.title(title)\n",
        "    pl.colorbar()\n",
        "    pl.axis('off')"
      ],
      "execution_count": 50,
      "outputs": []
    },
    {
      "cell_type": "code",
      "metadata": {
        "colab": {
          "base_uri": "https://localhost:8080/",
          "height": 273
        },
        "id": "z6wAxDylR1L2",
        "outputId": "1ffe0366-66cd-4f65-ef4e-6b8978340b6f"
      },
      "source": [
        "plot_confusion_matrix(rf.predict(titanic_short), \n",
        "                      titanic[\"Survived\"],\n",
        "                      title=\"RF \")"
      ],
      "execution_count": 51,
      "outputs": [
        {
          "output_type": "display_data",
          "data": {
            "image/png": "[encoded data removed]",
            "text/plain": [
              "<Figure size 432x288 with 2 Axes>"
            ]
          },
          "metadata": {
            "tags": []
          }
        }
      ]
    },
    {
      "cell_type": "code",
      "metadata": {
        "id": "nR9LB4JepbKB"
      },
      "source": [
        "rf.predict?"
      ],
      "execution_count": 57,
      "outputs": []
    },
    {
      "cell_type": "code",
      "metadata": {
        "colab": {
          "base_uri": "https://localhost:8080/",
          "height": 273
        },
        "id": "T_ROOmB7R2ER",
        "outputId": "057053de-112e-4e13-969d-0e12b31cf557"
      },
      "source": [
        "plot_confusion_matrix(gbt.predict(titanic_short), \n",
        "                      titanic[\"Survived\"],\n",
        "                      title=\"GBT\")"
      ],
      "execution_count": 52,
      "outputs": [
        {
          "output_type": "display_data",
          "data": {
            "image/png": "[encoded data removed]",
            "text/plain": [
              "<Figure size 432x288 with 2 Axes>"
            ]
          },
          "metadata": {
            "tags": []
          }
        }
      ]
    }
  ]
}