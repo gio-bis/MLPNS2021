{
  "nbformat": 4,
  "nbformat_minor": 0,
  "metadata": {
    "colab": {
      "name": "HiggsBoson.ipynb",
      "provenance": [],
      "authorship_tag": "ABX9TyNc1zSrhLZBoManOZImFgWP",
      "include_colab_link": true
    },
    "kernelspec": {
      "name": "python3",
      "display_name": "Python 3"
    },
    "language_info": {
      "name": "python"
    }
  },
  "cells": [
    {
      "cell_type": "markdown",
      "metadata": {
        "id": "view-in-github",
        "colab_type": "text"
      },
      "source": [
        "<a href=\"https://colab.research.google.com/github/gio-bis/MLPNS2021/blob/main/CART/HiggsBoson.ipynb\" target=\"_parent\"><img src=\"https://colab.research.google.com/assets/colab-badge.svg\" alt=\"Open In Colab\"/></a>"
      ]
    },
    {
      "cell_type": "code",
      "metadata": {
        "colab": {
          "base_uri": "https://localhost:8080/"
        },
        "id": "vbn6ff6Uuo2Y",
        "outputId": "cef5da4f-d87c-42c0-c898-8bcc285364c9"
      },
      "source": [
        "\n",
        "from google.colab import drive\n",
        "drive.mount('/content/drive')"
      ],
      "execution_count": 1,
      "outputs": [
        {
          "output_type": "stream",
          "text": [
            "Mounted at /content/drive\n"
          ],
          "name": "stdout"
        }
      ]
    },
    {
      "cell_type": "code",
      "metadata": {
        "colab": {
          "base_uri": "https://localhost:8080/"
        },
        "id": "ykheMNTDvHek",
        "outputId": "7e6730d5-e29b-4f46-c09b-6e14b72f7d93"
      },
      "source": [
        "import pandas as pd\n",
        "import json\n",
        "import os\n",
        "import pylab as pl\n",
        "%pylab inline"
      ],
      "execution_count": 2,
      "outputs": [
        {
          "output_type": "stream",
          "text": [
            "Populating the interactive namespace from numpy and matplotlib\n"
          ],
          "name": "stdout"
        }
      ]
    },
    {
      "cell_type": "code",
      "metadata": {
        "colab": {
          "base_uri": "https://localhost:8080/"
        },
        "id": "FrvEW30IvSmB",
        "outputId": "af7530f6-7f26-45ad-ba32-d7349a348fae"
      },
      "source": [
        "pip install kaggle"
      ],
      "execution_count": 3,
      "outputs": [
        {
          "output_type": "stream",
          "text": [
            "Requirement already satisfied: kaggle in /usr/local/lib/python3.7/dist-packages (1.5.12)\n",
            "Requirement already satisfied: urllib3 in /usr/local/lib/python3.7/dist-packages (from kaggle) (1.24.3)\n",
            "Requirement already satisfied: python-slugify in /usr/local/lib/python3.7/dist-packages (from kaggle) (5.0.2)\n",
            "Requirement already satisfied: tqdm in /usr/local/lib/python3.7/dist-packages (from kaggle) (4.41.1)\n",
            "Requirement already satisfied: six>=1.10 in /usr/local/lib/python3.7/dist-packages (from kaggle) (1.15.0)\n",
            "Requirement already satisfied: requests in /usr/local/lib/python3.7/dist-packages (from kaggle) (2.23.0)\n",
            "Requirement already satisfied: python-dateutil in /usr/local/lib/python3.7/dist-packages (from kaggle) (2.8.1)\n",
            "Requirement already satisfied: certifi in /usr/local/lib/python3.7/dist-packages (from kaggle) (2020.12.5)\n",
            "Requirement already satisfied: text-unidecode>=1.3 in /usr/local/lib/python3.7/dist-packages (from python-slugify->kaggle) (1.3)\n",
            "Requirement already satisfied: chardet<4,>=3.0.2 in /usr/local/lib/python3.7/dist-packages (from requests->kaggle) (3.0.4)\n",
            "Requirement already satisfied: idna<3,>=2.5 in /usr/local/lib/python3.7/dist-packages (from requests->kaggle) (2.10)\n"
          ],
          "name": "stdout"
        }
      ]
    },
    {
      "cell_type": "code",
      "metadata": {
        "colab": {
          "base_uri": "https://localhost:8080/"
        },
        "id": "DoRxpBtSvXX4",
        "outputId": "a187eb63-54c5-4c3a-9fa9-bff0ac50e66d"
      },
      "source": [
        "cd /content/drive/My Drive"
      ],
      "execution_count": 4,
      "outputs": [
        {
          "output_type": "stream",
          "text": [
            "/content/drive/My Drive\n"
          ],
          "name": "stdout"
        }
      ]
    },
    {
      "cell_type": "code",
      "metadata": {
        "id": "3Pb1drWivaol"
      },
      "source": [
        "envs = json.load(open(\"kaggle.json\", \"r\"))\n",
        "os.environ[\"KAGGLE_USERNAME\"] = envs['username']\n",
        "os.environ[\"KAGGLE_KEY\"] = envs['key']"
      ],
      "execution_count": 5,
      "outputs": []
    },
    {
      "cell_type": "code",
      "metadata": {
        "colab": {
          "base_uri": "https://localhost:8080/"
        },
        "id": "V16aJ08bvcey",
        "outputId": "fcb39cfa-e1ca-484c-c696-34ea340feffe"
      },
      "source": [
        "!mkdir higgsb"
      ],
      "execution_count": 6,
      "outputs": [
        {
          "output_type": "stream",
          "text": [
            "mkdir: cannot create directory ‘higgsb’: File exists\n"
          ],
          "name": "stdout"
        }
      ]
    },
    {
      "cell_type": "code",
      "metadata": {
        "colab": {
          "base_uri": "https://localhost:8080/"
        },
        "id": "p4_qsKVUvh8j",
        "outputId": "c0e9940e-9491-440c-a949-f8d2eb1c437e"
      },
      "source": [
        "cd higgsb/\n"
      ],
      "execution_count": 7,
      "outputs": [
        {
          "output_type": "stream",
          "text": [
            "/content/drive/My Drive/higgsb\n"
          ],
          "name": "stdout"
        }
      ]
    },
    {
      "cell_type": "code",
      "metadata": {
        "colab": {
          "base_uri": "https://localhost:8080/"
        },
        "id": "qd8S3N5PvllN",
        "outputId": "e91863ff-6864-4f4a-e068-f9732f1aa705"
      },
      "source": [
        "!pwd"
      ],
      "execution_count": 8,
      "outputs": [
        {
          "output_type": "stream",
          "text": [
            "/content/drive/My Drive/higgsb\n"
          ],
          "name": "stdout"
        }
      ]
    },
    {
      "cell_type": "code",
      "metadata": {
        "colab": {
          "base_uri": "https://localhost:8080/"
        },
        "id": "NtH42eqavnkQ",
        "outputId": "b6f826b1-935b-4a34-8adb-cfb9baf846ac"
      },
      "source": [
        "!kaggle competitions download -c higgs-boson"
      ],
      "execution_count": 9,
      "outputs": [
        {
          "output_type": "stream",
          "text": [
            "Warning: Looks like you're using an outdated API Version, please consider updating (server 1.5.12 / client 1.5.4)\n",
            "random_submission.zip: Skipping, found more recently modified local copy (use --force to force download)\n",
            "HiggsBosonCompetition_AMSMetric_rev1.py: Skipping, found more recently modified local copy (use --force to force download)\n",
            "test.zip: Skipping, found more recently modified local copy (use --force to force download)\n",
            "training.zip: Skipping, found more recently modified local copy (use --force to force download)\n"
          ],
          "name": "stdout"
        }
      ]
    },
    {
      "cell_type": "code",
      "metadata": {
        "colab": {
          "base_uri": "https://localhost:8080/"
        },
        "id": "5T30oZTPvrnu",
        "outputId": "89b6c7b6-c7a1-49a8-a790-c0ddd6152edb"
      },
      "source": [
        "!unzip test.zip \n",
        "!unzip training.zip"
      ],
      "execution_count": 10,
      "outputs": [
        {
          "output_type": "stream",
          "text": [
            "Archive:  test.zip\n",
            "replace test.csv? [y]es, [n]o, [A]ll, [N]one, [r]ename: y\n",
            "  inflating: test.csv                \n",
            "Archive:  training.zip\n",
            "replace training.csv? [y]es, [n]o, [A]ll, [N]one, [r]ename: y\n",
            "  inflating: training.csv            \n"
          ],
          "name": "stdout"
        }
      ]
    },
    {
      "cell_type": "code",
      "metadata": {
        "id": "t4gZY1XYvt87"
      },
      "source": [
        "data = pd.read_csv(\"training.csv\")"
      ],
      "execution_count": 11,
      "outputs": []
    },
    {
      "cell_type": "code",
      "metadata": {
        "colab": {
          "base_uri": "https://localhost:8080/",
          "height": 222
        },
        "id": "-yikLds4vvuE",
        "outputId": "9a1c1021-4fe1-4496-f8ef-bbe3542a150f"
      },
      "source": [
        "data.head()"
      ],
      "execution_count": 12,
      "outputs": [
        {
          "output_type": "execute_result",
          "data": {
            "text/html": [
              "<div>\n",
              "<style scoped>\n",
              "    .dataframe tbody tr th:only-of-type {\n",
              "        vertical-align: middle;\n",
              "    }\n",
              "\n",
              "    .dataframe tbody tr th {\n",
              "        vertical-align: top;\n",
              "    }\n",
              "\n",
              "    .dataframe thead th {\n",
              "        text-align: right;\n",
              "    }\n",
              "</style>\n",
              "<table border=\"1\" class=\"dataframe\">\n",
              "  <thead>\n",
              "    <tr style=\"text-align: right;\">\n",
              "      <th></th>\n",
              "      <th>EventId</th>\n",
              "      <th>DER_mass_MMC</th>\n",
              "      <th>DER_mass_transverse_met_lep</th>\n",
              "      <th>DER_mass_vis</th>\n",
              "      <th>DER_pt_h</th>\n",
              "      <th>DER_deltaeta_jet_jet</th>\n",
              "      <th>DER_mass_jet_jet</th>\n",
              "      <th>DER_prodeta_jet_jet</th>\n",
              "      <th>DER_deltar_tau_lep</th>\n",
              "      <th>DER_pt_tot</th>\n",
              "      <th>DER_sum_pt</th>\n",
              "      <th>DER_pt_ratio_lep_tau</th>\n",
              "      <th>DER_met_phi_centrality</th>\n",
              "      <th>DER_lep_eta_centrality</th>\n",
              "      <th>PRI_tau_pt</th>\n",
              "      <th>PRI_tau_eta</th>\n",
              "      <th>PRI_tau_phi</th>\n",
              "      <th>PRI_lep_pt</th>\n",
              "      <th>PRI_lep_eta</th>\n",
              "      <th>PRI_lep_phi</th>\n",
              "      <th>PRI_met</th>\n",
              "      <th>PRI_met_phi</th>\n",
              "      <th>PRI_met_sumet</th>\n",
              "      <th>PRI_jet_num</th>\n",
              "      <th>PRI_jet_leading_pt</th>\n",
              "      <th>PRI_jet_leading_eta</th>\n",
              "      <th>PRI_jet_leading_phi</th>\n",
              "      <th>PRI_jet_subleading_pt</th>\n",
              "      <th>PRI_jet_subleading_eta</th>\n",
              "      <th>PRI_jet_subleading_phi</th>\n",
              "      <th>PRI_jet_all_pt</th>\n",
              "      <th>Weight</th>\n",
              "      <th>Label</th>\n",
              "    </tr>\n",
              "  </thead>\n",
              "  <tbody>\n",
              "    <tr>\n",
              "      <th>0</th>\n",
              "      <td>100000</td>\n",
              "      <td>138.470</td>\n",
              "      <td>51.655</td>\n",
              "      <td>97.827</td>\n",
              "      <td>27.980</td>\n",
              "      <td>0.91</td>\n",
              "      <td>124.711</td>\n",
              "      <td>2.666</td>\n",
              "      <td>3.064</td>\n",
              "      <td>41.928</td>\n",
              "      <td>197.760</td>\n",
              "      <td>1.582</td>\n",
              "      <td>1.396</td>\n",
              "      <td>0.2</td>\n",
              "      <td>32.638</td>\n",
              "      <td>1.017</td>\n",
              "      <td>0.381</td>\n",
              "      <td>51.626</td>\n",
              "      <td>2.273</td>\n",
              "      <td>-2.414</td>\n",
              "      <td>16.824</td>\n",
              "      <td>-0.277</td>\n",
              "      <td>258.733</td>\n",
              "      <td>2</td>\n",
              "      <td>67.435</td>\n",
              "      <td>2.150</td>\n",
              "      <td>0.444</td>\n",
              "      <td>46.062</td>\n",
              "      <td>1.24</td>\n",
              "      <td>-2.475</td>\n",
              "      <td>113.497</td>\n",
              "      <td>0.002653</td>\n",
              "      <td>s</td>\n",
              "    </tr>\n",
              "    <tr>\n",
              "      <th>1</th>\n",
              "      <td>100001</td>\n",
              "      <td>160.937</td>\n",
              "      <td>68.768</td>\n",
              "      <td>103.235</td>\n",
              "      <td>48.146</td>\n",
              "      <td>-999.00</td>\n",
              "      <td>-999.000</td>\n",
              "      <td>-999.000</td>\n",
              "      <td>3.473</td>\n",
              "      <td>2.078</td>\n",
              "      <td>125.157</td>\n",
              "      <td>0.879</td>\n",
              "      <td>1.414</td>\n",
              "      <td>-999.0</td>\n",
              "      <td>42.014</td>\n",
              "      <td>2.039</td>\n",
              "      <td>-3.011</td>\n",
              "      <td>36.918</td>\n",
              "      <td>0.501</td>\n",
              "      <td>0.103</td>\n",
              "      <td>44.704</td>\n",
              "      <td>-1.916</td>\n",
              "      <td>164.546</td>\n",
              "      <td>1</td>\n",
              "      <td>46.226</td>\n",
              "      <td>0.725</td>\n",
              "      <td>1.158</td>\n",
              "      <td>-999.000</td>\n",
              "      <td>-999.00</td>\n",
              "      <td>-999.000</td>\n",
              "      <td>46.226</td>\n",
              "      <td>2.233584</td>\n",
              "      <td>b</td>\n",
              "    </tr>\n",
              "    <tr>\n",
              "      <th>2</th>\n",
              "      <td>100002</td>\n",
              "      <td>-999.000</td>\n",
              "      <td>162.172</td>\n",
              "      <td>125.953</td>\n",
              "      <td>35.635</td>\n",
              "      <td>-999.00</td>\n",
              "      <td>-999.000</td>\n",
              "      <td>-999.000</td>\n",
              "      <td>3.148</td>\n",
              "      <td>9.336</td>\n",
              "      <td>197.814</td>\n",
              "      <td>3.776</td>\n",
              "      <td>1.414</td>\n",
              "      <td>-999.0</td>\n",
              "      <td>32.154</td>\n",
              "      <td>-0.705</td>\n",
              "      <td>-2.093</td>\n",
              "      <td>121.409</td>\n",
              "      <td>-0.953</td>\n",
              "      <td>1.052</td>\n",
              "      <td>54.283</td>\n",
              "      <td>-2.186</td>\n",
              "      <td>260.414</td>\n",
              "      <td>1</td>\n",
              "      <td>44.251</td>\n",
              "      <td>2.053</td>\n",
              "      <td>-2.028</td>\n",
              "      <td>-999.000</td>\n",
              "      <td>-999.00</td>\n",
              "      <td>-999.000</td>\n",
              "      <td>44.251</td>\n",
              "      <td>2.347389</td>\n",
              "      <td>b</td>\n",
              "    </tr>\n",
              "    <tr>\n",
              "      <th>3</th>\n",
              "      <td>100003</td>\n",
              "      <td>143.905</td>\n",
              "      <td>81.417</td>\n",
              "      <td>80.943</td>\n",
              "      <td>0.414</td>\n",
              "      <td>-999.00</td>\n",
              "      <td>-999.000</td>\n",
              "      <td>-999.000</td>\n",
              "      <td>3.310</td>\n",
              "      <td>0.414</td>\n",
              "      <td>75.968</td>\n",
              "      <td>2.354</td>\n",
              "      <td>-1.285</td>\n",
              "      <td>-999.0</td>\n",
              "      <td>22.647</td>\n",
              "      <td>-1.655</td>\n",
              "      <td>0.010</td>\n",
              "      <td>53.321</td>\n",
              "      <td>-0.522</td>\n",
              "      <td>-3.100</td>\n",
              "      <td>31.082</td>\n",
              "      <td>0.060</td>\n",
              "      <td>86.062</td>\n",
              "      <td>0</td>\n",
              "      <td>-999.000</td>\n",
              "      <td>-999.000</td>\n",
              "      <td>-999.000</td>\n",
              "      <td>-999.000</td>\n",
              "      <td>-999.00</td>\n",
              "      <td>-999.000</td>\n",
              "      <td>-0.000</td>\n",
              "      <td>5.446378</td>\n",
              "      <td>b</td>\n",
              "    </tr>\n",
              "    <tr>\n",
              "      <th>4</th>\n",
              "      <td>100004</td>\n",
              "      <td>175.864</td>\n",
              "      <td>16.915</td>\n",
              "      <td>134.805</td>\n",
              "      <td>16.405</td>\n",
              "      <td>-999.00</td>\n",
              "      <td>-999.000</td>\n",
              "      <td>-999.000</td>\n",
              "      <td>3.891</td>\n",
              "      <td>16.405</td>\n",
              "      <td>57.983</td>\n",
              "      <td>1.056</td>\n",
              "      <td>-1.385</td>\n",
              "      <td>-999.0</td>\n",
              "      <td>28.209</td>\n",
              "      <td>-2.197</td>\n",
              "      <td>-2.231</td>\n",
              "      <td>29.774</td>\n",
              "      <td>0.798</td>\n",
              "      <td>1.569</td>\n",
              "      <td>2.723</td>\n",
              "      <td>-0.871</td>\n",
              "      <td>53.131</td>\n",
              "      <td>0</td>\n",
              "      <td>-999.000</td>\n",
              "      <td>-999.000</td>\n",
              "      <td>-999.000</td>\n",
              "      <td>-999.000</td>\n",
              "      <td>-999.00</td>\n",
              "      <td>-999.000</td>\n",
              "      <td>0.000</td>\n",
              "      <td>6.245333</td>\n",
              "      <td>b</td>\n",
              "    </tr>\n",
              "  </tbody>\n",
              "</table>\n",
              "</div>"
            ],
            "text/plain": [
              "   EventId  DER_mass_MMC  ...    Weight  Label\n",
              "0   100000       138.470  ...  0.002653      s\n",
              "1   100001       160.937  ...  2.233584      b\n",
              "2   100002      -999.000  ...  2.347389      b\n",
              "3   100003       143.905  ...  5.446378      b\n",
              "4   100004       175.864  ...  6.245333      b\n",
              "\n",
              "[5 rows x 33 columns]"
            ]
          },
          "metadata": {
            "tags": []
          },
          "execution_count": 12
        }
      ]
    },
    {
      "cell_type": "code",
      "metadata": {
        "colab": {
          "base_uri": "https://localhost:8080/",
          "height": 314
        },
        "id": "62AdIpfUwkom",
        "outputId": "70a82bcf-e437-4583-9866-a5ed9e5b1fee"
      },
      "source": [
        "data.describe()"
      ],
      "execution_count": 13,
      "outputs": [
        {
          "output_type": "execute_result",
          "data": {
            "text/html": [
              "<div>\n",
              "<style scoped>\n",
              "    .dataframe tbody tr th:only-of-type {\n",
              "        vertical-align: middle;\n",
              "    }\n",
              "\n",
              "    .dataframe tbody tr th {\n",
              "        vertical-align: top;\n",
              "    }\n",
              "\n",
              "    .dataframe thead th {\n",
              "        text-align: right;\n",
              "    }\n",
              "</style>\n",
              "<table border=\"1\" class=\"dataframe\">\n",
              "  <thead>\n",
              "    <tr style=\"text-align: right;\">\n",
              "      <th></th>\n",
              "      <th>EventId</th>\n",
              "      <th>DER_mass_MMC</th>\n",
              "      <th>DER_mass_transverse_met_lep</th>\n",
              "      <th>DER_mass_vis</th>\n",
              "      <th>DER_pt_h</th>\n",
              "      <th>DER_deltaeta_jet_jet</th>\n",
              "      <th>DER_mass_jet_jet</th>\n",
              "      <th>DER_prodeta_jet_jet</th>\n",
              "      <th>DER_deltar_tau_lep</th>\n",
              "      <th>DER_pt_tot</th>\n",
              "      <th>DER_sum_pt</th>\n",
              "      <th>DER_pt_ratio_lep_tau</th>\n",
              "      <th>DER_met_phi_centrality</th>\n",
              "      <th>DER_lep_eta_centrality</th>\n",
              "      <th>PRI_tau_pt</th>\n",
              "      <th>PRI_tau_eta</th>\n",
              "      <th>PRI_tau_phi</th>\n",
              "      <th>PRI_lep_pt</th>\n",
              "      <th>PRI_lep_eta</th>\n",
              "      <th>PRI_lep_phi</th>\n",
              "      <th>PRI_met</th>\n",
              "      <th>PRI_met_phi</th>\n",
              "      <th>PRI_met_sumet</th>\n",
              "      <th>PRI_jet_num</th>\n",
              "      <th>PRI_jet_leading_pt</th>\n",
              "      <th>PRI_jet_leading_eta</th>\n",
              "      <th>PRI_jet_leading_phi</th>\n",
              "      <th>PRI_jet_subleading_pt</th>\n",
              "      <th>PRI_jet_subleading_eta</th>\n",
              "      <th>PRI_jet_subleading_phi</th>\n",
              "      <th>PRI_jet_all_pt</th>\n",
              "      <th>Weight</th>\n",
              "    </tr>\n",
              "  </thead>\n",
              "  <tbody>\n",
              "    <tr>\n",
              "      <th>count</th>\n",
              "      <td>250000.000000</td>\n",
              "      <td>250000.000000</td>\n",
              "      <td>250000.000000</td>\n",
              "      <td>250000.000000</td>\n",
              "      <td>250000.000000</td>\n",
              "      <td>250000.000000</td>\n",
              "      <td>250000.000000</td>\n",
              "      <td>250000.000000</td>\n",
              "      <td>250000.000000</td>\n",
              "      <td>250000.000000</td>\n",
              "      <td>250000.000000</td>\n",
              "      <td>250000.000000</td>\n",
              "      <td>250000.000000</td>\n",
              "      <td>250000.000000</td>\n",
              "      <td>250000.000000</td>\n",
              "      <td>250000.000000</td>\n",
              "      <td>250000.000000</td>\n",
              "      <td>250000.000000</td>\n",
              "      <td>250000.000000</td>\n",
              "      <td>250000.000000</td>\n",
              "      <td>250000.000000</td>\n",
              "      <td>250000.000000</td>\n",
              "      <td>250000.000000</td>\n",
              "      <td>250000.000000</td>\n",
              "      <td>250000.000000</td>\n",
              "      <td>250000.000000</td>\n",
              "      <td>250000.000000</td>\n",
              "      <td>250000.000000</td>\n",
              "      <td>250000.000000</td>\n",
              "      <td>250000.000000</td>\n",
              "      <td>250000.000000</td>\n",
              "      <td>250000.000000</td>\n",
              "    </tr>\n",
              "    <tr>\n",
              "      <th>mean</th>\n",
              "      <td>224999.500000</td>\n",
              "      <td>-49.023079</td>\n",
              "      <td>49.239819</td>\n",
              "      <td>81.181982</td>\n",
              "      <td>57.895962</td>\n",
              "      <td>-708.420675</td>\n",
              "      <td>-601.237051</td>\n",
              "      <td>-709.356603</td>\n",
              "      <td>2.373100</td>\n",
              "      <td>18.917332</td>\n",
              "      <td>158.432217</td>\n",
              "      <td>1.437609</td>\n",
              "      <td>-0.128305</td>\n",
              "      <td>-708.985189</td>\n",
              "      <td>38.707419</td>\n",
              "      <td>-0.010973</td>\n",
              "      <td>-0.008171</td>\n",
              "      <td>46.660207</td>\n",
              "      <td>-0.019507</td>\n",
              "      <td>0.043543</td>\n",
              "      <td>41.717235</td>\n",
              "      <td>-0.010119</td>\n",
              "      <td>209.797178</td>\n",
              "      <td>0.979176</td>\n",
              "      <td>-348.329567</td>\n",
              "      <td>-399.254314</td>\n",
              "      <td>-399.259788</td>\n",
              "      <td>-692.381204</td>\n",
              "      <td>-709.121609</td>\n",
              "      <td>-709.118631</td>\n",
              "      <td>73.064591</td>\n",
              "      <td>1.646767</td>\n",
              "    </tr>\n",
              "    <tr>\n",
              "      <th>std</th>\n",
              "      <td>72168.927986</td>\n",
              "      <td>406.345647</td>\n",
              "      <td>35.344886</td>\n",
              "      <td>40.828691</td>\n",
              "      <td>63.655682</td>\n",
              "      <td>454.480565</td>\n",
              "      <td>657.972302</td>\n",
              "      <td>453.019877</td>\n",
              "      <td>0.782911</td>\n",
              "      <td>22.273494</td>\n",
              "      <td>115.706115</td>\n",
              "      <td>0.844743</td>\n",
              "      <td>1.193585</td>\n",
              "      <td>453.596721</td>\n",
              "      <td>22.412081</td>\n",
              "      <td>1.214079</td>\n",
              "      <td>1.816763</td>\n",
              "      <td>22.064922</td>\n",
              "      <td>1.264982</td>\n",
              "      <td>1.816611</td>\n",
              "      <td>32.894693</td>\n",
              "      <td>1.812223</td>\n",
              "      <td>126.499506</td>\n",
              "      <td>0.977426</td>\n",
              "      <td>532.962789</td>\n",
              "      <td>489.338286</td>\n",
              "      <td>489.333883</td>\n",
              "      <td>479.875496</td>\n",
              "      <td>453.384624</td>\n",
              "      <td>453.389017</td>\n",
              "      <td>98.015662</td>\n",
              "      <td>1.875103</td>\n",
              "    </tr>\n",
              "    <tr>\n",
              "      <th>min</th>\n",
              "      <td>100000.000000</td>\n",
              "      <td>-999.000000</td>\n",
              "      <td>0.000000</td>\n",
              "      <td>6.329000</td>\n",
              "      <td>0.000000</td>\n",
              "      <td>-999.000000</td>\n",
              "      <td>-999.000000</td>\n",
              "      <td>-999.000000</td>\n",
              "      <td>0.208000</td>\n",
              "      <td>0.000000</td>\n",
              "      <td>46.104000</td>\n",
              "      <td>0.047000</td>\n",
              "      <td>-1.414000</td>\n",
              "      <td>-999.000000</td>\n",
              "      <td>20.000000</td>\n",
              "      <td>-2.499000</td>\n",
              "      <td>-3.142000</td>\n",
              "      <td>26.000000</td>\n",
              "      <td>-2.505000</td>\n",
              "      <td>-3.142000</td>\n",
              "      <td>0.109000</td>\n",
              "      <td>-3.142000</td>\n",
              "      <td>13.678000</td>\n",
              "      <td>0.000000</td>\n",
              "      <td>-999.000000</td>\n",
              "      <td>-999.000000</td>\n",
              "      <td>-999.000000</td>\n",
              "      <td>-999.000000</td>\n",
              "      <td>-999.000000</td>\n",
              "      <td>-999.000000</td>\n",
              "      <td>0.000000</td>\n",
              "      <td>0.001502</td>\n",
              "    </tr>\n",
              "    <tr>\n",
              "      <th>25%</th>\n",
              "      <td>162499.750000</td>\n",
              "      <td>78.100750</td>\n",
              "      <td>19.241000</td>\n",
              "      <td>59.388750</td>\n",
              "      <td>14.068750</td>\n",
              "      <td>-999.000000</td>\n",
              "      <td>-999.000000</td>\n",
              "      <td>-999.000000</td>\n",
              "      <td>1.810000</td>\n",
              "      <td>2.841000</td>\n",
              "      <td>77.550000</td>\n",
              "      <td>0.883000</td>\n",
              "      <td>-1.371000</td>\n",
              "      <td>-999.000000</td>\n",
              "      <td>24.591750</td>\n",
              "      <td>-0.925000</td>\n",
              "      <td>-1.575000</td>\n",
              "      <td>32.375000</td>\n",
              "      <td>-1.014000</td>\n",
              "      <td>-1.522000</td>\n",
              "      <td>21.398000</td>\n",
              "      <td>-1.575000</td>\n",
              "      <td>123.017500</td>\n",
              "      <td>0.000000</td>\n",
              "      <td>-999.000000</td>\n",
              "      <td>-999.000000</td>\n",
              "      <td>-999.000000</td>\n",
              "      <td>-999.000000</td>\n",
              "      <td>-999.000000</td>\n",
              "      <td>-999.000000</td>\n",
              "      <td>0.000000</td>\n",
              "      <td>0.018636</td>\n",
              "    </tr>\n",
              "    <tr>\n",
              "      <th>50%</th>\n",
              "      <td>224999.500000</td>\n",
              "      <td>105.012000</td>\n",
              "      <td>46.524000</td>\n",
              "      <td>73.752000</td>\n",
              "      <td>38.467500</td>\n",
              "      <td>-999.000000</td>\n",
              "      <td>-999.000000</td>\n",
              "      <td>-999.000000</td>\n",
              "      <td>2.491500</td>\n",
              "      <td>12.315500</td>\n",
              "      <td>120.664500</td>\n",
              "      <td>1.280000</td>\n",
              "      <td>-0.356000</td>\n",
              "      <td>-999.000000</td>\n",
              "      <td>31.804000</td>\n",
              "      <td>-0.023000</td>\n",
              "      <td>-0.033000</td>\n",
              "      <td>40.516000</td>\n",
              "      <td>-0.045000</td>\n",
              "      <td>0.086000</td>\n",
              "      <td>34.802000</td>\n",
              "      <td>-0.024000</td>\n",
              "      <td>179.739000</td>\n",
              "      <td>1.000000</td>\n",
              "      <td>38.960000</td>\n",
              "      <td>-1.872000</td>\n",
              "      <td>-2.093000</td>\n",
              "      <td>-999.000000</td>\n",
              "      <td>-999.000000</td>\n",
              "      <td>-999.000000</td>\n",
              "      <td>40.512500</td>\n",
              "      <td>1.156188</td>\n",
              "    </tr>\n",
              "    <tr>\n",
              "      <th>75%</th>\n",
              "      <td>287499.250000</td>\n",
              "      <td>130.606250</td>\n",
              "      <td>73.598000</td>\n",
              "      <td>92.259000</td>\n",
              "      <td>79.169000</td>\n",
              "      <td>0.490000</td>\n",
              "      <td>83.446000</td>\n",
              "      <td>-4.593000</td>\n",
              "      <td>2.961000</td>\n",
              "      <td>27.591000</td>\n",
              "      <td>200.478250</td>\n",
              "      <td>1.777000</td>\n",
              "      <td>1.225000</td>\n",
              "      <td>0.000000</td>\n",
              "      <td>45.017000</td>\n",
              "      <td>0.898000</td>\n",
              "      <td>1.565000</td>\n",
              "      <td>53.390000</td>\n",
              "      <td>0.959000</td>\n",
              "      <td>1.618000</td>\n",
              "      <td>51.895000</td>\n",
              "      <td>1.561000</td>\n",
              "      <td>263.379250</td>\n",
              "      <td>2.000000</td>\n",
              "      <td>75.349000</td>\n",
              "      <td>0.433000</td>\n",
              "      <td>0.503000</td>\n",
              "      <td>33.703000</td>\n",
              "      <td>-2.457000</td>\n",
              "      <td>-2.275000</td>\n",
              "      <td>109.933750</td>\n",
              "      <td>2.404128</td>\n",
              "    </tr>\n",
              "    <tr>\n",
              "      <th>max</th>\n",
              "      <td>349999.000000</td>\n",
              "      <td>1192.026000</td>\n",
              "      <td>690.075000</td>\n",
              "      <td>1349.351000</td>\n",
              "      <td>2834.999000</td>\n",
              "      <td>8.503000</td>\n",
              "      <td>4974.979000</td>\n",
              "      <td>16.690000</td>\n",
              "      <td>5.684000</td>\n",
              "      <td>2834.999000</td>\n",
              "      <td>1852.462000</td>\n",
              "      <td>19.773000</td>\n",
              "      <td>1.414000</td>\n",
              "      <td>1.000000</td>\n",
              "      <td>764.408000</td>\n",
              "      <td>2.497000</td>\n",
              "      <td>3.142000</td>\n",
              "      <td>560.271000</td>\n",
              "      <td>2.503000</td>\n",
              "      <td>3.142000</td>\n",
              "      <td>2842.617000</td>\n",
              "      <td>3.142000</td>\n",
              "      <td>2003.976000</td>\n",
              "      <td>3.000000</td>\n",
              "      <td>1120.573000</td>\n",
              "      <td>4.499000</td>\n",
              "      <td>3.141000</td>\n",
              "      <td>721.456000</td>\n",
              "      <td>4.500000</td>\n",
              "      <td>3.142000</td>\n",
              "      <td>1633.433000</td>\n",
              "      <td>7.822543</td>\n",
              "    </tr>\n",
              "  </tbody>\n",
              "</table>\n",
              "</div>"
            ],
            "text/plain": [
              "             EventId   DER_mass_MMC  ...  PRI_jet_all_pt         Weight\n",
              "count  250000.000000  250000.000000  ...   250000.000000  250000.000000\n",
              "mean   224999.500000     -49.023079  ...       73.064591       1.646767\n",
              "std     72168.927986     406.345647  ...       98.015662       1.875103\n",
              "min    100000.000000    -999.000000  ...        0.000000       0.001502\n",
              "25%    162499.750000      78.100750  ...        0.000000       0.018636\n",
              "50%    224999.500000     105.012000  ...       40.512500       1.156188\n",
              "75%    287499.250000     130.606250  ...      109.933750       2.404128\n",
              "max    349999.000000    1192.026000  ...     1633.433000       7.822543\n",
              "\n",
              "[8 rows x 32 columns]"
            ]
          },
          "metadata": {
            "tags": []
          },
          "execution_count": 13
        }
      ]
    },
    {
      "cell_type": "code",
      "metadata": {
        "colab": {
          "base_uri": "https://localhost:8080/"
        },
        "id": "NPJ6huJewpae",
        "outputId": "9b0ef912-c734-4de7-857f-52047d8669e3"
      },
      "source": [
        "data.shape"
      ],
      "execution_count": 14,
      "outputs": [
        {
          "output_type": "execute_result",
          "data": {
            "text/plain": [
              "(250000, 33)"
            ]
          },
          "metadata": {
            "tags": []
          },
          "execution_count": 14
        }
      ]
    },
    {
      "cell_type": "code",
      "metadata": {
        "colab": {
          "base_uri": "https://localhost:8080/"
        },
        "id": "t7HzQlVNvzB5",
        "outputId": "0c9359fc-be84-4620-8790-b98ce0fc742f"
      },
      "source": [
        "data.isna().sum() "
      ],
      "execution_count": 15,
      "outputs": [
        {
          "output_type": "execute_result",
          "data": {
            "text/plain": [
              "EventId                        0\n",
              "DER_mass_MMC                   0\n",
              "DER_mass_transverse_met_lep    0\n",
              "DER_mass_vis                   0\n",
              "DER_pt_h                       0\n",
              "DER_deltaeta_jet_jet           0\n",
              "DER_mass_jet_jet               0\n",
              "DER_prodeta_jet_jet            0\n",
              "DER_deltar_tau_lep             0\n",
              "DER_pt_tot                     0\n",
              "DER_sum_pt                     0\n",
              "DER_pt_ratio_lep_tau           0\n",
              "DER_met_phi_centrality         0\n",
              "DER_lep_eta_centrality         0\n",
              "PRI_tau_pt                     0\n",
              "PRI_tau_eta                    0\n",
              "PRI_tau_phi                    0\n",
              "PRI_lep_pt                     0\n",
              "PRI_lep_eta                    0\n",
              "PRI_lep_phi                    0\n",
              "PRI_met                        0\n",
              "PRI_met_phi                    0\n",
              "PRI_met_sumet                  0\n",
              "PRI_jet_num                    0\n",
              "PRI_jet_leading_pt             0\n",
              "PRI_jet_leading_eta            0\n",
              "PRI_jet_leading_phi            0\n",
              "PRI_jet_subleading_pt          0\n",
              "PRI_jet_subleading_eta         0\n",
              "PRI_jet_subleading_phi         0\n",
              "PRI_jet_all_pt                 0\n",
              "Weight                         0\n",
              "Label                          0\n",
              "dtype: int64"
            ]
          },
          "metadata": {
            "tags": []
          },
          "execution_count": 15
        }
      ]
    },
    {
      "cell_type": "markdown",
      "metadata": {
        "id": "uULmoocKv2zq"
      },
      "source": [
        "I -999.000 vanno sostituiti con NaN"
      ]
    },
    {
      "cell_type": "code",
      "metadata": {
        "id": "wq9b8guFv5Tv"
      },
      "source": [
        "data = data.replace(to_replace=-999.000, value=np.nan)"
      ],
      "execution_count": 16,
      "outputs": []
    },
    {
      "cell_type": "code",
      "metadata": {
        "colab": {
          "base_uri": "https://localhost:8080/"
        },
        "id": "XYRJEKELwUJv",
        "outputId": "5f71aafa-f776-4913-b594-562d1f5405e8"
      },
      "source": [
        "data.isna().sum()"
      ],
      "execution_count": 17,
      "outputs": [
        {
          "output_type": "execute_result",
          "data": {
            "text/plain": [
              "EventId                             0\n",
              "DER_mass_MMC                    38114\n",
              "DER_mass_transverse_met_lep         0\n",
              "DER_mass_vis                        0\n",
              "DER_pt_h                            0\n",
              "DER_deltaeta_jet_jet           177457\n",
              "DER_mass_jet_jet               177457\n",
              "DER_prodeta_jet_jet            177457\n",
              "DER_deltar_tau_lep                  0\n",
              "DER_pt_tot                          0\n",
              "DER_sum_pt                          0\n",
              "DER_pt_ratio_lep_tau                0\n",
              "DER_met_phi_centrality              0\n",
              "DER_lep_eta_centrality         177457\n",
              "PRI_tau_pt                          0\n",
              "PRI_tau_eta                         0\n",
              "PRI_tau_phi                         0\n",
              "PRI_lep_pt                          0\n",
              "PRI_lep_eta                         0\n",
              "PRI_lep_phi                         0\n",
              "PRI_met                             0\n",
              "PRI_met_phi                         0\n",
              "PRI_met_sumet                       0\n",
              "PRI_jet_num                         0\n",
              "PRI_jet_leading_pt              99913\n",
              "PRI_jet_leading_eta             99913\n",
              "PRI_jet_leading_phi             99913\n",
              "PRI_jet_subleading_pt          177457\n",
              "PRI_jet_subleading_eta         177457\n",
              "PRI_jet_subleading_phi         177457\n",
              "PRI_jet_all_pt                      0\n",
              "Weight                              0\n",
              "Label                               0\n",
              "dtype: int64"
            ]
          },
          "metadata": {
            "tags": []
          },
          "execution_count": 17
        }
      ]
    },
    {
      "cell_type": "code",
      "metadata": {
        "id": "fXTrNgUwyLzg"
      },
      "source": [
        "data = data.dropna(axis=1)"
      ],
      "execution_count": 18,
      "outputs": []
    },
    {
      "cell_type": "code",
      "metadata": {
        "colab": {
          "base_uri": "https://localhost:8080/"
        },
        "id": "E2DEd7f8yQZH",
        "outputId": "8d4d4915-baf1-4c85-9d93-61eb94282704"
      },
      "source": [
        "data.shape"
      ],
      "execution_count": 19,
      "outputs": [
        {
          "output_type": "execute_result",
          "data": {
            "text/plain": [
              "(250000, 22)"
            ]
          },
          "metadata": {
            "tags": []
          },
          "execution_count": 19
        }
      ]
    },
    {
      "cell_type": "code",
      "metadata": {
        "id": "srGrDIzi1lKH"
      },
      "source": [
        "labels = data[[\"Label\"]]\n",
        "ranks = data[[\"Weight\"]]"
      ],
      "execution_count": 20,
      "outputs": []
    },
    {
      "cell_type": "code",
      "metadata": {
        "id": "tb_Qi0j-yayK"
      },
      "source": [
        "from sklearn.model_selection import train_test_split \n",
        "#split arrays or matrices into random train and test subsets "
      ],
      "execution_count": 21,
      "outputs": []
    },
    {
      "cell_type": "code",
      "metadata": {
        "id": "-URkvBz6zNVJ"
      },
      "source": [
        "#note: take data from col 1 thtough -2 as features: remove ColumnId and target variables\n",
        "traindata, testdata, train_label, test_label = train_test_split(data[data.columns[1:-2]],\n",
        "                                labels, train_size=0.75, test_size=0.25, random_state=1)"
      ],
      "execution_count": 22,
      "outputs": []
    },
    {
      "cell_type": "markdown",
      "metadata": {
        "id": "X7-OTyDh2UsH"
      },
      "source": [
        "Use a Random Forest and a Gradiend Boosted Tree Classifier model to predict the label of the particles. get the score of the model on the training and test set and comment on the result for each model."
      ]
    },
    {
      "cell_type": "code",
      "metadata": {
        "colab": {
          "base_uri": "https://localhost:8080/"
        },
        "id": "ZpT084Wm1DdF",
        "outputId": "2211aa09-047c-443f-ec0d-994dfee94572"
      },
      "source": [
        "from sklearn import ensemble\n",
        "rf =  ensemble.RandomForestClassifier(random_state = 0).fit(traindata, train_label)\n",
        "print (\"score %f\"%rf.score(traindata, train_label))\n",
        "print (\"score %f\"%rf.score(testdata, test_label))"
      ],
      "execution_count": 23,
      "outputs": [
        {
          "output_type": "stream",
          "text": [
            "/usr/local/lib/python3.7/dist-packages/ipykernel_launcher.py:2: DataConversionWarning: A column-vector y was passed when a 1d array was expected. Please change the shape of y to (n_samples,), for example using ravel().\n",
            "  \n"
          ],
          "name": "stderr"
        },
        {
          "output_type": "stream",
          "text": [
            "score 0.999984\n",
            "score 0.826576\n"
          ],
          "name": "stdout"
        }
      ]
    },
    {
      "cell_type": "code",
      "metadata": {
        "colab": {
          "base_uri": "https://localhost:8080/"
        },
        "id": "V_Z926x8Dwze",
        "outputId": "638c68f1-22c6-4bc3-8231-c44ed5ca2592"
      },
      "source": [
        "gbt = ensemble.GradientBoostingClassifier(random_state = 0).fit(traindata, train_label)\n",
        "print (\"score %f\"%gbt.score(traindata, train_label))\n",
        "print (\"score %f\"%gbt.score(testdata, test_label))"
      ],
      "execution_count": 24,
      "outputs": [
        {
          "output_type": "stream",
          "text": [
            "/usr/local/lib/python3.7/dist-packages/sklearn/ensemble/_gb.py:1454: DataConversionWarning: A column-vector y was passed when a 1d array was expected. Please change the shape of y to (n_samples, ), for example using ravel().\n",
            "  y = column_or_1d(y, warn=True)\n"
          ],
          "name": "stderr"
        },
        {
          "output_type": "stream",
          "text": [
            "score 0.820555\n",
            "score 0.817440\n"
          ],
          "name": "stdout"
        }
      ]
    },
    {
      "cell_type": "markdown",
      "metadata": {
        "id": "hpA35QNhFJXe"
      },
      "source": [
        "The RF is better on the training data, but it is an illusion. it is overfitting as is evident by the fact that the performance is inferior on the test data than on the training data. GBT performs just as well on the testing data without overfitting"
      ]
    },
    {
      "cell_type": "markdown",
      "metadata": {
        "id": "ZXLJO-TjFxEh"
      },
      "source": [
        "#Produce a confusion matrix for each model and compare them"
      ]
    },
    {
      "cell_type": "code",
      "metadata": {
        "id": "By4SPm_SFzZb"
      },
      "source": [
        "from sklearn.metrics import confusion_matrix\n",
        "def plot_confusion_matrix(y_true, y_pred,\n",
        "                          normalize=True,\n",
        "                          title='',\n",
        "                          cmap=plt.cm.Blues):\n",
        "    \"\"\"\n",
        "    This function prints and plots the confusion matrix.\n",
        "    Normalization can be applied by setting `normalize=True`.\n",
        "    \"\"\"         \n",
        "    if normalize:\n",
        "          title = title + ' Normalized confusion matrix'\n",
        "    else:\n",
        "          title = title + ' Confusion matrix, without normalization'\n",
        "\n",
        "    # Compute confusion matrix\n",
        "    cm = confusion_matrix(y_true, y_pred)\n",
        "    # Only use the labels that appear in the data\n",
        "    \n",
        "    pl.imshow(cm, cmap=\"bone\")\n",
        "    pl.text(0,0, \"%d\"%cm[0][0])\n",
        "    pl.text(1,1, \"%d\"%cm[1][1])\n",
        "    pl.text(0,1, \"%d\"%cm[1][0], color=\"w\", ha=\"center\")\n",
        "    pl.text(1,0, \"%d\"%cm[0][1], color=\"w\", ha=\"center\")\n",
        "    pl.xticks([0,1], labels=[\"N\", \"P\"])\n",
        "    pl.yticks([0,1], labels=[\"N\", \"P\"])\n",
        "    pl.title(title)\n",
        "    pl.colorbar()\n",
        "   "
      ],
      "execution_count": 25,
      "outputs": []
    },
    {
      "cell_type": "code",
      "metadata": {
        "colab": {
          "base_uri": "https://localhost:8080/",
          "height": 281
        },
        "id": "-LJbv7eUHf_X",
        "outputId": "d3ab1cee-be17-49ea-b9da-3a813f372b33"
      },
      "source": [
        "plot_confusion_matrix(rf.predict(testdata), test_label,\n",
        "                      title=\"RF \")\n",
        "#The higher the diagonal values of the confusion matrix the better, \n",
        "#indicating many correct predictions"
      ],
      "execution_count": 26,
      "outputs": [
        {
          "output_type": "display_data",
          "data": {
            "image/png": "[encoded data removed]",
            "text/plain": [
              "<Figure size 432x288 with 2 Axes>"
            ]
          },
          "metadata": {
            "tags": [],
            "needs_background": "light"
          }
        }
      ]
    },
    {
      "cell_type": "code",
      "metadata": {
        "colab": {
          "base_uri": "https://localhost:8080/",
          "height": 281
        },
        "id": "mKtgyRIVHyNm",
        "outputId": "81fb29c4-84f3-47c9-c376-026f97ab348b"
      },
      "source": [
        "plot_confusion_matrix(gbt.predict(testdata), \n",
        "                      test_label,\n",
        "                      title=\"GBT \")"
      ],
      "execution_count": 27,
      "outputs": [
        {
          "output_type": "display_data",
          "data": {
            "image/png": "[encoded data removed]",
            "text/plain": [
              "<Figure size 432x288 with 2 Axes>"
            ]
          },
          "metadata": {
            "tags": [],
            "needs_background": "light"
          }
        }
      ]
    },
    {
      "cell_type": "markdown",
      "metadata": {
        "id": "MQ427SceINqN"
      },
      "source": [
        "similar performance for both models"
      ]
    },
    {
      "cell_type": "markdown",
      "metadata": {
        "id": "zDGz9uNBMfpR"
      },
      "source": [
        "thousands of  False poisitves and False negatives is clearly bad! the accuracy is dominated by the class imbalance, but the rare events may be missed!"
      ]
    },
    {
      "cell_type": "markdown",
      "metadata": {
        "id": "0nINsHZoMmT6"
      },
      "source": [
        "Use a Random Forest and a Gradiend Boosted Tree Regressor model to predict the weight of the particles. Compare the model performance on training and test sets"
      ]
    },
    {
      "cell_type": "code",
      "metadata": {
        "id": "_kB5Uu79Mkam"
      },
      "source": [
        "traindata2, testdata2, train_weight, test_weight = train_test_split(data[data.columns[1:-2]],\n",
        "                                ranks, train_size=0.75, test_size=0.25, random_state=1)"
      ],
      "execution_count": 28,
      "outputs": []
    },
    {
      "cell_type": "code",
      "metadata": {
        "id": "g_TLH9mHMfCO",
        "outputId": "ee1093e6-a478-48d5-807e-402a3424c172",
        "colab": {
          "base_uri": "https://localhost:8080/"
        }
      },
      "source": [
        "from sklearn import ensemble\n",
        "rf2 = ensemble.RandomForestRegressor(n_estimators=100, max_depth=3,\n",
        "                                     random_state=0)\n",
        "rf2.fit(traindata2, train_weight)\n",
        "print(rf2.feature_importances_)"
      ],
      "execution_count": 29,
      "outputs": [
        {
          "output_type": "stream",
          "text": [
            "/usr/local/lib/python3.7/dist-packages/ipykernel_launcher.py:4: DataConversionWarning: A column-vector y was passed when a 1d array was expected. Please change the shape of y to (n_samples,), for example using ravel().\n",
            "  after removing the cwd from sys.path.\n"
          ],
          "name": "stderr"
        },
        {
          "output_type": "stream",
          "text": [
            "[0.34215823 0.         0.05086311 0.         0.00755318 0.0176836\n",
            " 0.         0.         0.02206185 0.         0.         0.\n",
            " 0.         0.         0.         0.         0.         0.04790643\n",
            " 0.5117736 ]\n"
          ],
          "name": "stdout"
        }
      ]
    },
    {
      "cell_type": "code",
      "metadata": {
        "id": "w3G5HHfdP0UF",
        "outputId": "8bf94b3e-5d76-4d79-95f4-b608b3afa902",
        "colab": {
          "base_uri": "https://localhost:8080/"
        }
      },
      "source": [
        "print(rf2.score)"
      ],
      "execution_count": 30,
      "outputs": [
        {
          "output_type": "stream",
          "text": [
            "<bound method RegressorMixin.score of RandomForestRegressor(bootstrap=True, ccp_alpha=0.0, criterion='mse',\n",
            "                      max_depth=3, max_features='auto', max_leaf_nodes=None,\n",
            "                      max_samples=None, min_impurity_decrease=0.0,\n",
            "                      min_impurity_split=None, min_samples_leaf=1,\n",
            "                      min_samples_split=2, min_weight_fraction_leaf=0.0,\n",
            "                      n_estimators=100, n_jobs=None, oob_score=False,\n",
            "                      random_state=0, verbose=0, warm_start=False)>\n"
          ],
          "name": "stdout"
        }
      ]
    },
    {
      "cell_type": "code",
      "metadata": {
        "id": "rFNXOqT5QPJV",
        "outputId": "a38fe6f5-a244-41c0-8b55-4e83e5f9b4c9",
        "colab": {
          "base_uri": "https://localhost:8080/"
        }
      },
      "source": [
        "rf2.predict(testdata2)"
      ],
      "execution_count": 31,
      "outputs": [
        {
          "output_type": "execute_result",
          "data": {
            "text/plain": [
              "array([1.0416461 , 0.93019922, 1.92966471, ..., 0.43503809, 1.97828446,\n",
              "       2.83394082])"
            ]
          },
          "metadata": {
            "tags": []
          },
          "execution_count": 31
        }
      ]
    },
    {
      "cell_type": "code",
      "metadata": {
        "id": "uCEJrragQjVk",
        "outputId": "11d1a701-b3ee-408d-9c97-5cfd75f80cca",
        "colab": {
          "base_uri": "https://localhost:8080/"
        }
      },
      "source": [
        "from sklearn.ensemble import GradientBoostingRegressor \n",
        "gbt2 = GradientBoostingRegressor(random_state=0)\n",
        "gbt2.fit(traindata2, train_weight)  \n",
        "print(gbt2.feature_importances_)\n"
      ],
      "execution_count": 32,
      "outputs": [
        {
          "output_type": "stream",
          "text": [
            "/usr/local/lib/python3.7/dist-packages/sklearn/ensemble/_gb.py:1454: DataConversionWarning: A column-vector y was passed when a 1d array was expected. Please change the shape of y to (n_samples, ), for example using ravel().\n",
            "  y = column_or_1d(y, warn=True)\n"
          ],
          "name": "stderr"
        },
        {
          "output_type": "stream",
          "text": [
            "[2.92550018e-01 6.67362679e-02 4.55961519e-02 2.95793221e-02\n",
            " 1.25082539e-02 9.71070434e-02 6.86037362e-03 4.84976968e-02\n",
            " 6.30954667e-02 1.44357188e-03 0.00000000e+00 2.09665144e-04\n",
            " 2.02500138e-03 0.00000000e+00 5.11620295e-03 0.00000000e+00\n",
            " 3.43472152e-02 1.20425610e-02 2.82285188e-01]\n"
          ],
          "name": "stdout"
        }
      ]
    },
    {
      "cell_type": "code",
      "metadata": {
        "id": "IqqbVdsUSarE",
        "outputId": "71d2cc51-1387-4383-dfcc-bda07c378492",
        "colab": {
          "base_uri": "https://localhost:8080/"
        }
      },
      "source": [
        "print(\"RF score from sklearn {:.1f}\".format(rf2.score(testdata2, test_weight.values)))"
      ],
      "execution_count": 33,
      "outputs": [
        {
          "output_type": "stream",
          "text": [
            "RF score from sklearn 0.5\n"
          ],
          "name": "stdout"
        }
      ]
    },
    {
      "cell_type": "code",
      "metadata": {
        "id": "OXLyHJtfSbuT",
        "outputId": "a933ed5b-33f7-447b-de30-a0e1fba99a90",
        "colab": {
          "base_uri": "https://localhost:8080/"
        }
      },
      "source": [
        "print(\"GBT score from sklearn {:.1f}\".format(gbt2.score(testdata2, test_weight.values)))"
      ],
      "execution_count": 34,
      "outputs": [
        {
          "output_type": "stream",
          "text": [
            "GBT score from sklearn 0.6\n"
          ],
          "name": "stdout"
        }
      ]
    },
    {
      "cell_type": "code",
      "metadata": {
        "id": "Xs3u8qGSydZ1",
        "outputId": "42cf9122-0d18-4788-c75b-6d2dff3032e8",
        "colab": {
          "base_uri": "https://localhost:8080/"
        }
      },
      "source": [
        "rf.predict(testdata)"
      ],
      "execution_count": 35,
      "outputs": [
        {
          "output_type": "execute_result",
          "data": {
            "text/plain": [
              "array(['s', 'b', 's', ..., 's', 'b', 'b'], dtype=object)"
            ]
          },
          "metadata": {
            "tags": []
          },
          "execution_count": 35
        }
      ]
    },
    {
      "cell_type": "code",
      "metadata": {
        "id": "R9XHXlAn1T-I",
        "outputId": "e1e4d0d8-30a4-4ebf-948c-87faaa30b734",
        "colab": {
          "base_uri": "https://localhost:8080/"
        }
      },
      "source": [
        "rf.feature_importances_"
      ],
      "execution_count": 42,
      "outputs": [
        {
          "output_type": "execute_result",
          "data": {
            "text/plain": [
              "array([0.1254734 , 0.13046129, 0.04910408, 0.07476513, 0.0386615 ,\n",
              "       0.0426589 , 0.05626757, 0.07477338, 0.07230136, 0.03281533,\n",
              "       0.03055287, 0.0365108 , 0.03493177, 0.03030776, 0.06658211,\n",
              "       0.03037803, 0.03595682, 0.0094732 , 0.02802472])"
            ]
          },
          "metadata": {
            "tags": []
          },
          "execution_count": 42
        }
      ]
    },
    {
      "cell_type": "code",
      "metadata": {
        "id": "A4hL7JED1qdz",
        "outputId": "01e95d87-143d-4674-e3df-f0cd865c8f97",
        "colab": {
          "base_uri": "https://localhost:8080/"
        }
      },
      "source": [
        "np.argsort(rf.feature_importances_)"
      ],
      "execution_count": 45,
      "outputs": [
        {
          "output_type": "execute_result",
          "data": {
            "text/plain": [
              "array([17, 18, 13, 15, 10,  9, 12, 16, 11,  4,  5,  2,  6, 14,  8,  3,  7,\n",
              "        0,  1])"
            ]
          },
          "metadata": {
            "tags": []
          },
          "execution_count": 45
        }
      ]
    },
    {
      "cell_type": "code",
      "metadata": {
        "id": "fJ2tj0FN1Ajy",
        "outputId": "7e2bc169-fc93-41a0-e5eb-227e7ed43bf7",
        "colab": {
          "base_uri": "https://localhost:8080/"
        }
      },
      "source": [
        "np.argsort(rf.feature_importances_)[-4:] "
      ],
      "execution_count": 44,
      "outputs": [
        {
          "output_type": "execute_result",
          "data": {
            "text/plain": [
              "array([3, 7, 0, 1])"
            ]
          },
          "metadata": {
            "tags": []
          },
          "execution_count": 44
        }
      ]
    },
    {
      "cell_type": "code",
      "metadata": {
        "id": "nZsaWN7g2Ocp",
        "outputId": "ff0782b7-ab60-4e4d-b526-1af058ad96c9",
        "colab": {
          "base_uri": "https://localhost:8080/"
        }
      },
      "source": [
        "best_features = rf.feature_importances_[np.argsort(rf.feature_importances_)[-4:]]\n",
        "best_features\n",
        "#prendo gli ultimi 4 che sono\n",
        "#quelli più grandi, quindi the best features "
      ],
      "execution_count": 46,
      "outputs": [
        {
          "output_type": "execute_result",
          "data": {
            "text/plain": [
              "array([0.07476513, 0.07477338, 0.1254734 , 0.13046129])"
            ]
          },
          "metadata": {
            "tags": []
          },
          "execution_count": 46
        }
      ]
    },
    {
      "cell_type": "code",
      "metadata": {
        "id": "nCamhOlM2Thx",
        "outputId": "1ee6ee59-4a55-4be9-dee9-08be9926ae58",
        "colab": {
          "base_uri": "https://localhost:8080/",
          "height": 435
        }
      },
      "source": [
        "traindata2.iloc[:, best_features]"
      ],
      "execution_count": 51,
      "outputs": [
        {
          "output_type": "execute_result",
          "data": {
            "text/html": [
              "<div>\n",
              "<style scoped>\n",
              "    .dataframe tbody tr th:only-of-type {\n",
              "        vertical-align: middle;\n",
              "    }\n",
              "\n",
              "    .dataframe tbody tr th {\n",
              "        vertical-align: top;\n",
              "    }\n",
              "\n",
              "    .dataframe thead th {\n",
              "        text-align: right;\n",
              "    }\n",
              "</style>\n",
              "<table border=\"1\" class=\"dataframe\">\n",
              "  <thead>\n",
              "    <tr style=\"text-align: right;\">\n",
              "      <th></th>\n",
              "      <th>DER_mass_transverse_met_lep</th>\n",
              "      <th>DER_mass_transverse_met_lep</th>\n",
              "      <th>DER_mass_transverse_met_lep</th>\n",
              "      <th>DER_mass_transverse_met_lep</th>\n",
              "    </tr>\n",
              "  </thead>\n",
              "  <tbody>\n",
              "    <tr>\n",
              "      <th>168601</th>\n",
              "      <td>78.176</td>\n",
              "      <td>78.176</td>\n",
              "      <td>78.176</td>\n",
              "      <td>78.176</td>\n",
              "    </tr>\n",
              "    <tr>\n",
              "      <th>247644</th>\n",
              "      <td>51.736</td>\n",
              "      <td>51.736</td>\n",
              "      <td>51.736</td>\n",
              "      <td>51.736</td>\n",
              "    </tr>\n",
              "    <tr>\n",
              "      <th>205247</th>\n",
              "      <td>54.941</td>\n",
              "      <td>54.941</td>\n",
              "      <td>54.941</td>\n",
              "      <td>54.941</td>\n",
              "    </tr>\n",
              "    <tr>\n",
              "      <th>233035</th>\n",
              "      <td>47.390</td>\n",
              "      <td>47.390</td>\n",
              "      <td>47.390</td>\n",
              "      <td>47.390</td>\n",
              "    </tr>\n",
              "    <tr>\n",
              "      <th>239886</th>\n",
              "      <td>84.896</td>\n",
              "      <td>84.896</td>\n",
              "      <td>84.896</td>\n",
              "      <td>84.896</td>\n",
              "    </tr>\n",
              "    <tr>\n",
              "      <th>...</th>\n",
              "      <td>...</td>\n",
              "      <td>...</td>\n",
              "      <td>...</td>\n",
              "      <td>...</td>\n",
              "    </tr>\n",
              "    <tr>\n",
              "      <th>229119</th>\n",
              "      <td>41.162</td>\n",
              "      <td>41.162</td>\n",
              "      <td>41.162</td>\n",
              "      <td>41.162</td>\n",
              "    </tr>\n",
              "    <tr>\n",
              "      <th>5192</th>\n",
              "      <td>18.385</td>\n",
              "      <td>18.385</td>\n",
              "      <td>18.385</td>\n",
              "      <td>18.385</td>\n",
              "    </tr>\n",
              "    <tr>\n",
              "      <th>208780</th>\n",
              "      <td>70.622</td>\n",
              "      <td>70.622</td>\n",
              "      <td>70.622</td>\n",
              "      <td>70.622</td>\n",
              "    </tr>\n",
              "    <tr>\n",
              "      <th>229611</th>\n",
              "      <td>29.671</td>\n",
              "      <td>29.671</td>\n",
              "      <td>29.671</td>\n",
              "      <td>29.671</td>\n",
              "    </tr>\n",
              "    <tr>\n",
              "      <th>128037</th>\n",
              "      <td>53.675</td>\n",
              "      <td>53.675</td>\n",
              "      <td>53.675</td>\n",
              "      <td>53.675</td>\n",
              "    </tr>\n",
              "  </tbody>\n",
              "</table>\n",
              "<p>187500 rows × 4 columns</p>\n",
              "</div>"
            ],
            "text/plain": [
              "        DER_mass_transverse_met_lep  ...  DER_mass_transverse_met_lep\n",
              "168601                       78.176  ...                       78.176\n",
              "247644                       51.736  ...                       51.736\n",
              "205247                       54.941  ...                       54.941\n",
              "233035                       47.390  ...                       47.390\n",
              "239886                       84.896  ...                       84.896\n",
              "...                             ...  ...                          ...\n",
              "229119                       41.162  ...                       41.162\n",
              "5192                         18.385  ...                       18.385\n",
              "208780                       70.622  ...                       70.622\n",
              "229611                       29.671  ...                       29.671\n",
              "128037                       53.675  ...                       53.675\n",
              "\n",
              "[187500 rows x 4 columns]"
            ]
          },
          "metadata": {
            "tags": []
          },
          "execution_count": 51
        }
      ]
    },
    {
      "cell_type": "code",
      "metadata": {
        "id": "m2x3Jjma3R9x",
        "outputId": "da4618a6-1649-4da7-8ca9-6fc8c96db933",
        "colab": {
          "base_uri": "https://localhost:8080/"
        }
      },
      "source": [
        "from sklearn.model_selection import RandomizedSearchCV\n",
        "import numpy as np\n",
        "# Number of trees in random forest\n",
        "n_estimators = [10,100,1000]\n",
        "# Number of features to consider at every split\n",
        "max_features = ['auto', 'sqrt']\n",
        "# Maximum number of levels in tree\n",
        "max_depth = [3,10,100]\n",
        "max_depth.append(None)\n",
        "# Minimum number of samples required to split a node\n",
        "#min_samples_split = [2, 5, 10]\n",
        "# Minimum number of samples required at each leaf node\n",
        "##min_samples_leaf = [1, 2, 4]\n",
        "# Method of selecting samples for training each tree\n",
        "bootstrap = [True, False]\n",
        "# Create the random grid\n",
        "random_grid = {'n_estimators': n_estimators,\n",
        "               'max_features': max_features,\n",
        "               'max_depth': max_depth,\n",
        "               #'min_samples_split': min_samples_split,\n",
        "               #'min_samples_leaf': min_samples_leaf,\n",
        "               #'bootstrap': bootstrap\n",
        "               }\n",
        "print(random_grid)\n"
      ],
      "execution_count": 53,
      "outputs": [
        {
          "output_type": "stream",
          "text": [
            "{'n_estimators': [10, 100, 1000], 'max_features': ['auto', 'sqrt'], 'max_depth': [3, 10, 100, None]}\n"
          ],
          "name": "stdout"
        }
      ]
    },
    {
      "cell_type": "code",
      "metadata": {
        "id": "HjLm0RV93Xgp"
      },
      "source": [
        "# Use the random grid to search for best hyperparameters\n",
        "# First create the base model to tune\n",
        "# Random search of parameters, using 3 fold cross validation, \n",
        "# n_iter is the sampling along each axis, and use all available cores\n",
        "random_search = RandomizedSearchCV(\n",
        "    estimator = rf, param_distributions=random_grid, random_state=123, verbose=3,\n",
        "                                   n_iter=15, cv=4, iid=False, n_jobs=-1)"
      ],
      "execution_count": 55,
      "outputs": []
    },
    {
      "cell_type": "code",
      "metadata": {
        "id": "E1KVs85R-RLg",
        "outputId": "658ac65f-e89a-4425-8011-faa8e4fd5a74",
        "colab": {
          "base_uri": "https://localhost:8080/",
          "height": 35
        }
      },
      "source": [
        "pwd"
      ],
      "execution_count": 73,
      "outputs": [
        {
          "output_type": "execute_result",
          "data": {
            "application/vnd.google.colaboratory.intrinsic+json": {
              "type": "string"
            },
            "text/plain": [
              "'/content/drive/My Drive/higgsb'"
            ]
          },
          "metadata": {
            "tags": []
          },
          "execution_count": 73
        }
      ]
    }
  ]
}