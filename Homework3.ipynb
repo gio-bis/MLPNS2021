{
  "nbformat": 4,
  "nbformat_minor": 0,
  "metadata": {
    "colab": {
      "name": "Homework3.ipynb",
      "provenance": [],
      "authorship_tag": "ABX9TyPpmglts5b9DzU1WfzVxRfu",
      "include_colab_link": true
    },
    "kernelspec": {
      "name": "python3",
      "display_name": "Python 3"
    },
    "language_info": {
      "name": "python"
    }
  },
  "cells": [
    {
      "cell_type": "markdown",
      "metadata": {
        "id": "view-in-github",
        "colab_type": "text"
      },
      "source": [
        "<a href=\"https://colab.research.google.com/github/gio-bis/MLPNS2021/blob/main/Homework3.ipynb\" target=\"_parent\"><img src=\"https://colab.research.google.com/assets/colab-badge.svg\" alt=\"Open In Colab\"/></a>"
      ]
    },
    {
      "cell_type": "code",
      "metadata": {
        "colab": {
          "base_uri": "https://localhost:8080/"
        },
        "id": "Pu2cwvIYAkQz",
        "outputId": "8b8a822a-3507-4838-cbdc-0e9bc19480bd"
      },
      "source": [
        "import pandas as pd\n",
        "import pylab as pl\n",
        "import scipy as sp\n",
        "from scipy import stats\n",
        "%pylab inline\n",
        "\n",
        "# I have created a stylesheet to define default plot behaviors. \n",
        "#This stylesheet changes the default parameters stored in the ictionary matplitlib.rcParams\n",
        "pl.style.use(\"https://raw.githubusercontent.com/fedhere/MLPNS2021/master/fbb.mplstyle\")\n",
        "pl.rcParams['font.size'] = 20"
      ],
      "execution_count": 74,
      "outputs": [
        {
          "output_type": "stream",
          "text": [
            "Populating the interactive namespace from numpy and matplotlib\n"
          ],
          "name": "stdout"
        },
        {
          "output_type": "stream",
          "text": [
            "/usr/local/lib/python3.7/dist-packages/IPython/core/magics/pylab.py:161: UserWarning: pylab import has clobbered these variables: ['f', 'ndim']\n",
            "`%matplotlib` prevents importing * from pylab and numpy\n",
            "  \"\\n`%matplotlib` prevents importing * from pylab and numpy\"\n"
          ],
          "name": "stderr"
        }
      ]
    },
    {
      "cell_type": "code",
      "metadata": {
        "id": "s1CBSXG0OaBv"
      },
      "source": [
        "grbAG = pd.read_csv(\"https://raw.githubusercontent.com/fedhere/MLPNS2021/main/HW3_LinearRegression/grb050525A.csv\")"
      ],
      "execution_count": 75,
      "outputs": []
    },
    {
      "cell_type": "code",
      "metadata": {
        "colab": {
          "base_uri": "https://localhost:8080/",
          "height": 415
        },
        "id": "ylN7uVlyQC4-",
        "outputId": "0ea54697-b334-4838-de46-c9bc48802053"
      },
      "source": [
        "grbAG"
      ],
      "execution_count": 76,
      "outputs": [
        {
          "output_type": "execute_result",
          "data": {
            "text/html": [
              "<div>\n",
              "<style scoped>\n",
              "    .dataframe tbody tr th:only-of-type {\n",
              "        vertical-align: middle;\n",
              "    }\n",
              "\n",
              "    .dataframe tbody tr th {\n",
              "        vertical-align: top;\n",
              "    }\n",
              "\n",
              "    .dataframe thead th {\n",
              "        text-align: right;\n",
              "    }\n",
              "</style>\n",
              "<table border=\"1\" class=\"dataframe\">\n",
              "  <thead>\n",
              "    <tr style=\"text-align: right;\">\n",
              "      <th></th>\n",
              "      <th>filter</th>\n",
              "      <th>time</th>\n",
              "      <th>mag</th>\n",
              "      <th>magerr</th>\n",
              "      <th>upperlimit</th>\n",
              "    </tr>\n",
              "  </thead>\n",
              "  <tbody>\n",
              "    <tr>\n",
              "      <th>0</th>\n",
              "      <td>V</td>\n",
              "      <td>66</td>\n",
              "      <td>13.21</td>\n",
              "      <td>0.24</td>\n",
              "      <td>0</td>\n",
              "    </tr>\n",
              "    <tr>\n",
              "      <th>1</th>\n",
              "      <td>V</td>\n",
              "      <td>67</td>\n",
              "      <td>12.90</td>\n",
              "      <td>0.23</td>\n",
              "      <td>0</td>\n",
              "    </tr>\n",
              "    <tr>\n",
              "      <th>2</th>\n",
              "      <td>V</td>\n",
              "      <td>68</td>\n",
              "      <td>12.86</td>\n",
              "      <td>0.23</td>\n",
              "      <td>0</td>\n",
              "    </tr>\n",
              "    <tr>\n",
              "      <th>3</th>\n",
              "      <td>V</td>\n",
              "      <td>69</td>\n",
              "      <td>13.01</td>\n",
              "      <td>0.23</td>\n",
              "      <td>0</td>\n",
              "    </tr>\n",
              "    <tr>\n",
              "      <th>4</th>\n",
              "      <td>V</td>\n",
              "      <td>70</td>\n",
              "      <td>12.97</td>\n",
              "      <td>0.23</td>\n",
              "      <td>0</td>\n",
              "    </tr>\n",
              "    <tr>\n",
              "      <th>...</th>\n",
              "      <td>...</td>\n",
              "      <td>...</td>\n",
              "      <td>...</td>\n",
              "      <td>...</td>\n",
              "      <td>...</td>\n",
              "    </tr>\n",
              "    <tr>\n",
              "      <th>114</th>\n",
              "      <td>W1</td>\n",
              "      <td>63738</td>\n",
              "      <td>NaN</td>\n",
              "      <td>21.20</td>\n",
              "      <td>1</td>\n",
              "    </tr>\n",
              "    <tr>\n",
              "      <th>115</th>\n",
              "      <td>M2</td>\n",
              "      <td>74798</td>\n",
              "      <td>NaN</td>\n",
              "      <td>21.59</td>\n",
              "      <td>1</td>\n",
              "    </tr>\n",
              "    <tr>\n",
              "      <th>116</th>\n",
              "      <td>U</td>\n",
              "      <td>128928</td>\n",
              "      <td>NaN</td>\n",
              "      <td>20.05</td>\n",
              "      <td>1</td>\n",
              "    </tr>\n",
              "    <tr>\n",
              "      <th>117</th>\n",
              "      <td>V</td>\n",
              "      <td>971360</td>\n",
              "      <td>NaN</td>\n",
              "      <td>22.09</td>\n",
              "      <td>1</td>\n",
              "    </tr>\n",
              "    <tr>\n",
              "      <th>118</th>\n",
              "      <td>V</td>\n",
              "      <td>1171176</td>\n",
              "      <td>NaN</td>\n",
              "      <td>21.16</td>\n",
              "      <td>1</td>\n",
              "    </tr>\n",
              "  </tbody>\n",
              "</table>\n",
              "<p>119 rows × 5 columns</p>\n",
              "</div>"
            ],
            "text/plain": [
              "    filter     time    mag  magerr  upperlimit\n",
              "0        V       66  13.21    0.24           0\n",
              "1        V       67  12.90    0.23           0\n",
              "2        V       68  12.86    0.23           0\n",
              "3        V       69  13.01    0.23           0\n",
              "4        V       70  12.97    0.23           0\n",
              "..     ...      ...    ...     ...         ...\n",
              "114     W1    63738    NaN   21.20           1\n",
              "115     M2    74798    NaN   21.59           1\n",
              "116      U   128928    NaN   20.05           1\n",
              "117      V   971360    NaN   22.09           1\n",
              "118      V  1171176    NaN   21.16           1\n",
              "\n",
              "[119 rows x 5 columns]"
            ]
          },
          "metadata": {
            "tags": []
          },
          "execution_count": 76
        }
      ]
    },
    {
      "cell_type": "code",
      "metadata": {
        "id": "uNwiJNiYPl7R"
      },
      "source": [
        "grbAG[\"logtime\"]  = np.log10(grbAG[\"time\"])"
      ],
      "execution_count": 77,
      "outputs": []
    },
    {
      "cell_type": "code",
      "metadata": {
        "colab": {
          "base_uri": "https://localhost:8080/",
          "height": 415
        },
        "id": "zBj77QXmQ0fj",
        "outputId": "41fece28-8613-4868-f016-4a0319199b74"
      },
      "source": [
        "grbAG"
      ],
      "execution_count": 78,
      "outputs": [
        {
          "output_type": "execute_result",
          "data": {
            "text/html": [
              "<div>\n",
              "<style scoped>\n",
              "    .dataframe tbody tr th:only-of-type {\n",
              "        vertical-align: middle;\n",
              "    }\n",
              "\n",
              "    .dataframe tbody tr th {\n",
              "        vertical-align: top;\n",
              "    }\n",
              "\n",
              "    .dataframe thead th {\n",
              "        text-align: right;\n",
              "    }\n",
              "</style>\n",
              "<table border=\"1\" class=\"dataframe\">\n",
              "  <thead>\n",
              "    <tr style=\"text-align: right;\">\n",
              "      <th></th>\n",
              "      <th>filter</th>\n",
              "      <th>time</th>\n",
              "      <th>mag</th>\n",
              "      <th>magerr</th>\n",
              "      <th>upperlimit</th>\n",
              "      <th>logtime</th>\n",
              "    </tr>\n",
              "  </thead>\n",
              "  <tbody>\n",
              "    <tr>\n",
              "      <th>0</th>\n",
              "      <td>V</td>\n",
              "      <td>66</td>\n",
              "      <td>13.21</td>\n",
              "      <td>0.24</td>\n",
              "      <td>0</td>\n",
              "      <td>1.819544</td>\n",
              "    </tr>\n",
              "    <tr>\n",
              "      <th>1</th>\n",
              "      <td>V</td>\n",
              "      <td>67</td>\n",
              "      <td>12.90</td>\n",
              "      <td>0.23</td>\n",
              "      <td>0</td>\n",
              "      <td>1.826075</td>\n",
              "    </tr>\n",
              "    <tr>\n",
              "      <th>2</th>\n",
              "      <td>V</td>\n",
              "      <td>68</td>\n",
              "      <td>12.86</td>\n",
              "      <td>0.23</td>\n",
              "      <td>0</td>\n",
              "      <td>1.832509</td>\n",
              "    </tr>\n",
              "    <tr>\n",
              "      <th>3</th>\n",
              "      <td>V</td>\n",
              "      <td>69</td>\n",
              "      <td>13.01</td>\n",
              "      <td>0.23</td>\n",
              "      <td>0</td>\n",
              "      <td>1.838849</td>\n",
              "    </tr>\n",
              "    <tr>\n",
              "      <th>4</th>\n",
              "      <td>V</td>\n",
              "      <td>70</td>\n",
              "      <td>12.97</td>\n",
              "      <td>0.23</td>\n",
              "      <td>0</td>\n",
              "      <td>1.845098</td>\n",
              "    </tr>\n",
              "    <tr>\n",
              "      <th>...</th>\n",
              "      <td>...</td>\n",
              "      <td>...</td>\n",
              "      <td>...</td>\n",
              "      <td>...</td>\n",
              "      <td>...</td>\n",
              "      <td>...</td>\n",
              "    </tr>\n",
              "    <tr>\n",
              "      <th>114</th>\n",
              "      <td>W1</td>\n",
              "      <td>63738</td>\n",
              "      <td>NaN</td>\n",
              "      <td>21.20</td>\n",
              "      <td>1</td>\n",
              "      <td>4.804398</td>\n",
              "    </tr>\n",
              "    <tr>\n",
              "      <th>115</th>\n",
              "      <td>M2</td>\n",
              "      <td>74798</td>\n",
              "      <td>NaN</td>\n",
              "      <td>21.59</td>\n",
              "      <td>1</td>\n",
              "      <td>4.873890</td>\n",
              "    </tr>\n",
              "    <tr>\n",
              "      <th>116</th>\n",
              "      <td>U</td>\n",
              "      <td>128928</td>\n",
              "      <td>NaN</td>\n",
              "      <td>20.05</td>\n",
              "      <td>1</td>\n",
              "      <td>5.110347</td>\n",
              "    </tr>\n",
              "    <tr>\n",
              "      <th>117</th>\n",
              "      <td>V</td>\n",
              "      <td>971360</td>\n",
              "      <td>NaN</td>\n",
              "      <td>22.09</td>\n",
              "      <td>1</td>\n",
              "      <td>5.987380</td>\n",
              "    </tr>\n",
              "    <tr>\n",
              "      <th>118</th>\n",
              "      <td>V</td>\n",
              "      <td>1171176</td>\n",
              "      <td>NaN</td>\n",
              "      <td>21.16</td>\n",
              "      <td>1</td>\n",
              "      <td>6.068622</td>\n",
              "    </tr>\n",
              "  </tbody>\n",
              "</table>\n",
              "<p>119 rows × 6 columns</p>\n",
              "</div>"
            ],
            "text/plain": [
              "    filter     time    mag  magerr  upperlimit   logtime\n",
              "0        V       66  13.21    0.24           0  1.819544\n",
              "1        V       67  12.90    0.23           0  1.826075\n",
              "2        V       68  12.86    0.23           0  1.832509\n",
              "3        V       69  13.01    0.23           0  1.838849\n",
              "4        V       70  12.97    0.23           0  1.845098\n",
              "..     ...      ...    ...     ...         ...       ...\n",
              "114     W1    63738    NaN   21.20           1  4.804398\n",
              "115     M2    74798    NaN   21.59           1  4.873890\n",
              "116      U   128928    NaN   20.05           1  5.110347\n",
              "117      V   971360    NaN   22.09           1  5.987380\n",
              "118      V  1171176    NaN   21.16           1  6.068622\n",
              "\n",
              "[119 rows x 6 columns]"
            ]
          },
          "metadata": {
            "tags": []
          },
          "execution_count": 78
        }
      ]
    },
    {
      "cell_type": "code",
      "metadata": {
        "colab": {
          "base_uri": "https://localhost:8080/",
          "height": 625
        },
        "id": "wgmBaLzxQ6dX",
        "outputId": "0cd1c574-9537-4136-d7ec-c1e4d15f984b"
      },
      "source": [
        "#create a figure container and an axis object inside of it\n",
        "ax = pl.figure(figsize=(10,10)).add_subplot(111)\n",
        "    \n",
        "#loop on every filter to plot - this will give differnt colors naturally. \n",
        "#Use pl.errorbar to plot the uncertainties\n",
        "\n",
        "for f in grbAG[\"filter\"].unique():\n",
        "    pl.errorbar(grbAG.loc[grbAG[\"filter\"] == f, \"logtime\"], \n",
        "                grbAG.loc[grbAG[\"filter\"] == f, \"mag\"], \n",
        "                yerr=grbAG.loc[grbAG[\"filter\"] == f, \"magerr\"], fmt='.', ms=0,\n",
        "                fcolor=None, label=None)\n",
        "    \n",
        "# replot to add a better marker (optional)\n",
        "for f in grbAG[\"filter\"].unique():\n",
        "    pl.scatter(grbAG.loc[grbAG[\"filter\"] == f, \"logtime\"], \n",
        "               grbAG.loc[grbAG[\"filter\"] == f, \"mag\"], \n",
        "               alpha=1, s=100, linewidth=2,\n",
        "               label=f,\n",
        "               edgecolor='#cccccc')\n",
        "    \n",
        "\n",
        "# plot the upperlimits as arrows\n",
        "nuplim = grbAG.mag.isna().sum()\n",
        "for i in grbAG[grbAG.upperlimit == 1].index:\n",
        "    pl.arrow(grbAG.loc[i].logtime, \n",
        "             grbAG.loc[i].magerr, 0, 2, \n",
        "            head_width=0.05, head_length=0.1, ec='k')\n",
        "\n",
        "# I am going to invert the y axis because the \"magnitude\" measurement is an inverse scale: brighter is smaller\n",
        "pl.ylim(24,11.7)          \n",
        "pl.legend()\n",
        "\n",
        "#Always rememebr you axis labels!!\n",
        "pl.ylabel(\"magnitude\", fontsize=20)\n",
        "pl.xlabel(\"log time\", fontsize=20);"
      ],
      "execution_count": 79,
      "outputs": [
        {
          "output_type": "display_data",
          "data": {
            "image/png": "[encoded data removed]",
            "text/plain": [
              "<Figure size 720x720 with 1 Axes>"
            ]
          },
          "metadata": {
            "tags": []
          }
        }
      ]
    },
    {
      "cell_type": "markdown",
      "metadata": {
        "id": "yf3IljJURefe"
      },
      "source": [
        "Figure 1: Photometry of the Afterglow of GRB 052505A. All photometry is from the Swift satellite and it is obtained from Table 3 of Blustin et al. 2005 https://arxiv.org/pdf/astro-ph/0507515.pdf. The photometric band for each datapoint is indicated in the legend. Time is relative from the estimated moment of explosion of the stellar progenitor. Upperlimits are indicated by down-pointing arrows."
      ]
    },
    {
      "cell_type": "code",
      "metadata": {
        "id": "cLxqp-u5RfGY"
      },
      "source": [
        "x = grbAG[grbAG.upperlimit == 0].logtime\n",
        "X = np.c_[np.ones((len(grbAG) - grbAG.upperlimit.sum(), 1)), x]\n",
        "y = grbAG.loc[grbAG.upperlimit == 0].mag"
      ],
      "execution_count": 80,
      "outputs": []
    },
    {
      "cell_type": "code",
      "metadata": {
        "colab": {
          "base_uri": "https://localhost:8080/"
        },
        "id": "Q-JzV1kzGHDe",
        "outputId": "25ad0bad-7dbc-48c2-ae51-6953db39df57"
      },
      "source": [
        "X.shape"
      ],
      "execution_count": 81,
      "outputs": [
        {
          "output_type": "execute_result",
          "data": {
            "text/plain": [
              "(108, 2)"
            ]
          },
          "metadata": {
            "tags": []
          },
          "execution_count": 81
        }
      ]
    },
    {
      "cell_type": "code",
      "metadata": {
        "colab": {
          "base_uri": "https://localhost:8080/"
        },
        "id": "UikVM0EdGIyq",
        "outputId": "6ad03be7-7d2c-464f-b54a-b04caa1166d9"
      },
      "source": [
        "y.shape"
      ],
      "execution_count": 82,
      "outputs": [
        {
          "output_type": "execute_result",
          "data": {
            "text/plain": [
              "(108,)"
            ]
          },
          "metadata": {
            "tags": []
          },
          "execution_count": 82
        }
      ]
    },
    {
      "cell_type": "code",
      "metadata": {
        "id": "ZDoYKajYT4v-"
      },
      "source": [
        "theta_best = np.linalg.inv(X.T.dot(X)).dot(X.T).dot(y)"
      ],
      "execution_count": 83,
      "outputs": []
    },
    {
      "cell_type": "code",
      "metadata": {
        "colab": {
          "base_uri": "https://localhost:8080/"
        },
        "id": "baexID3fUklT",
        "outputId": "7a771d66-9417-4665-a73e-2ab39c795282"
      },
      "source": [
        "print (\"best fit parameters from the Normal Equation: intercept {:.2f}, slope {:.2f}\".format(*theta_best))"
      ],
      "execution_count": 84,
      "outputs": [
        {
          "output_type": "stream",
          "text": [
            "best fit parameters from the Normal Equation: intercept 8.58, slope 2.51\n"
          ],
          "name": "stdout"
        }
      ]
    },
    {
      "cell_type": "markdown",
      "metadata": {
        "id": "xZxn5xtOJAEX"
      },
      "source": [
        "##Fit a line to the data (excluding the upper limits) with sklearn LinearRegression"
      ]
    },
    {
      "cell_type": "code",
      "metadata": {
        "colab": {
          "base_uri": "https://localhost:8080/"
        },
        "id": "IJeEkTXAI6po",
        "outputId": "93e94eca-0043-46ee-cf22-58f4bf6468be"
      },
      "source": [
        "from sklearn.linear_model import LinearRegression\n",
        "lr = LinearRegression()\n",
        "\n",
        "lr.fit(X, y)\n",
        "print (\"best fit parameters from the sklearn LinearRegression(): \" + \n",
        "       \"intercept {:.2f}, slope {:.2f}\".format(lr.intercept_, lr.coef_[1]))"
      ],
      "execution_count": 85,
      "outputs": [
        {
          "output_type": "stream",
          "text": [
            "best fit parameters from the sklearn LinearRegression(): intercept 8.58, slope 2.51\n"
          ],
          "name": "stdout"
        }
      ]
    },
    {
      "cell_type": "markdown",
      "metadata": {
        "id": "sIqszDF6T3hG"
      },
      "source": [
        "##Fit a line to the data (excluding the upper limits) by minimizing an objective function"
      ]
    },
    {
      "cell_type": "code",
      "metadata": {
        "colab": {
          "base_uri": "https://localhost:8080/"
        },
        "id": "_Z9-ywd7Txsq",
        "outputId": "8215e43f-dfbe-4f6a-e12e-32c2e2bde3d5"
      },
      "source": [
        "from scipy.optimize import minimize\n",
        "\n",
        "def line(x, intercept, slope):\n",
        "    return slope * x + intercept\n",
        "def l1(args, x, y):\n",
        "    a, b = args\n",
        "    return sum(np.abs(y - line(a, b, x)))\n",
        "\n",
        "initialGuess = (10, 1)\n",
        "\n",
        "l1Solution = minimize(l1, initialGuess, args=(x, y))\n",
        "print(l1Solution)\n",
        "print(\"\")\n",
        "print(\"best fit parameters from the minimization of L1: \" + \n",
        "       \"slope {:.2f}, intercept {:.2f}\".format(*l1Solution.x))"
      ],
      "execution_count": 86,
      "outputs": [
        {
          "output_type": "stream",
          "text": [
            "      fun: 26.303691403868047\n",
            " hess_inv: array([[ 9.24535720e-05, -1.93740490e-04],\n",
            "       [-1.93740490e-04,  1.19320831e-03]])\n",
            "      jac: array([1.61817122, 0.        ])\n",
            "  message: 'Desired error not necessarily achieved due to precision loss.'\n",
            "     nfev: 500\n",
            "      nit: 12\n",
            "     njev: 122\n",
            "   status: 2\n",
            "  success: False\n",
            "        x: array([2.64056468, 8.22612169])\n",
            "\n",
            "best fit parameters from the minimization of L1: slope 2.64, intercept 8.23\n"
          ],
          "name": "stdout"
        }
      ]
    },
    {
      "cell_type": "code",
      "metadata": {
        "id": "6Gys-SfnWZJt",
        "outputId": "5a3e1114-765d-447b-9e66-e25d843bc9eb",
        "colab": {
          "base_uri": "https://localhost:8080/"
        }
      },
      "source": [
        "def l2(args, x, y):\n",
        "    '''l2 target function: returns value of l2 for given arguments and data for a line model\n",
        "    arg: (array) model arguments (parameters)\n",
        "    x: the exogenous variable (array)\n",
        "    y: the exogenous variable (array)\n",
        "    returns L2 sum of difference between prediction and data squared\n",
        "    '''\n",
        "    a, b = args\n",
        "    return sum((y - line(a, b, x))**2)\n",
        "\n",
        "\n",
        "initialGuess = (10, 1)\n",
        "\n",
        "l2Solution = minimize(l2, initialGuess, args=(x, y))\n",
        "print(l2Solution)\n",
        "print(\"\")\n",
        "print(\"best fit parameters from the minimization of L2: \" + \n",
        "       \"slope {:.2f}, intercept {:.2f}\".format(*l2Solution.x))"
      ],
      "execution_count": 87,
      "outputs": [
        {
          "output_type": "stream",
          "text": [
            "      fun: 12.825987500725471\n",
            " hess_inv: array([[ 0.00711354, -0.02029726],\n",
            "       [-0.02029726,  0.06254437]])\n",
            "      jac: array([8.34465027e-07, 1.19209290e-07])\n",
            "  message: 'Optimization terminated successfully.'\n",
            "     nfev: 28\n",
            "      nit: 5\n",
            "     njev: 7\n",
            "   status: 0\n",
            "  success: True\n",
            "        x: array([2.51199977, 8.58266841])\n",
            "\n",
            "best fit parameters from the minimization of L2: slope 2.51, intercept 8.58\n"
          ],
          "name": "stdout"
        }
      ]
    },
    {
      "cell_type": "markdown",
      "metadata": {
        "id": "jbOHMUYUXNUH"
      },
      "source": [
        "##Fit a line to the data (excluding the upper limits) by minimizing an objective function that accounts for the measurements uncertainties"
      ]
    },
    {
      "cell_type": "markdown",
      "metadata": {
        "id": "1vQrcvzLXUwk"
      },
      "source": [
        "Since the data has uncertainty, choose the $\\chi^2$ (chi squared) function as your objective function."
      ]
    },
    {
      "cell_type": "code",
      "metadata": {
        "id": "KxxJEoZaXOLz",
        "outputId": "428a87ef-ff72-476f-a4e5-7477f5ff084b",
        "colab": {
          "base_uri": "https://localhost:8080/"
        }
      },
      "source": [
        "def chi2(args, x, y, s):\n",
        "    a, b = args\n",
        "    return sum((y - line(a, b, x))**2 / s**2)\n",
        "\n",
        "x = grbAG[grbAG.upperlimit == 0].logtime.values\n",
        "y = grbAG.loc[grbAG.upperlimit == 0].mag.values\n",
        "s = grbAG.loc[grbAG.upperlimit == 0].magerr.values\n",
        "\n",
        "initialGuess = (10, 1)\n",
        "\n",
        "chi2Solution = minimize(chi2, initialGuess, args=(x, y, s))\n",
        "print(chi2Solution)\n",
        "print(\"\")\n",
        "print(\"best fit parameters from the minimization of the chi squared: \" + \n",
        "       \"slope {:.2f}, intercept {:.2f}\".format(*chi2Solution.x))"
      ],
      "execution_count": 88,
      "outputs": [
        {
          "output_type": "stream",
          "text": [
            "      fun: 317.42066980131057\n",
            " hess_inv: array([[ 0.00020171, -0.00054289],\n",
            "       [-0.00054289,  0.00155851]])\n",
            "      jac: array([7.62939453e-06, 3.81469727e-06])\n",
            "  message: 'Optimization terminated successfully.'\n",
            "     nfev: 36\n",
            "      nit: 6\n",
            "     njev: 9\n",
            "   status: 0\n",
            "  success: True\n",
            "        x: array([2.48019101, 8.59948749])\n",
            "\n",
            "best fit parameters from the minimization of the chi squared: slope 2.48, intercept 8.60\n"
          ],
          "name": "stdout"
        }
      ]
    },
    {
      "cell_type": "markdown",
      "metadata": {
        "id": "lAri5FmlY34i"
      },
      "source": [
        "##Plot all the solutions"
      ]
    },
    {
      "cell_type": "code",
      "metadata": {
        "id": "H9tPFRftY5Yp",
        "outputId": "ca50b457-e366-4514-b216-f3f2329caabd",
        "colab": {
          "base_uri": "https://localhost:8080/",
          "height": 625
        }
      },
      "source": [
        "def plotline(pars, x, color='k', symbol='-', label='model', \n",
        "             alpha=1, ax=ax):\n",
        "    slope, intercept = pars\n",
        "    y = line(intercept, slope, x)\n",
        "    ax.plot(x, y, ls=symbol, c=color, label=label, alpha=alpha)\n",
        "\n",
        "\n",
        "ax = pl.figure(figsize=(10,10)).add_subplot(111)\n",
        "\n",
        "for f in grbAG[\"filter\"].unique():\n",
        "    pl.errorbar(grbAG.loc[grbAG[\"filter\"] == f, \"logtime\"], \n",
        "                grbAG.loc[grbAG[\"filter\"] == f, \"mag\"], \n",
        "                yerr=grbAG.loc[grbAG[\"filter\"] == f, \"magerr\"], fmt='.', ms=0,\n",
        "                fcolor=None, label=None)\n",
        "    \n",
        "# replot to add a better marker (optional)\n",
        "for f in grbAG[\"filter\"].unique():\n",
        "    pl.scatter(grbAG.loc[grbAG[\"filter\"] == f, \"logtime\"], \n",
        "               grbAG.loc[grbAG[\"filter\"] == f, \"mag\"], \n",
        "               alpha=1, s=100, linewidth=2,\n",
        "               edgecolor='#cccccc', label=None)\n",
        "    \n",
        "\n",
        "# plot the upperlimits as arrows\n",
        "nuplim = grbAG.mag.isna().sum()\n",
        "for i in grbAG[grbAG.upperlimit == 1].index:\n",
        "    pl.arrow(grbAG.loc[i].logtime, \n",
        "             grbAG.loc[i].magerr, 0, 2, \n",
        "            head_width=0.05, head_length=0.1, ec='k')\n",
        "    \n",
        "#plotting models\n",
        "#use Kelley colors for maximum readability\n",
        "#https://gist.github.com/ollieglass/f6ddd781eeae1d24e391265432297538\n",
        "colors = ['C2B280', '848482', '008856', 'E68FAC', '0067A5', 'F99379', \n",
        "          '604E97', 'F6A600', 'B3446C', \n",
        "          'DCD300', '882D17', '8DB600', '654522', 'E25822', '2B3D26',\n",
        "          '222222', 'F3C300', '875692', 'F38400', 'A1CAF1', 'BE0032', ]\n",
        "#normal equation\n",
        "plotline((lr.coef_[1], lr.intercept_), grbAG.logtime.values, \n",
        "         color='#'+colors[0], \n",
        "         label=\"Normal Equation\", ax=ax)\n",
        "#sklearn\n",
        "plotline((theta_best[::-1]), grbAG.logtime,  \n",
        "         color='#'+colors[2], symbol='-',\n",
        "         label=\"sklearn LinearRegression\", ax=ax)\n",
        "#minimize L1\n",
        "plotline((l1Solution.x[::-1]), grbAG.logtime,  \n",
        "         symbol=':',\n",
        "         label=\"L1 minimization\", ax=ax)\n",
        "#minimize L2\n",
        "plotline((l2Solution.x[::-1]), grbAG.logtime,  \n",
        "         symbol='--',\n",
        "         label=\"L2 minimization\", ax=ax)\n",
        "#minimize chi2\n",
        "plotline((chi2Solution.x[::-1]), grbAG.logtime, \n",
        "         color='#'+colors[3], symbol='-.',\n",
        "         label=r\"$\\chi^2$ minimization\", ax=ax)\n",
        "\n",
        "pl.legend()\n",
        "\n",
        "#with the LinearRegression object I can also do\n",
        "#pl.plot(grbAG.logtime, lr.predict(np.c_[np.ones((len(grbAG), 1)), grbAG.logtime]), 'k-')\n",
        "\n",
        "pl.ylim(24.5,11.7)\n",
        "pl.xlim(1.5, 6.5)\n",
        "pl.ylabel(\"magnitude\", fontsize=20)\n",
        "pl.xlabel(\"log time\", fontsize=20);"
      ],
      "execution_count": 89,
      "outputs": [
        {
          "output_type": "display_data",
          "data": {
            "image/png": "[encoded data removed]",
            "text/plain": [
              "<Figure size 720x720 with 1 Axes>"
            ]
          },
          "metadata": {
            "tags": []
          }
        }
      ]
    },
    {
      "cell_type": "markdown",
      "metadata": {
        "id": "I8RjvLIqe20f"
      },
      "source": [
        "\n",
        "Figure 2: Same as Figure 1, but with linear regression models plotted. The models correspond to the best fit line to the data (excluding upper limits) calculated analytically by solving the normal equation, by solving the fit analysitcally with sklearn.LinearRegression(), and by minimizing the objective functions L1 and Chi squared. The models are indicated in the legend."
      ]
    },
    {
      "cell_type": "markdown",
      "metadata": {
        "id": "xRkNz9Uce4GF"
      },
      "source": [
        "##Create a table with the results of each method"
      ]
    },
    {
      "cell_type": "markdown",
      "metadata": {
        "id": "UESIOo7QgHJG"
      },
      "source": [
        "| method                    | slope    | intercept |\n",
        "| -----------               |:--------:|----------:|\n",
        "| Normal Equation           | 2.51     |  8.58     |    \n",
        "|sklearn.LinearRegression()\t| 2.51     |\t8.58     |\n",
        "minimize L1\t                |2.64      |\t8.23     |\n",
        "minimize L2\t                |2.51      |\t8.58     |\n",
        "minimize chi2\t              |2.50      |\t8.58     |"
      ]
    },
    {
      "cell_type": "markdown",
      "metadata": {
        "id": "pf_DlOQVgL2U"
      },
      "source": [
        "##now try a broken power law with MCMC"
      ]
    },
    {
      "cell_type": "code",
      "metadata": {
        "id": "PsmZWI8Vk9_3",
        "colab": {
          "base_uri": "https://localhost:8080/"
        },
        "outputId": "7fbb9491-75f3-466f-9a95-a825a9be47b7"
      },
      "source": [
        "!pip install emcee"
      ],
      "execution_count": 90,
      "outputs": [
        {
          "output_type": "stream",
          "text": [
            "Requirement already satisfied: emcee in /usr/local/lib/python3.7/dist-packages (3.0.2)\n",
            "Requirement already satisfied: numpy in /usr/local/lib/python3.7/dist-packages (from emcee) (1.19.5)\n"
          ],
          "name": "stdout"
        }
      ]
    },
    {
      "cell_type": "code",
      "metadata": {
        "id": "TfK3DePrlAzS"
      },
      "source": [
        "import emcee"
      ],
      "execution_count": 91,
      "outputs": []
    },
    {
      "cell_type": "code",
      "metadata": {
        "id": "CNKI9lkKgomr",
        "outputId": "8e065f98-02ef-4a8a-cf21-fff7869720b7",
        "colab": {
          "base_uri": "https://localhost:8080/"
        }
      },
      "source": [
        "emcee"
      ],
      "execution_count": 92,
      "outputs": [
        {
          "output_type": "execute_result",
          "data": {
            "text/plain": [
              "<module 'emcee' from '/usr/local/lib/python3.7/dist-packages/emcee/__init__.py'>"
            ]
          },
          "metadata": {
            "tags": []
          },
          "execution_count": 92
        }
      ]
    },
    {
      "cell_type": "code",
      "metadata": {
        "id": "TgyR-vselClV"
      },
      "source": [
        "def log_prior(theta):\n",
        "  slope, intercept = theta\n",
        "  if slope > 0 and intercept > 0:\n",
        "     return 0\n",
        "  return -np.inf"
      ],
      "execution_count": 93,
      "outputs": []
    },
    {
      "cell_type": "code",
      "metadata": {
        "id": "FDkNLdBvljn-"
      },
      "source": [
        "def log_likelihood(theta, x, y, yerr):\n",
        "  slope, intercept = theta\n",
        "  return -np.sum(((y - line(intercept, slope, x))**2) / yerr**2)"
      ],
      "execution_count": 94,
      "outputs": []
    },
    {
      "cell_type": "code",
      "metadata": {
        "id": "GC7pEitqmMcC"
      },
      "source": [
        "def log_probability(theta, x, y, yerr):\n",
        "  lp = log_prior(theta)\n",
        "  if not np.isfinite(lp):\n",
        "    return -np.inf\n",
        "\n",
        "  return lp + log_likelihood(theta, x, y, yerr)\n"
      ],
      "execution_count": 95,
      "outputs": []
    },
    {
      "cell_type": "code",
      "metadata": {
        "id": "tWWsgpxNmqBi"
      },
      "source": [
        "#initial guess\n",
        "ig = [10, 1]"
      ],
      "execution_count": 96,
      "outputs": []
    },
    {
      "cell_type": "code",
      "metadata": {
        "id": "cZfTk-ggnfUB"
      },
      "source": [
        "#initialize walkers\n",
        "nwalkers = 32\n",
        "ndim = len(ig)"
      ],
      "execution_count": 97,
      "outputs": []
    },
    {
      "cell_type": "code",
      "metadata": {
        "id": "PF3PwqNKnhw5"
      },
      "source": [
        "pos = np.array(ig) + 1e-4 *np.random.randn(nwalkers, ndim)"
      ],
      "execution_count": 98,
      "outputs": []
    },
    {
      "cell_type": "code",
      "metadata": {
        "id": "fIapBGDKnyxw",
        "colab": {
          "base_uri": "https://localhost:8080/"
        },
        "outputId": "c682ed91-57eb-4462-d295-38fd661e057f"
      },
      "source": [
        "pos.shape"
      ],
      "execution_count": 99,
      "outputs": [
        {
          "output_type": "execute_result",
          "data": {
            "text/plain": [
              "(32, 2)"
            ]
          },
          "metadata": {
            "tags": []
          },
          "execution_count": 99
        }
      ]
    },
    {
      "cell_type": "code",
      "metadata": {
        "id": "5X96Ss3Dh9cu"
      },
      "source": [
        "sampler = emcee.EnsembleSampler(nwalkers, ndim, log_probability, args=(x, y, s))"
      ],
      "execution_count": 100,
      "outputs": []
    },
    {
      "cell_type": "code",
      "metadata": {
        "id": "bb-dQcDdiAJ2",
        "outputId": "d7d830c0-a1b6-4596-84c8-f8f4d025f630",
        "colab": {
          "base_uri": "https://localhost:8080/"
        }
      },
      "source": [
        "sampler.run_mcmc(pos, 5000, progress=True);"
      ],
      "execution_count": 101,
      "outputs": [
        {
          "output_type": "stream",
          "text": [
            "100%|██████████| 5000/5000 [00:06<00:00, 769.22it/s]\n"
          ],
          "name": "stderr"
        }
      ]
    },
    {
      "cell_type": "code",
      "metadata": {
        "id": "3w-QI4t1iEkf"
      },
      "source": [
        "samples = sampler.get_chain()"
      ],
      "execution_count": 102,
      "outputs": []
    },
    {
      "cell_type": "code",
      "metadata": {
        "id": "Md7uzyrgiLsm",
        "outputId": "d03a9c5a-669d-4add-f0ea-35662368ec3e",
        "colab": {
          "base_uri": "https://localhost:8080/"
        }
      },
      "source": [
        "samples.shape"
      ],
      "execution_count": 103,
      "outputs": [
        {
          "output_type": "execute_result",
          "data": {
            "text/plain": [
              "(5000, 32, 2)"
            ]
          },
          "metadata": {
            "tags": []
          },
          "execution_count": 103
        }
      ]
    },
    {
      "cell_type": "code",
      "metadata": {
        "id": "0I-8Dn2KiN84"
      },
      "source": [
        "flat_samples = sampler.get_chain(discard=100, thin=15, flat=True)"
      ],
      "execution_count": 105,
      "outputs": []
    }
  ]
}